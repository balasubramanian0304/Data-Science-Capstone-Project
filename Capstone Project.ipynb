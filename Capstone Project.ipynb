{
 "metadata": {
  "language_info": {
   "codemirror_mode": {
    "name": "ipython",
    "version": 3
   },
   "file_extension": ".py",
   "mimetype": "text/x-python",
   "name": "python",
   "nbconvert_exporter": "python",
   "pygments_lexer": "ipython3",
   "version": "3.9.2"
  },
  "orig_nbformat": 2,
  "kernelspec": {
   "name": "python392jvsc74a57bd06860f57af99ed338d7430b54e237c143f83864c1652154b34e6cedb950166303",
   "display_name": "Python 3.9.2 64-bit"
  },
  "metadata": {
   "interpreter": {
    "hash": "6860f57af99ed338d7430b54e237c143f83864c1652154b34e6cedb950166303"
   }
  }
 },
 "nbformat": 4,
 "nbformat_minor": 2,
 "cells": [
  {
   "cell_type": "code",
   "execution_count": 2,
   "metadata": {},
   "outputs": [],
   "source": [
    "import pandas as pd \n",
    "from bs4 import BeautifulSoup\n",
    "import requests\n",
    "from geopy.geocoders import Nominatim"
   ]
  },
  {
   "cell_type": "code",
   "execution_count": 3,
   "metadata": {},
   "outputs": [
    {
     "output_type": "stream",
     "name": "stdout",
     "text": [
      "Your credentails:\nCLIENT_ID: WQAEIEJSBV3TBDMRTRKPAQWIAGVMS4MOTDRILYGOME3YH31W\nCLIENT_SECRET:A0SHX4J5Z1Q4U52QS25QXTB352VZHTTAZVUW1NLMKYD3M2R5\nAccess Token: N1UEH5XOMCCMMCXCUH3XTQJIN1T3RUCQUVCKMBGE2JHBM0Z1\n"
     ]
    }
   ],
   "source": [
    "CLIENT_ID = 'WQAEIEJSBV3TBDMRTRKPAQWIAGVMS4MOTDRILYGOME3YH31W' # your Foursquare ID\n",
    "CLIENT_SECRET = 'A0SHX4J5Z1Q4U52QS25QXTB352VZHTTAZVUW1NLMKYD3M2R5' # your Foursquare Secret\n",
    "VERSION = '20180605' # Foursquare API version\n",
    "ACCESS_TOKEN = 'N1UEH5XOMCCMMCXCUH3XTQJIN1T3RUCQUVCKMBGE2JHBM0Z1'\n",
    "LIMIT = 100 # A default Foursquare API limit value\n",
    "print('Your credentails:')\n",
    "print('CLIENT_ID: ' + CLIENT_ID)\n",
    "print('CLIENT_SECRET:' + CLIENT_SECRET)\n",
    "print('Access Token:', ACCESS_TOKEN)"
   ]
  },
  {
   "cell_type": "code",
   "execution_count": 4,
   "metadata": {},
   "outputs": [
    {
     "output_type": "stream",
     "name": "stdout",
     "text": [
      "The coordinates of Atlanta is 33.7489924, -84.3902644\n"
     ]
    }
   ],
   "source": [
    "address = 'Atlanta'\n",
    "\n",
    "geolocator = Nominatim(user_agent='Atlanta Auto finder')\n",
    "location = geolocator.geocode(address)\n",
    "latitude = location.latitude\n",
    "longitude = location.longitude\n",
    "print('The coordinates of {} is {}, {}'.format(address, latitude, longitude))"
   ]
  },
  {
   "cell_type": "code",
   "execution_count": 5,
   "metadata": {},
   "outputs": [],
   "source": [
    "atlanta_latitude = latitude\n",
    "atlanta_longitude = longitude"
   ]
  },
  {
   "cell_type": "code",
   "execution_count": 6,
   "metadata": {},
   "outputs": [
    {
     "output_type": "execute_result",
     "data": {
      "text/plain": [
       "'https://api.foursquare.com/v2/venues/search?categoryId=56aa371be4b08b9a8d5734d3&client_id=WQAEIEJSBV3TBDMRTRKPAQWIAGVMS4MOTDRILYGOME3YH31W&client_secret=A0SHX4J5Z1Q4U52QS25QXTB352VZHTTAZVUW1NLMKYD3M2R5&v=20180605&ll=33.7489924,-84.3902644&radius=25000&limit=100'"
      ]
     },
     "metadata": {},
     "execution_count": 6
    }
   ],
   "source": [
    "radius = 25000\n",
    "\n",
    "url = 'https://api.foursquare.com/v2/venues/search?categoryId=56aa371be4b08b9a8d5734d3&client_id={}&client_secret={}&v={}&ll={},{}&radius={}&limit={}'.format(\n",
    "    CLIENT_ID, CLIENT_SECRET, VERSION, atlanta_latitude, atlanta_longitude, radius, LIMIT)\n",
    "\n",
    "url"
   ]
  },
  {
   "cell_type": "code",
   "execution_count": 7,
   "metadata": {},
   "outputs": [],
   "source": [
    "results = requests.get(url).json()"
   ]
  },
  {
   "cell_type": "code",
   "execution_count": 8,
   "metadata": {},
   "outputs": [
    {
     "output_type": "execute_result",
     "data": {
      "text/plain": [
       "{'id': '57d6aba1498e4ecc06bb0afc',\n",
       " 'name': 'Mr. Tire Auto Service Centers',\n",
       " 'location': {'address': '6258 Roswell Rd',\n",
       "  'lat': 33.92603004,\n",
       "  'lng': -84.37963412,\n",
       "  'labeledLatLngs': [{'label': 'display',\n",
       "    'lat': 33.92603004,\n",
       "    'lng': -84.37963412},\n",
       "   {'label': 'entrance', 'lat': 33.92597, 'lng': -84.379382}],\n",
       "  'distance': 19732,\n",
       "  'postalCode': '30328',\n",
       "  'cc': 'US',\n",
       "  'city': 'Sandy Springs',\n",
       "  'state': 'GA',\n",
       "  'country': 'United States',\n",
       "  'formattedAddress': ['6258 Roswell Rd',\n",
       "   'Sandy Springs, GA 30328',\n",
       "   'United States']},\n",
       " 'categories': [{'id': '4bf58dd8d48988d124951735',\n",
       "   'name': 'Automotive Shop',\n",
       "   'pluralName': 'Automotive Shops',\n",
       "   'shortName': 'Automotive',\n",
       "   'icon': {'prefix': 'https://ss3.4sqi.net/img/categories_v2/shops/automotive_',\n",
       "    'suffix': '.png'},\n",
       "   'primary': True}],\n",
       " 'venuePage': {'id': '578373712'},\n",
       " 'referralId': 'v-1621324396',\n",
       " 'hasPerk': False}"
      ]
     },
     "metadata": {},
     "execution_count": 8
    }
   ],
   "source": [
    "results['response']['venues'][0]"
   ]
  },
  {
   "cell_type": "code",
   "execution_count": 9,
   "metadata": {},
   "outputs": [],
   "source": [
    "from pandas.io.json import json_normalize"
   ]
  },
  {
   "cell_type": "code",
   "execution_count": 10,
   "metadata": {},
   "outputs": [],
   "source": [
    "Atlanta_workshop_df = results['response']['venues']"
   ]
  },
  {
   "cell_type": "code",
   "execution_count": 11,
   "metadata": {},
   "outputs": [
    {
     "output_type": "stream",
     "name": "stderr",
     "text": [
      "<ipython-input-11-b43693239156>:1: FutureWarning: pandas.io.json.json_normalize is deprecated, use pandas.json_normalize instead\n  atlanta_html_df = json_normalize(Atlanta_workshop_df)\n"
     ]
    }
   ],
   "source": [
    "atlanta_html_df = json_normalize(Atlanta_workshop_df)"
   ]
  },
  {
   "cell_type": "code",
   "execution_count": 12,
   "metadata": {},
   "outputs": [
    {
     "output_type": "execute_result",
     "data": {
      "text/plain": [
       "                         id                               name  \\\n",
       "0  57d6aba1498e4ecc06bb0afc      Mr. Tire Auto Service Centers   \n",
       "1  58c19439e9dad103b4e525ba  Nalley Collision Center Doraville   \n",
       "\n",
       "                                          categories    referralId  hasPerk  \\\n",
       "0  [{'id': '4bf58dd8d48988d124951735', 'name': 'A...  v-1621324396    False   \n",
       "1  [{'id': '56aa371be4b08b9a8d5734d3', 'name': 'A...  v-1621324396    False   \n",
       "\n",
       "  location.address  location.lat  location.lng  \\\n",
       "0  6258 Roswell Rd     33.926030    -84.379634   \n",
       "1              NaN     33.907253    -84.285425   \n",
       "\n",
       "                             location.labeledLatLngs  location.distance  \\\n",
       "0  [{'label': 'display', 'lat': 33.92603004, 'lng...              19732   \n",
       "1  [{'label': 'display', 'lat': 33.907253, 'lng':...              20108   \n",
       "\n",
       "  location.postalCode location.cc  location.city location.state  \\\n",
       "0               30328          US  Sandy Springs             GA   \n",
       "1                 NaN          US      Doraville             GA   \n",
       "\n",
       "  location.country                          location.formattedAddress  \\\n",
       "0    United States  [6258 Roswell Rd, Sandy Springs, GA 30328, Uni...   \n",
       "1    United States                     [Doraville, GA, United States]   \n",
       "\n",
       "  venuePage.id location.crossStreet  \n",
       "0    578373712                  NaN  \n",
       "1          NaN                  NaN  "
      ],
      "text/html": "<div>\n<style scoped>\n    .dataframe tbody tr th:only-of-type {\n        vertical-align: middle;\n    }\n\n    .dataframe tbody tr th {\n        vertical-align: top;\n    }\n\n    .dataframe thead th {\n        text-align: right;\n    }\n</style>\n<table border=\"1\" class=\"dataframe\">\n  <thead>\n    <tr style=\"text-align: right;\">\n      <th></th>\n      <th>id</th>\n      <th>name</th>\n      <th>categories</th>\n      <th>referralId</th>\n      <th>hasPerk</th>\n      <th>location.address</th>\n      <th>location.lat</th>\n      <th>location.lng</th>\n      <th>location.labeledLatLngs</th>\n      <th>location.distance</th>\n      <th>location.postalCode</th>\n      <th>location.cc</th>\n      <th>location.city</th>\n      <th>location.state</th>\n      <th>location.country</th>\n      <th>location.formattedAddress</th>\n      <th>venuePage.id</th>\n      <th>location.crossStreet</th>\n    </tr>\n  </thead>\n  <tbody>\n    <tr>\n      <th>0</th>\n      <td>57d6aba1498e4ecc06bb0afc</td>\n      <td>Mr. Tire Auto Service Centers</td>\n      <td>[{'id': '4bf58dd8d48988d124951735', 'name': 'A...</td>\n      <td>v-1621324396</td>\n      <td>False</td>\n      <td>6258 Roswell Rd</td>\n      <td>33.926030</td>\n      <td>-84.379634</td>\n      <td>[{'label': 'display', 'lat': 33.92603004, 'lng...</td>\n      <td>19732</td>\n      <td>30328</td>\n      <td>US</td>\n      <td>Sandy Springs</td>\n      <td>GA</td>\n      <td>United States</td>\n      <td>[6258 Roswell Rd, Sandy Springs, GA 30328, Uni...</td>\n      <td>578373712</td>\n      <td>NaN</td>\n    </tr>\n    <tr>\n      <th>1</th>\n      <td>58c19439e9dad103b4e525ba</td>\n      <td>Nalley Collision Center Doraville</td>\n      <td>[{'id': '56aa371be4b08b9a8d5734d3', 'name': 'A...</td>\n      <td>v-1621324396</td>\n      <td>False</td>\n      <td>NaN</td>\n      <td>33.907253</td>\n      <td>-84.285425</td>\n      <td>[{'label': 'display', 'lat': 33.907253, 'lng':...</td>\n      <td>20108</td>\n      <td>NaN</td>\n      <td>US</td>\n      <td>Doraville</td>\n      <td>GA</td>\n      <td>United States</td>\n      <td>[Doraville, GA, United States]</td>\n      <td>NaN</td>\n      <td>NaN</td>\n    </tr>\n  </tbody>\n</table>\n</div>"
     },
     "metadata": {},
     "execution_count": 12
    }
   ],
   "source": [
    "atlanta_html_df.head(2)"
   ]
  },
  {
   "cell_type": "code",
   "execution_count": 13,
   "metadata": {},
   "outputs": [
    {
     "output_type": "execute_result",
     "data": {
      "text/plain": [
       "                         id                               name  \\\n",
       "0  57d6aba1498e4ecc06bb0afc      Mr. Tire Auto Service Centers   \n",
       "1  58c19439e9dad103b4e525ba  Nalley Collision Center Doraville   \n",
       "2  6048d78d9c60e93a5d3b479b              Unique Auto Body Shop   \n",
       "3  5b377e8e840fc2002cfdc78f           Jim Ellis Mazda Marietta   \n",
       "4  5a849e7ff00a7027eebec016                      85 Automotive   \n",
       "\n",
       "                                          categories  location.lat  \\\n",
       "0  [{'id': '4bf58dd8d48988d124951735', 'name': 'A...     33.926030   \n",
       "1  [{'id': '56aa371be4b08b9a8d5734d3', 'name': 'A...     33.907253   \n",
       "2  [{'id': '56aa371be4b08b9a8d5734d3', 'name': 'A...     33.897463   \n",
       "3  [{'id': '56aa371be4b08b9a8d5734d3', 'name': 'A...     33.911224   \n",
       "4  [{'id': '56aa371be4b08b9a8d5734d3', 'name': 'A...     33.498769   \n",
       "\n",
       "   location.lng  location.city  \n",
       "0    -84.379634  Sandy Springs  \n",
       "1    -84.285425      Doraville  \n",
       "2    -84.280205      Doraville  \n",
       "3    -84.493885       Marietta  \n",
       "4    -84.436424   Fayetteville  "
      ],
      "text/html": "<div>\n<style scoped>\n    .dataframe tbody tr th:only-of-type {\n        vertical-align: middle;\n    }\n\n    .dataframe tbody tr th {\n        vertical-align: top;\n    }\n\n    .dataframe thead th {\n        text-align: right;\n    }\n</style>\n<table border=\"1\" class=\"dataframe\">\n  <thead>\n    <tr style=\"text-align: right;\">\n      <th></th>\n      <th>id</th>\n      <th>name</th>\n      <th>categories</th>\n      <th>location.lat</th>\n      <th>location.lng</th>\n      <th>location.city</th>\n    </tr>\n  </thead>\n  <tbody>\n    <tr>\n      <th>0</th>\n      <td>57d6aba1498e4ecc06bb0afc</td>\n      <td>Mr. Tire Auto Service Centers</td>\n      <td>[{'id': '4bf58dd8d48988d124951735', 'name': 'A...</td>\n      <td>33.926030</td>\n      <td>-84.379634</td>\n      <td>Sandy Springs</td>\n    </tr>\n    <tr>\n      <th>1</th>\n      <td>58c19439e9dad103b4e525ba</td>\n      <td>Nalley Collision Center Doraville</td>\n      <td>[{'id': '56aa371be4b08b9a8d5734d3', 'name': 'A...</td>\n      <td>33.907253</td>\n      <td>-84.285425</td>\n      <td>Doraville</td>\n    </tr>\n    <tr>\n      <th>2</th>\n      <td>6048d78d9c60e93a5d3b479b</td>\n      <td>Unique Auto Body Shop</td>\n      <td>[{'id': '56aa371be4b08b9a8d5734d3', 'name': 'A...</td>\n      <td>33.897463</td>\n      <td>-84.280205</td>\n      <td>Doraville</td>\n    </tr>\n    <tr>\n      <th>3</th>\n      <td>5b377e8e840fc2002cfdc78f</td>\n      <td>Jim Ellis Mazda Marietta</td>\n      <td>[{'id': '56aa371be4b08b9a8d5734d3', 'name': 'A...</td>\n      <td>33.911224</td>\n      <td>-84.493885</td>\n      <td>Marietta</td>\n    </tr>\n    <tr>\n      <th>4</th>\n      <td>5a849e7ff00a7027eebec016</td>\n      <td>85 Automotive</td>\n      <td>[{'id': '56aa371be4b08b9a8d5734d3', 'name': 'A...</td>\n      <td>33.498769</td>\n      <td>-84.436424</td>\n      <td>Fayetteville</td>\n    </tr>\n  </tbody>\n</table>\n</div>"
     },
     "metadata": {},
     "execution_count": 13
    }
   ],
   "source": [
    "atlanta_html_df = atlanta_html_df[['id', 'name', 'categories', 'location.lat', 'location.lng', 'location.city']]\n",
    "atlanta_html_df.head()"
   ]
  },
  {
   "cell_type": "code",
   "execution_count": 14,
   "metadata": {},
   "outputs": [
    {
     "output_type": "execute_result",
     "data": {
      "text/plain": [
       "[{'id': '4bf58dd8d48988d124951735',\n",
       "  'name': 'Automotive Shop',\n",
       "  'pluralName': 'Automotive Shops',\n",
       "  'shortName': 'Automotive',\n",
       "  'icon': {'prefix': 'https://ss3.4sqi.net/img/categories_v2/shops/automotive_',\n",
       "   'suffix': '.png'},\n",
       "  'primary': True}]"
      ]
     },
     "metadata": {},
     "execution_count": 14
    }
   ],
   "source": [
    "atlanta_html_df['categories'][0]"
   ]
  },
  {
   "cell_type": "code",
   "execution_count": 15,
   "metadata": {},
   "outputs": [],
   "source": [
    "def get_category_type(row):\n",
    "    try:\n",
    "        categories_list = row['categories']\n",
    "    except:\n",
    "        categories_list = row['venue.categories']\n",
    "        \n",
    "    if len(categories_list) == 0:\n",
    "        return None\n",
    "    else:\n",
    "        return categories_list[0]['name']"
   ]
  },
  {
   "cell_type": "code",
   "execution_count": 16,
   "metadata": {},
   "outputs": [],
   "source": [
    "atlanta_html_df['categories'] = atlanta_html_df.apply(get_category_type, axis=1)"
   ]
  },
  {
   "cell_type": "code",
   "execution_count": 17,
   "metadata": {},
   "outputs": [
    {
     "output_type": "stream",
     "name": "stdout",
     "text": [
      "(38, 6)\n"
     ]
    },
    {
     "output_type": "execute_result",
     "data": {
      "text/plain": [
       "                         id                               name  \\\n",
       "0  57d6aba1498e4ecc06bb0afc      Mr. Tire Auto Service Centers   \n",
       "1  58c19439e9dad103b4e525ba  Nalley Collision Center Doraville   \n",
       "2  6048d78d9c60e93a5d3b479b              Unique Auto Body Shop   \n",
       "3  5b377e8e840fc2002cfdc78f           Jim Ellis Mazda Marietta   \n",
       "4  5a849e7ff00a7027eebec016                      85 Automotive   \n",
       "\n",
       "        categories  location.lat  location.lng  location.city  \n",
       "0  Automotive Shop     33.926030    -84.379634  Sandy Springs  \n",
       "1    Auto Workshop     33.907253    -84.285425      Doraville  \n",
       "2    Auto Workshop     33.897463    -84.280205      Doraville  \n",
       "3    Auto Workshop     33.911224    -84.493885       Marietta  \n",
       "4    Auto Workshop     33.498769    -84.436424   Fayetteville  "
      ],
      "text/html": "<div>\n<style scoped>\n    .dataframe tbody tr th:only-of-type {\n        vertical-align: middle;\n    }\n\n    .dataframe tbody tr th {\n        vertical-align: top;\n    }\n\n    .dataframe thead th {\n        text-align: right;\n    }\n</style>\n<table border=\"1\" class=\"dataframe\">\n  <thead>\n    <tr style=\"text-align: right;\">\n      <th></th>\n      <th>id</th>\n      <th>name</th>\n      <th>categories</th>\n      <th>location.lat</th>\n      <th>location.lng</th>\n      <th>location.city</th>\n    </tr>\n  </thead>\n  <tbody>\n    <tr>\n      <th>0</th>\n      <td>57d6aba1498e4ecc06bb0afc</td>\n      <td>Mr. Tire Auto Service Centers</td>\n      <td>Automotive Shop</td>\n      <td>33.926030</td>\n      <td>-84.379634</td>\n      <td>Sandy Springs</td>\n    </tr>\n    <tr>\n      <th>1</th>\n      <td>58c19439e9dad103b4e525ba</td>\n      <td>Nalley Collision Center Doraville</td>\n      <td>Auto Workshop</td>\n      <td>33.907253</td>\n      <td>-84.285425</td>\n      <td>Doraville</td>\n    </tr>\n    <tr>\n      <th>2</th>\n      <td>6048d78d9c60e93a5d3b479b</td>\n      <td>Unique Auto Body Shop</td>\n      <td>Auto Workshop</td>\n      <td>33.897463</td>\n      <td>-84.280205</td>\n      <td>Doraville</td>\n    </tr>\n    <tr>\n      <th>3</th>\n      <td>5b377e8e840fc2002cfdc78f</td>\n      <td>Jim Ellis Mazda Marietta</td>\n      <td>Auto Workshop</td>\n      <td>33.911224</td>\n      <td>-84.493885</td>\n      <td>Marietta</td>\n    </tr>\n    <tr>\n      <th>4</th>\n      <td>5a849e7ff00a7027eebec016</td>\n      <td>85 Automotive</td>\n      <td>Auto Workshop</td>\n      <td>33.498769</td>\n      <td>-84.436424</td>\n      <td>Fayetteville</td>\n    </tr>\n  </tbody>\n</table>\n</div>"
     },
     "metadata": {},
     "execution_count": 17
    }
   ],
   "source": [
    "print(atlanta_html_df.shape)\n",
    "atlanta_html_df.head()"
   ]
  },
  {
   "cell_type": "code",
   "execution_count": 18,
   "metadata": {},
   "outputs": [
    {
     "output_type": "execute_result",
     "data": {
      "text/plain": [
       "                         id                               name  \\\n",
       "0  57d6aba1498e4ecc06bb0afc      Mr. Tire Auto Service Centers   \n",
       "1  58c19439e9dad103b4e525ba  Nalley Collision Center Doraville   \n",
       "2  6048d78d9c60e93a5d3b479b              Unique Auto Body Shop   \n",
       "3  5b377e8e840fc2002cfdc78f           Jim Ellis Mazda Marietta   \n",
       "4  5a849e7ff00a7027eebec016                      85 Automotive   \n",
       "\n",
       "        categories  location.lat  location.lng  location.city  \n",
       "0  Automotive Shop     33.926030    -84.379634  Sandy Springs  \n",
       "1    Auto Workshop     33.907253    -84.285425      Doraville  \n",
       "2    Auto Workshop     33.897463    -84.280205      Doraville  \n",
       "3    Auto Workshop     33.911224    -84.493885       Marietta  \n",
       "4    Auto Workshop     33.498769    -84.436424   Fayetteville  "
      ],
      "text/html": "<div>\n<style scoped>\n    .dataframe tbody tr th:only-of-type {\n        vertical-align: middle;\n    }\n\n    .dataframe tbody tr th {\n        vertical-align: top;\n    }\n\n    .dataframe thead th {\n        text-align: right;\n    }\n</style>\n<table border=\"1\" class=\"dataframe\">\n  <thead>\n    <tr style=\"text-align: right;\">\n      <th></th>\n      <th>id</th>\n      <th>name</th>\n      <th>categories</th>\n      <th>location.lat</th>\n      <th>location.lng</th>\n      <th>location.city</th>\n    </tr>\n  </thead>\n  <tbody>\n    <tr>\n      <th>0</th>\n      <td>57d6aba1498e4ecc06bb0afc</td>\n      <td>Mr. Tire Auto Service Centers</td>\n      <td>Automotive Shop</td>\n      <td>33.926030</td>\n      <td>-84.379634</td>\n      <td>Sandy Springs</td>\n    </tr>\n    <tr>\n      <th>1</th>\n      <td>58c19439e9dad103b4e525ba</td>\n      <td>Nalley Collision Center Doraville</td>\n      <td>Auto Workshop</td>\n      <td>33.907253</td>\n      <td>-84.285425</td>\n      <td>Doraville</td>\n    </tr>\n    <tr>\n      <th>2</th>\n      <td>6048d78d9c60e93a5d3b479b</td>\n      <td>Unique Auto Body Shop</td>\n      <td>Auto Workshop</td>\n      <td>33.897463</td>\n      <td>-84.280205</td>\n      <td>Doraville</td>\n    </tr>\n    <tr>\n      <th>3</th>\n      <td>5b377e8e840fc2002cfdc78f</td>\n      <td>Jim Ellis Mazda Marietta</td>\n      <td>Auto Workshop</td>\n      <td>33.911224</td>\n      <td>-84.493885</td>\n      <td>Marietta</td>\n    </tr>\n    <tr>\n      <th>4</th>\n      <td>5a849e7ff00a7027eebec016</td>\n      <td>85 Automotive</td>\n      <td>Auto Workshop</td>\n      <td>33.498769</td>\n      <td>-84.436424</td>\n      <td>Fayetteville</td>\n    </tr>\n  </tbody>\n</table>\n</div>"
     },
     "metadata": {},
     "execution_count": 18
    }
   ],
   "source": [
    "atlanta_workshop_df = atlanta_html_df\n",
    "atlanta_workshop_df.head()"
   ]
  },
  {
   "cell_type": "code",
   "execution_count": 19,
   "metadata": {},
   "outputs": [],
   "source": [
    "atlanta_workshop_df.rename(columns={'id':'Id', 'name':'Name', 'categories':'Categories', 'location.lat':'Latitude', 'location.lng':'Longitude', 'location.city':'City'}, inplace=True)"
   ]
  },
  {
   "cell_type": "code",
   "execution_count": 20,
   "metadata": {},
   "outputs": [
    {
     "output_type": "execute_result",
     "data": {
      "text/plain": [
       "                         Id                               Name  \\\n",
       "0  57d6aba1498e4ecc06bb0afc      Mr. Tire Auto Service Centers   \n",
       "1  58c19439e9dad103b4e525ba  Nalley Collision Center Doraville   \n",
       "2  6048d78d9c60e93a5d3b479b              Unique Auto Body Shop   \n",
       "3  5b377e8e840fc2002cfdc78f           Jim Ellis Mazda Marietta   \n",
       "4  5a849e7ff00a7027eebec016                      85 Automotive   \n",
       "5  57b5cdab498e0f166a705e55                         ACC Garage   \n",
       "6  5f52bfb5cf74b37227b523b8                   Driven Collision   \n",
       "7  4c758c92ff1fb60cae8af6a7                    Munich West Inc   \n",
       "8  578d276c498ed96114d44bc8       Firestone Complete Auto Care   \n",
       "9  5bc5db1e46e1b6002c5ed865                  Eurofed - Atlanta   \n",
       "\n",
       "        Categories   Latitude  Longitude           City  \n",
       "0  Automotive Shop  33.926030 -84.379634  Sandy Springs  \n",
       "1    Auto Workshop  33.907253 -84.285425      Doraville  \n",
       "2    Auto Workshop  33.897463 -84.280205      Doraville  \n",
       "3    Auto Workshop  33.911224 -84.493885       Marietta  \n",
       "4    Auto Workshop  33.498769 -84.436424   Fayetteville  \n",
       "5    Auto Workshop  33.763641 -84.531013        Atlanta  \n",
       "6    Auto Workshop  33.896662 -84.539914         Smyrna  \n",
       "7    Auto Workshop  33.793944 -84.270471        Decatur  \n",
       "8  Automotive Shop  33.842290 -84.243754         Tucker  \n",
       "9    Auto Workshop  33.906532 -84.296420        Atlanta  "
      ],
      "text/html": "<div>\n<style scoped>\n    .dataframe tbody tr th:only-of-type {\n        vertical-align: middle;\n    }\n\n    .dataframe tbody tr th {\n        vertical-align: top;\n    }\n\n    .dataframe thead th {\n        text-align: right;\n    }\n</style>\n<table border=\"1\" class=\"dataframe\">\n  <thead>\n    <tr style=\"text-align: right;\">\n      <th></th>\n      <th>Id</th>\n      <th>Name</th>\n      <th>Categories</th>\n      <th>Latitude</th>\n      <th>Longitude</th>\n      <th>City</th>\n    </tr>\n  </thead>\n  <tbody>\n    <tr>\n      <th>0</th>\n      <td>57d6aba1498e4ecc06bb0afc</td>\n      <td>Mr. Tire Auto Service Centers</td>\n      <td>Automotive Shop</td>\n      <td>33.926030</td>\n      <td>-84.379634</td>\n      <td>Sandy Springs</td>\n    </tr>\n    <tr>\n      <th>1</th>\n      <td>58c19439e9dad103b4e525ba</td>\n      <td>Nalley Collision Center Doraville</td>\n      <td>Auto Workshop</td>\n      <td>33.907253</td>\n      <td>-84.285425</td>\n      <td>Doraville</td>\n    </tr>\n    <tr>\n      <th>2</th>\n      <td>6048d78d9c60e93a5d3b479b</td>\n      <td>Unique Auto Body Shop</td>\n      <td>Auto Workshop</td>\n      <td>33.897463</td>\n      <td>-84.280205</td>\n      <td>Doraville</td>\n    </tr>\n    <tr>\n      <th>3</th>\n      <td>5b377e8e840fc2002cfdc78f</td>\n      <td>Jim Ellis Mazda Marietta</td>\n      <td>Auto Workshop</td>\n      <td>33.911224</td>\n      <td>-84.493885</td>\n      <td>Marietta</td>\n    </tr>\n    <tr>\n      <th>4</th>\n      <td>5a849e7ff00a7027eebec016</td>\n      <td>85 Automotive</td>\n      <td>Auto Workshop</td>\n      <td>33.498769</td>\n      <td>-84.436424</td>\n      <td>Fayetteville</td>\n    </tr>\n    <tr>\n      <th>5</th>\n      <td>57b5cdab498e0f166a705e55</td>\n      <td>ACC Garage</td>\n      <td>Auto Workshop</td>\n      <td>33.763641</td>\n      <td>-84.531013</td>\n      <td>Atlanta</td>\n    </tr>\n    <tr>\n      <th>6</th>\n      <td>5f52bfb5cf74b37227b523b8</td>\n      <td>Driven Collision</td>\n      <td>Auto Workshop</td>\n      <td>33.896662</td>\n      <td>-84.539914</td>\n      <td>Smyrna</td>\n    </tr>\n    <tr>\n      <th>7</th>\n      <td>4c758c92ff1fb60cae8af6a7</td>\n      <td>Munich West Inc</td>\n      <td>Auto Workshop</td>\n      <td>33.793944</td>\n      <td>-84.270471</td>\n      <td>Decatur</td>\n    </tr>\n    <tr>\n      <th>8</th>\n      <td>578d276c498ed96114d44bc8</td>\n      <td>Firestone Complete Auto Care</td>\n      <td>Automotive Shop</td>\n      <td>33.842290</td>\n      <td>-84.243754</td>\n      <td>Tucker</td>\n    </tr>\n    <tr>\n      <th>9</th>\n      <td>5bc5db1e46e1b6002c5ed865</td>\n      <td>Eurofed - Atlanta</td>\n      <td>Auto Workshop</td>\n      <td>33.906532</td>\n      <td>-84.296420</td>\n      <td>Atlanta</td>\n    </tr>\n  </tbody>\n</table>\n</div>"
     },
     "metadata": {},
     "execution_count": 20
    }
   ],
   "source": [
    "atlanta_workshop_df.head(10)"
   ]
  },
  {
   "cell_type": "code",
   "execution_count": 21,
   "metadata": {},
   "outputs": [
    {
     "output_type": "execute_result",
     "data": {
      "text/plain": [
       "                                Name       Categories   Latitude  Longitude  \\\n",
       "0      Mr. Tire Auto Service Centers  Automotive Shop  33.926030 -84.379634   \n",
       "1  Nalley Collision Center Doraville    Auto Workshop  33.907253 -84.285425   \n",
       "2              Unique Auto Body Shop    Auto Workshop  33.897463 -84.280205   \n",
       "3           Jim Ellis Mazda Marietta    Auto Workshop  33.911224 -84.493885   \n",
       "4                      85 Automotive    Auto Workshop  33.498769 -84.436424   \n",
       "\n",
       "            City                        Id  \n",
       "0  Sandy Springs  57d6aba1498e4ecc06bb0afc  \n",
       "1      Doraville  58c19439e9dad103b4e525ba  \n",
       "2      Doraville  6048d78d9c60e93a5d3b479b  \n",
       "3       Marietta  5b377e8e840fc2002cfdc78f  \n",
       "4   Fayetteville  5a849e7ff00a7027eebec016  "
      ],
      "text/html": "<div>\n<style scoped>\n    .dataframe tbody tr th:only-of-type {\n        vertical-align: middle;\n    }\n\n    .dataframe tbody tr th {\n        vertical-align: top;\n    }\n\n    .dataframe thead th {\n        text-align: right;\n    }\n</style>\n<table border=\"1\" class=\"dataframe\">\n  <thead>\n    <tr style=\"text-align: right;\">\n      <th></th>\n      <th>Name</th>\n      <th>Categories</th>\n      <th>Latitude</th>\n      <th>Longitude</th>\n      <th>City</th>\n      <th>Id</th>\n    </tr>\n  </thead>\n  <tbody>\n    <tr>\n      <th>0</th>\n      <td>Mr. Tire Auto Service Centers</td>\n      <td>Automotive Shop</td>\n      <td>33.926030</td>\n      <td>-84.379634</td>\n      <td>Sandy Springs</td>\n      <td>57d6aba1498e4ecc06bb0afc</td>\n    </tr>\n    <tr>\n      <th>1</th>\n      <td>Nalley Collision Center Doraville</td>\n      <td>Auto Workshop</td>\n      <td>33.907253</td>\n      <td>-84.285425</td>\n      <td>Doraville</td>\n      <td>58c19439e9dad103b4e525ba</td>\n    </tr>\n    <tr>\n      <th>2</th>\n      <td>Unique Auto Body Shop</td>\n      <td>Auto Workshop</td>\n      <td>33.897463</td>\n      <td>-84.280205</td>\n      <td>Doraville</td>\n      <td>6048d78d9c60e93a5d3b479b</td>\n    </tr>\n    <tr>\n      <th>3</th>\n      <td>Jim Ellis Mazda Marietta</td>\n      <td>Auto Workshop</td>\n      <td>33.911224</td>\n      <td>-84.493885</td>\n      <td>Marietta</td>\n      <td>5b377e8e840fc2002cfdc78f</td>\n    </tr>\n    <tr>\n      <th>4</th>\n      <td>85 Automotive</td>\n      <td>Auto Workshop</td>\n      <td>33.498769</td>\n      <td>-84.436424</td>\n      <td>Fayetteville</td>\n      <td>5a849e7ff00a7027eebec016</td>\n    </tr>\n  </tbody>\n</table>\n</div>"
     },
     "metadata": {},
     "execution_count": 21
    }
   ],
   "source": [
    "atlanta_workshop_df = atlanta_workshop_df[['Name', 'Categories', 'Latitude', 'Longitude', 'City', 'Id']]\n",
    "atlanta_workshop_df.head()"
   ]
  },
  {
   "cell_type": "code",
   "execution_count": 22,
   "metadata": {},
   "outputs": [],
   "source": [
    "import folium"
   ]
  },
  {
   "cell_type": "code",
   "execution_count": 23,
   "metadata": {},
   "outputs": [
    {
     "output_type": "execute_result",
     "data": {
      "text/plain": [
       "<folium.folium.Map at 0x243c61974f0>"
      ],
      "text/html": "<div style=\"width:100%;\"><div style=\"position:relative;width:100%;height:0;padding-bottom:60%;\"><span style=\"color:#565656\">Make this Notebook Trusted to load map: File -> Trust Notebook</span><iframe src=\"about:blank\" style=\"position:absolute;width:100%;height:100%;left:0;top:0;border:none !important;\" data-html=%3C%21DOCTYPE%20html%3E%0A%3Chead%3E%20%20%20%20%0A%20%20%20%20%3Cmeta%20http-equiv%3D%22content-type%22%20content%3D%22text/html%3B%20charset%3DUTF-8%22%20/%3E%0A%20%20%20%20%3Cscript%3EL_PREFER_CANVAS%20%3D%20false%3B%20L_NO_TOUCH%20%3D%20false%3B%20L_DISABLE_3D%20%3D%20false%3B%3C/script%3E%0A%20%20%20%20%3Cscript%20src%3D%22https%3A//cdn.jsdelivr.net/npm/leaflet%401.2.0/dist/leaflet.js%22%3E%3C/script%3E%0A%20%20%20%20%3Cscript%20src%3D%22https%3A//ajax.googleapis.com/ajax/libs/jquery/1.11.1/jquery.min.js%22%3E%3C/script%3E%0A%20%20%20%20%3Cscript%20src%3D%22https%3A//maxcdn.bootstrapcdn.com/bootstrap/3.2.0/js/bootstrap.min.js%22%3E%3C/script%3E%0A%20%20%20%20%3Cscript%20src%3D%22https%3A//cdnjs.cloudflare.com/ajax/libs/Leaflet.awesome-markers/2.0.2/leaflet.awesome-markers.js%22%3E%3C/script%3E%0A%20%20%20%20%3Clink%20rel%3D%22stylesheet%22%20href%3D%22https%3A//cdn.jsdelivr.net/npm/leaflet%401.2.0/dist/leaflet.css%22/%3E%0A%20%20%20%20%3Clink%20rel%3D%22stylesheet%22%20href%3D%22https%3A//maxcdn.bootstrapcdn.com/bootstrap/3.2.0/css/bootstrap.min.css%22/%3E%0A%20%20%20%20%3Clink%20rel%3D%22stylesheet%22%20href%3D%22https%3A//maxcdn.bootstrapcdn.com/bootstrap/3.2.0/css/bootstrap-theme.min.css%22/%3E%0A%20%20%20%20%3Clink%20rel%3D%22stylesheet%22%20href%3D%22https%3A//maxcdn.bootstrapcdn.com/font-awesome/4.6.3/css/font-awesome.min.css%22/%3E%0A%20%20%20%20%3Clink%20rel%3D%22stylesheet%22%20href%3D%22https%3A//cdnjs.cloudflare.com/ajax/libs/Leaflet.awesome-markers/2.0.2/leaflet.awesome-markers.css%22/%3E%0A%20%20%20%20%3Clink%20rel%3D%22stylesheet%22%20href%3D%22https%3A//rawgit.com/python-visualization/folium/master/folium/templates/leaflet.awesome.rotate.css%22/%3E%0A%20%20%20%20%3Cstyle%3Ehtml%2C%20body%20%7Bwidth%3A%20100%25%3Bheight%3A%20100%25%3Bmargin%3A%200%3Bpadding%3A%200%3B%7D%3C/style%3E%0A%20%20%20%20%3Cstyle%3E%23map%20%7Bposition%3Aabsolute%3Btop%3A0%3Bbottom%3A0%3Bright%3A0%3Bleft%3A0%3B%7D%3C/style%3E%0A%20%20%20%20%0A%20%20%20%20%20%20%20%20%20%20%20%20%3Cstyle%3E%20%23map_60541c9221084dc4a2066ded7d15f039%20%7B%0A%20%20%20%20%20%20%20%20%20%20%20%20%20%20%20%20position%20%3A%20relative%3B%0A%20%20%20%20%20%20%20%20%20%20%20%20%20%20%20%20width%20%3A%20100.0%25%3B%0A%20%20%20%20%20%20%20%20%20%20%20%20%20%20%20%20height%3A%20100.0%25%3B%0A%20%20%20%20%20%20%20%20%20%20%20%20%20%20%20%20left%3A%200.0%25%3B%0A%20%20%20%20%20%20%20%20%20%20%20%20%20%20%20%20top%3A%200.0%25%3B%0A%20%20%20%20%20%20%20%20%20%20%20%20%20%20%20%20%7D%0A%20%20%20%20%20%20%20%20%20%20%20%20%3C/style%3E%0A%20%20%20%20%20%20%20%20%0A%3C/head%3E%0A%3Cbody%3E%20%20%20%20%0A%20%20%20%20%0A%20%20%20%20%20%20%20%20%20%20%20%20%3Cdiv%20class%3D%22folium-map%22%20id%3D%22map_60541c9221084dc4a2066ded7d15f039%22%20%3E%3C/div%3E%0A%20%20%20%20%20%20%20%20%0A%3C/body%3E%0A%3Cscript%3E%20%20%20%20%0A%20%20%20%20%0A%0A%20%20%20%20%20%20%20%20%20%20%20%20%0A%20%20%20%20%20%20%20%20%20%20%20%20%20%20%20%20var%20bounds%20%3D%20null%3B%0A%20%20%20%20%20%20%20%20%20%20%20%20%0A%0A%20%20%20%20%20%20%20%20%20%20%20%20var%20map_60541c9221084dc4a2066ded7d15f039%20%3D%20L.map%28%0A%20%20%20%20%20%20%20%20%20%20%20%20%20%20%20%20%20%20%20%20%20%20%20%20%20%20%20%20%20%20%20%20%20%20%27map_60541c9221084dc4a2066ded7d15f039%27%2C%0A%20%20%20%20%20%20%20%20%20%20%20%20%20%20%20%20%20%20%20%20%20%20%20%20%20%20%20%20%20%20%20%20%20%20%7Bcenter%3A%20%5B33.7489924%2C-84.3902644%5D%2C%0A%20%20%20%20%20%20%20%20%20%20%20%20%20%20%20%20%20%20%20%20%20%20%20%20%20%20%20%20%20%20%20%20%20%20zoom%3A%2010%2C%0A%20%20%20%20%20%20%20%20%20%20%20%20%20%20%20%20%20%20%20%20%20%20%20%20%20%20%20%20%20%20%20%20%20%20maxBounds%3A%20bounds%2C%0A%20%20%20%20%20%20%20%20%20%20%20%20%20%20%20%20%20%20%20%20%20%20%20%20%20%20%20%20%20%20%20%20%20%20layers%3A%20%5B%5D%2C%0A%20%20%20%20%20%20%20%20%20%20%20%20%20%20%20%20%20%20%20%20%20%20%20%20%20%20%20%20%20%20%20%20%20%20worldCopyJump%3A%20false%2C%0A%20%20%20%20%20%20%20%20%20%20%20%20%20%20%20%20%20%20%20%20%20%20%20%20%20%20%20%20%20%20%20%20%20%20crs%3A%20L.CRS.EPSG3857%0A%20%20%20%20%20%20%20%20%20%20%20%20%20%20%20%20%20%20%20%20%20%20%20%20%20%20%20%20%20%20%20%20%20%7D%29%3B%0A%20%20%20%20%20%20%20%20%20%20%20%20%0A%20%20%20%20%20%20%20%20%0A%20%20%20%20%0A%20%20%20%20%20%20%20%20%20%20%20%20var%20tile_layer_05b8f3669f354becb860bd9cf953f25d%20%3D%20L.tileLayer%28%0A%20%20%20%20%20%20%20%20%20%20%20%20%20%20%20%20%27https%3A//%7Bs%7D.tile.openstreetmap.org/%7Bz%7D/%7Bx%7D/%7By%7D.png%27%2C%0A%20%20%20%20%20%20%20%20%20%20%20%20%20%20%20%20%7B%0A%20%20%22attribution%22%3A%20null%2C%0A%20%20%22detectRetina%22%3A%20false%2C%0A%20%20%22maxZoom%22%3A%2018%2C%0A%20%20%22minZoom%22%3A%201%2C%0A%20%20%22noWrap%22%3A%20false%2C%0A%20%20%22subdomains%22%3A%20%22abc%22%0A%7D%0A%20%20%20%20%20%20%20%20%20%20%20%20%20%20%20%20%29.addTo%28map_60541c9221084dc4a2066ded7d15f039%29%3B%0A%20%20%20%20%20%20%20%20%0A%20%20%20%20%0A%20%20%20%20%20%20%20%20%20%20%20%20var%20circle_marker_29e24fdfb72e429b9e5bd89b0760c9d4%20%3D%20L.circleMarker%28%0A%20%20%20%20%20%20%20%20%20%20%20%20%20%20%20%20%5B33.92603004%2C-84.37963412%5D%2C%0A%20%20%20%20%20%20%20%20%20%20%20%20%20%20%20%20%7B%0A%20%20%22bubblingMouseEvents%22%3A%20true%2C%0A%20%20%22color%22%3A%20%22Blue%22%2C%0A%20%20%22dashArray%22%3A%20null%2C%0A%20%20%22dashOffset%22%3A%20null%2C%0A%20%20%22fill%22%3A%20true%2C%0A%20%20%22fillColor%22%3A%20%22%2390EE90%22%2C%0A%20%20%22fillOpacity%22%3A%200.7%2C%0A%20%20%22fillRule%22%3A%20%22evenodd%22%2C%0A%20%20%22lineCap%22%3A%20%22round%22%2C%0A%20%20%22lineJoin%22%3A%20%22round%22%2C%0A%20%20%22opacity%22%3A%201.0%2C%0A%20%20%22radius%22%3A%206%2C%0A%20%20%22stroke%22%3A%20true%2C%0A%20%20%22weight%22%3A%203%0A%7D%0A%20%20%20%20%20%20%20%20%20%20%20%20%20%20%20%20%29.addTo%28map_60541c9221084dc4a2066ded7d15f039%29%3B%0A%20%20%20%20%20%20%20%20%20%20%20%20%0A%20%20%20%20%0A%20%20%20%20%20%20%20%20%20%20%20%20var%20popup_b7a8a93f957444f9a3a49f4f01b77411%20%3D%20L.popup%28%7BmaxWidth%3A%20%27300%27%7D%29%3B%0A%0A%20%20%20%20%20%20%20%20%20%20%20%20%0A%20%20%20%20%20%20%20%20%20%20%20%20%20%20%20%20var%20html_900b843f5ee84858ac988b2700b5ee67%20%3D%20%24%28%27%3Cdiv%20id%3D%22html_900b843f5ee84858ac988b2700b5ee67%22%20style%3D%22width%3A%20100.0%25%3B%20height%3A%20100.0%25%3B%22%3EMr.%20Tire%20Auto%20Service%20Centers%2CSandy%20Springs%3C/div%3E%27%29%5B0%5D%3B%0A%20%20%20%20%20%20%20%20%20%20%20%20%20%20%20%20popup_b7a8a93f957444f9a3a49f4f01b77411.setContent%28html_900b843f5ee84858ac988b2700b5ee67%29%3B%0A%20%20%20%20%20%20%20%20%20%20%20%20%0A%0A%20%20%20%20%20%20%20%20%20%20%20%20circle_marker_29e24fdfb72e429b9e5bd89b0760c9d4.bindPopup%28popup_b7a8a93f957444f9a3a49f4f01b77411%29%3B%0A%0A%20%20%20%20%20%20%20%20%20%20%20%20%0A%20%20%20%20%20%20%20%20%0A%20%20%20%20%0A%20%20%20%20%20%20%20%20%20%20%20%20var%20circle_marker_e822991e1af34bb1ae3b99c5ec05cfe0%20%3D%20L.circleMarker%28%0A%20%20%20%20%20%20%20%20%20%20%20%20%20%20%20%20%5B33.907253%2C-84.285425%5D%2C%0A%20%20%20%20%20%20%20%20%20%20%20%20%20%20%20%20%7B%0A%20%20%22bubblingMouseEvents%22%3A%20true%2C%0A%20%20%22color%22%3A%20%22Blue%22%2C%0A%20%20%22dashArray%22%3A%20null%2C%0A%20%20%22dashOffset%22%3A%20null%2C%0A%20%20%22fill%22%3A%20true%2C%0A%20%20%22fillColor%22%3A%20%22%2390EE90%22%2C%0A%20%20%22fillOpacity%22%3A%200.7%2C%0A%20%20%22fillRule%22%3A%20%22evenodd%22%2C%0A%20%20%22lineCap%22%3A%20%22round%22%2C%0A%20%20%22lineJoin%22%3A%20%22round%22%2C%0A%20%20%22opacity%22%3A%201.0%2C%0A%20%20%22radius%22%3A%206%2C%0A%20%20%22stroke%22%3A%20true%2C%0A%20%20%22weight%22%3A%203%0A%7D%0A%20%20%20%20%20%20%20%20%20%20%20%20%20%20%20%20%29.addTo%28map_60541c9221084dc4a2066ded7d15f039%29%3B%0A%20%20%20%20%20%20%20%20%20%20%20%20%0A%20%20%20%20%0A%20%20%20%20%20%20%20%20%20%20%20%20var%20popup_32c2063977544aa2bc50a401d1ed0fb6%20%3D%20L.popup%28%7BmaxWidth%3A%20%27300%27%7D%29%3B%0A%0A%20%20%20%20%20%20%20%20%20%20%20%20%0A%20%20%20%20%20%20%20%20%20%20%20%20%20%20%20%20var%20html_66f3abc955a74b43bfa79643239d6d5f%20%3D%20%24%28%27%3Cdiv%20id%3D%22html_66f3abc955a74b43bfa79643239d6d5f%22%20style%3D%22width%3A%20100.0%25%3B%20height%3A%20100.0%25%3B%22%3ENalley%20Collision%20Center%20Doraville%2CDoraville%3C/div%3E%27%29%5B0%5D%3B%0A%20%20%20%20%20%20%20%20%20%20%20%20%20%20%20%20popup_32c2063977544aa2bc50a401d1ed0fb6.setContent%28html_66f3abc955a74b43bfa79643239d6d5f%29%3B%0A%20%20%20%20%20%20%20%20%20%20%20%20%0A%0A%20%20%20%20%20%20%20%20%20%20%20%20circle_marker_e822991e1af34bb1ae3b99c5ec05cfe0.bindPopup%28popup_32c2063977544aa2bc50a401d1ed0fb6%29%3B%0A%0A%20%20%20%20%20%20%20%20%20%20%20%20%0A%20%20%20%20%20%20%20%20%0A%20%20%20%20%0A%20%20%20%20%20%20%20%20%20%20%20%20var%20circle_marker_d762e9baa75f44eb825bebb917c52e2d%20%3D%20L.circleMarker%28%0A%20%20%20%20%20%20%20%20%20%20%20%20%20%20%20%20%5B33.897463%2C-84.280205%5D%2C%0A%20%20%20%20%20%20%20%20%20%20%20%20%20%20%20%20%7B%0A%20%20%22bubblingMouseEvents%22%3A%20true%2C%0A%20%20%22color%22%3A%20%22Blue%22%2C%0A%20%20%22dashArray%22%3A%20null%2C%0A%20%20%22dashOffset%22%3A%20null%2C%0A%20%20%22fill%22%3A%20true%2C%0A%20%20%22fillColor%22%3A%20%22%2390EE90%22%2C%0A%20%20%22fillOpacity%22%3A%200.7%2C%0A%20%20%22fillRule%22%3A%20%22evenodd%22%2C%0A%20%20%22lineCap%22%3A%20%22round%22%2C%0A%20%20%22lineJoin%22%3A%20%22round%22%2C%0A%20%20%22opacity%22%3A%201.0%2C%0A%20%20%22radius%22%3A%206%2C%0A%20%20%22stroke%22%3A%20true%2C%0A%20%20%22weight%22%3A%203%0A%7D%0A%20%20%20%20%20%20%20%20%20%20%20%20%20%20%20%20%29.addTo%28map_60541c9221084dc4a2066ded7d15f039%29%3B%0A%20%20%20%20%20%20%20%20%20%20%20%20%0A%20%20%20%20%0A%20%20%20%20%20%20%20%20%20%20%20%20var%20popup_d30217e401ba4f7aba25c676ac37e9fb%20%3D%20L.popup%28%7BmaxWidth%3A%20%27300%27%7D%29%3B%0A%0A%20%20%20%20%20%20%20%20%20%20%20%20%0A%20%20%20%20%20%20%20%20%20%20%20%20%20%20%20%20var%20html_e7fa21a5399645b080ba45b29049d7a8%20%3D%20%24%28%27%3Cdiv%20id%3D%22html_e7fa21a5399645b080ba45b29049d7a8%22%20style%3D%22width%3A%20100.0%25%3B%20height%3A%20100.0%25%3B%22%3EUnique%20Auto%20Body%20Shop%2CDoraville%3C/div%3E%27%29%5B0%5D%3B%0A%20%20%20%20%20%20%20%20%20%20%20%20%20%20%20%20popup_d30217e401ba4f7aba25c676ac37e9fb.setContent%28html_e7fa21a5399645b080ba45b29049d7a8%29%3B%0A%20%20%20%20%20%20%20%20%20%20%20%20%0A%0A%20%20%20%20%20%20%20%20%20%20%20%20circle_marker_d762e9baa75f44eb825bebb917c52e2d.bindPopup%28popup_d30217e401ba4f7aba25c676ac37e9fb%29%3B%0A%0A%20%20%20%20%20%20%20%20%20%20%20%20%0A%20%20%20%20%20%20%20%20%0A%20%20%20%20%0A%20%20%20%20%20%20%20%20%20%20%20%20var%20circle_marker_4c68ee0be407454ab137cfedf194f965%20%3D%20L.circleMarker%28%0A%20%20%20%20%20%20%20%20%20%20%20%20%20%20%20%20%5B33.911224%2C-84.49388499999999%5D%2C%0A%20%20%20%20%20%20%20%20%20%20%20%20%20%20%20%20%7B%0A%20%20%22bubblingMouseEvents%22%3A%20true%2C%0A%20%20%22color%22%3A%20%22Blue%22%2C%0A%20%20%22dashArray%22%3A%20null%2C%0A%20%20%22dashOffset%22%3A%20null%2C%0A%20%20%22fill%22%3A%20true%2C%0A%20%20%22fillColor%22%3A%20%22%2390EE90%22%2C%0A%20%20%22fillOpacity%22%3A%200.7%2C%0A%20%20%22fillRule%22%3A%20%22evenodd%22%2C%0A%20%20%22lineCap%22%3A%20%22round%22%2C%0A%20%20%22lineJoin%22%3A%20%22round%22%2C%0A%20%20%22opacity%22%3A%201.0%2C%0A%20%20%22radius%22%3A%206%2C%0A%20%20%22stroke%22%3A%20true%2C%0A%20%20%22weight%22%3A%203%0A%7D%0A%20%20%20%20%20%20%20%20%20%20%20%20%20%20%20%20%29.addTo%28map_60541c9221084dc4a2066ded7d15f039%29%3B%0A%20%20%20%20%20%20%20%20%20%20%20%20%0A%20%20%20%20%0A%20%20%20%20%20%20%20%20%20%20%20%20var%20popup_71bc0dff000e4bff8af50d70746d33ba%20%3D%20L.popup%28%7BmaxWidth%3A%20%27300%27%7D%29%3B%0A%0A%20%20%20%20%20%20%20%20%20%20%20%20%0A%20%20%20%20%20%20%20%20%20%20%20%20%20%20%20%20var%20html_38b59feb34cd4038979308d799af1f0b%20%3D%20%24%28%27%3Cdiv%20id%3D%22html_38b59feb34cd4038979308d799af1f0b%22%20style%3D%22width%3A%20100.0%25%3B%20height%3A%20100.0%25%3B%22%3EJim%20Ellis%20Mazda%20Marietta%2CMarietta%3C/div%3E%27%29%5B0%5D%3B%0A%20%20%20%20%20%20%20%20%20%20%20%20%20%20%20%20popup_71bc0dff000e4bff8af50d70746d33ba.setContent%28html_38b59feb34cd4038979308d799af1f0b%29%3B%0A%20%20%20%20%20%20%20%20%20%20%20%20%0A%0A%20%20%20%20%20%20%20%20%20%20%20%20circle_marker_4c68ee0be407454ab137cfedf194f965.bindPopup%28popup_71bc0dff000e4bff8af50d70746d33ba%29%3B%0A%0A%20%20%20%20%20%20%20%20%20%20%20%20%0A%20%20%20%20%20%20%20%20%0A%20%20%20%20%0A%20%20%20%20%20%20%20%20%20%20%20%20var%20circle_marker_2c06ac94fea640a5b6dce3361dc7691d%20%3D%20L.circleMarker%28%0A%20%20%20%20%20%20%20%20%20%20%20%20%20%20%20%20%5B33.4987686154144%2C-84.43642363616898%5D%2C%0A%20%20%20%20%20%20%20%20%20%20%20%20%20%20%20%20%7B%0A%20%20%22bubblingMouseEvents%22%3A%20true%2C%0A%20%20%22color%22%3A%20%22Blue%22%2C%0A%20%20%22dashArray%22%3A%20null%2C%0A%20%20%22dashOffset%22%3A%20null%2C%0A%20%20%22fill%22%3A%20true%2C%0A%20%20%22fillColor%22%3A%20%22%2390EE90%22%2C%0A%20%20%22fillOpacity%22%3A%200.7%2C%0A%20%20%22fillRule%22%3A%20%22evenodd%22%2C%0A%20%20%22lineCap%22%3A%20%22round%22%2C%0A%20%20%22lineJoin%22%3A%20%22round%22%2C%0A%20%20%22opacity%22%3A%201.0%2C%0A%20%20%22radius%22%3A%206%2C%0A%20%20%22stroke%22%3A%20true%2C%0A%20%20%22weight%22%3A%203%0A%7D%0A%20%20%20%20%20%20%20%20%20%20%20%20%20%20%20%20%29.addTo%28map_60541c9221084dc4a2066ded7d15f039%29%3B%0A%20%20%20%20%20%20%20%20%20%20%20%20%0A%20%20%20%20%0A%20%20%20%20%20%20%20%20%20%20%20%20var%20popup_9e9a05089ad440028165012a9b1313bf%20%3D%20L.popup%28%7BmaxWidth%3A%20%27300%27%7D%29%3B%0A%0A%20%20%20%20%20%20%20%20%20%20%20%20%0A%20%20%20%20%20%20%20%20%20%20%20%20%20%20%20%20var%20html_de8298607ea94c5d8d925700808c89d4%20%3D%20%24%28%27%3Cdiv%20id%3D%22html_de8298607ea94c5d8d925700808c89d4%22%20style%3D%22width%3A%20100.0%25%3B%20height%3A%20100.0%25%3B%22%3E85%20Automotive%2CFayetteville%3C/div%3E%27%29%5B0%5D%3B%0A%20%20%20%20%20%20%20%20%20%20%20%20%20%20%20%20popup_9e9a05089ad440028165012a9b1313bf.setContent%28html_de8298607ea94c5d8d925700808c89d4%29%3B%0A%20%20%20%20%20%20%20%20%20%20%20%20%0A%0A%20%20%20%20%20%20%20%20%20%20%20%20circle_marker_2c06ac94fea640a5b6dce3361dc7691d.bindPopup%28popup_9e9a05089ad440028165012a9b1313bf%29%3B%0A%0A%20%20%20%20%20%20%20%20%20%20%20%20%0A%20%20%20%20%20%20%20%20%0A%20%20%20%20%0A%20%20%20%20%20%20%20%20%20%20%20%20var%20circle_marker_725ecb878e984f83b430a6f6d0e1c2d6%20%3D%20L.circleMarker%28%0A%20%20%20%20%20%20%20%20%20%20%20%20%20%20%20%20%5B33.763641357421875%2C-84.53101348876953%5D%2C%0A%20%20%20%20%20%20%20%20%20%20%20%20%20%20%20%20%7B%0A%20%20%22bubblingMouseEvents%22%3A%20true%2C%0A%20%20%22color%22%3A%20%22Blue%22%2C%0A%20%20%22dashArray%22%3A%20null%2C%0A%20%20%22dashOffset%22%3A%20null%2C%0A%20%20%22fill%22%3A%20true%2C%0A%20%20%22fillColor%22%3A%20%22%2390EE90%22%2C%0A%20%20%22fillOpacity%22%3A%200.7%2C%0A%20%20%22fillRule%22%3A%20%22evenodd%22%2C%0A%20%20%22lineCap%22%3A%20%22round%22%2C%0A%20%20%22lineJoin%22%3A%20%22round%22%2C%0A%20%20%22opacity%22%3A%201.0%2C%0A%20%20%22radius%22%3A%206%2C%0A%20%20%22stroke%22%3A%20true%2C%0A%20%20%22weight%22%3A%203%0A%7D%0A%20%20%20%20%20%20%20%20%20%20%20%20%20%20%20%20%29.addTo%28map_60541c9221084dc4a2066ded7d15f039%29%3B%0A%20%20%20%20%20%20%20%20%20%20%20%20%0A%20%20%20%20%0A%20%20%20%20%20%20%20%20%20%20%20%20var%20popup_778394e50a6c4d0caab380a8114e55e5%20%3D%20L.popup%28%7BmaxWidth%3A%20%27300%27%7D%29%3B%0A%0A%20%20%20%20%20%20%20%20%20%20%20%20%0A%20%20%20%20%20%20%20%20%20%20%20%20%20%20%20%20var%20html_7b827b6945a84678abda293afcdbad0e%20%3D%20%24%28%27%3Cdiv%20id%3D%22html_7b827b6945a84678abda293afcdbad0e%22%20style%3D%22width%3A%20100.0%25%3B%20height%3A%20100.0%25%3B%22%3EACC%20Garage%2CAtlanta%3C/div%3E%27%29%5B0%5D%3B%0A%20%20%20%20%20%20%20%20%20%20%20%20%20%20%20%20popup_778394e50a6c4d0caab380a8114e55e5.setContent%28html_7b827b6945a84678abda293afcdbad0e%29%3B%0A%20%20%20%20%20%20%20%20%20%20%20%20%0A%0A%20%20%20%20%20%20%20%20%20%20%20%20circle_marker_725ecb878e984f83b430a6f6d0e1c2d6.bindPopup%28popup_778394e50a6c4d0caab380a8114e55e5%29%3B%0A%0A%20%20%20%20%20%20%20%20%20%20%20%20%0A%20%20%20%20%20%20%20%20%0A%20%20%20%20%0A%20%20%20%20%20%20%20%20%20%20%20%20var%20circle_marker_5ac470f2de2b4371b6e7af1ec4123f5b%20%3D%20L.circleMarker%28%0A%20%20%20%20%20%20%20%20%20%20%20%20%20%20%20%20%5B33.896662%2C-84.539914%5D%2C%0A%20%20%20%20%20%20%20%20%20%20%20%20%20%20%20%20%7B%0A%20%20%22bubblingMouseEvents%22%3A%20true%2C%0A%20%20%22color%22%3A%20%22Blue%22%2C%0A%20%20%22dashArray%22%3A%20null%2C%0A%20%20%22dashOffset%22%3A%20null%2C%0A%20%20%22fill%22%3A%20true%2C%0A%20%20%22fillColor%22%3A%20%22%2390EE90%22%2C%0A%20%20%22fillOpacity%22%3A%200.7%2C%0A%20%20%22fillRule%22%3A%20%22evenodd%22%2C%0A%20%20%22lineCap%22%3A%20%22round%22%2C%0A%20%20%22lineJoin%22%3A%20%22round%22%2C%0A%20%20%22opacity%22%3A%201.0%2C%0A%20%20%22radius%22%3A%206%2C%0A%20%20%22stroke%22%3A%20true%2C%0A%20%20%22weight%22%3A%203%0A%7D%0A%20%20%20%20%20%20%20%20%20%20%20%20%20%20%20%20%29.addTo%28map_60541c9221084dc4a2066ded7d15f039%29%3B%0A%20%20%20%20%20%20%20%20%20%20%20%20%0A%20%20%20%20%0A%20%20%20%20%20%20%20%20%20%20%20%20var%20popup_ee6d79c89a454b9995703a3cb342acf0%20%3D%20L.popup%28%7BmaxWidth%3A%20%27300%27%7D%29%3B%0A%0A%20%20%20%20%20%20%20%20%20%20%20%20%0A%20%20%20%20%20%20%20%20%20%20%20%20%20%20%20%20var%20html_3196f6e0c7974a3a8d94b50b101669ca%20%3D%20%24%28%27%3Cdiv%20id%3D%22html_3196f6e0c7974a3a8d94b50b101669ca%22%20style%3D%22width%3A%20100.0%25%3B%20height%3A%20100.0%25%3B%22%3EDriven%20Collision%2CSmyrna%3C/div%3E%27%29%5B0%5D%3B%0A%20%20%20%20%20%20%20%20%20%20%20%20%20%20%20%20popup_ee6d79c89a454b9995703a3cb342acf0.setContent%28html_3196f6e0c7974a3a8d94b50b101669ca%29%3B%0A%20%20%20%20%20%20%20%20%20%20%20%20%0A%0A%20%20%20%20%20%20%20%20%20%20%20%20circle_marker_5ac470f2de2b4371b6e7af1ec4123f5b.bindPopup%28popup_ee6d79c89a454b9995703a3cb342acf0%29%3B%0A%0A%20%20%20%20%20%20%20%20%20%20%20%20%0A%20%20%20%20%20%20%20%20%0A%20%20%20%20%0A%20%20%20%20%20%20%20%20%20%20%20%20var%20circle_marker_550527284add4528a26489766f76753e%20%3D%20L.circleMarker%28%0A%20%20%20%20%20%20%20%20%20%20%20%20%20%20%20%20%5B33.7939444%2C-84.270471%5D%2C%0A%20%20%20%20%20%20%20%20%20%20%20%20%20%20%20%20%7B%0A%20%20%22bubblingMouseEvents%22%3A%20true%2C%0A%20%20%22color%22%3A%20%22Blue%22%2C%0A%20%20%22dashArray%22%3A%20null%2C%0A%20%20%22dashOffset%22%3A%20null%2C%0A%20%20%22fill%22%3A%20true%2C%0A%20%20%22fillColor%22%3A%20%22%2390EE90%22%2C%0A%20%20%22fillOpacity%22%3A%200.7%2C%0A%20%20%22fillRule%22%3A%20%22evenodd%22%2C%0A%20%20%22lineCap%22%3A%20%22round%22%2C%0A%20%20%22lineJoin%22%3A%20%22round%22%2C%0A%20%20%22opacity%22%3A%201.0%2C%0A%20%20%22radius%22%3A%206%2C%0A%20%20%22stroke%22%3A%20true%2C%0A%20%20%22weight%22%3A%203%0A%7D%0A%20%20%20%20%20%20%20%20%20%20%20%20%20%20%20%20%29.addTo%28map_60541c9221084dc4a2066ded7d15f039%29%3B%0A%20%20%20%20%20%20%20%20%20%20%20%20%0A%20%20%20%20%0A%20%20%20%20%20%20%20%20%20%20%20%20var%20popup_70fb8cad7fd441dea00b116dfcbc423d%20%3D%20L.popup%28%7BmaxWidth%3A%20%27300%27%7D%29%3B%0A%0A%20%20%20%20%20%20%20%20%20%20%20%20%0A%20%20%20%20%20%20%20%20%20%20%20%20%20%20%20%20var%20html_0ed232abf31d4d84baa912223596b141%20%3D%20%24%28%27%3Cdiv%20id%3D%22html_0ed232abf31d4d84baa912223596b141%22%20style%3D%22width%3A%20100.0%25%3B%20height%3A%20100.0%25%3B%22%3EMunich%20West%20Inc%2CDecatur%3C/div%3E%27%29%5B0%5D%3B%0A%20%20%20%20%20%20%20%20%20%20%20%20%20%20%20%20popup_70fb8cad7fd441dea00b116dfcbc423d.setContent%28html_0ed232abf31d4d84baa912223596b141%29%3B%0A%20%20%20%20%20%20%20%20%20%20%20%20%0A%0A%20%20%20%20%20%20%20%20%20%20%20%20circle_marker_550527284add4528a26489766f76753e.bindPopup%28popup_70fb8cad7fd441dea00b116dfcbc423d%29%3B%0A%0A%20%20%20%20%20%20%20%20%20%20%20%20%0A%20%20%20%20%20%20%20%20%0A%20%20%20%20%0A%20%20%20%20%20%20%20%20%20%20%20%20var%20circle_marker_1b166aa8b9934624ace16c858d6de956%20%3D%20L.circleMarker%28%0A%20%20%20%20%20%20%20%20%20%20%20%20%20%20%20%20%5B33.8422896%2C-84.2437537%5D%2C%0A%20%20%20%20%20%20%20%20%20%20%20%20%20%20%20%20%7B%0A%20%20%22bubblingMouseEvents%22%3A%20true%2C%0A%20%20%22color%22%3A%20%22Blue%22%2C%0A%20%20%22dashArray%22%3A%20null%2C%0A%20%20%22dashOffset%22%3A%20null%2C%0A%20%20%22fill%22%3A%20true%2C%0A%20%20%22fillColor%22%3A%20%22%2390EE90%22%2C%0A%20%20%22fillOpacity%22%3A%200.7%2C%0A%20%20%22fillRule%22%3A%20%22evenodd%22%2C%0A%20%20%22lineCap%22%3A%20%22round%22%2C%0A%20%20%22lineJoin%22%3A%20%22round%22%2C%0A%20%20%22opacity%22%3A%201.0%2C%0A%20%20%22radius%22%3A%206%2C%0A%20%20%22stroke%22%3A%20true%2C%0A%20%20%22weight%22%3A%203%0A%7D%0A%20%20%20%20%20%20%20%20%20%20%20%20%20%20%20%20%29.addTo%28map_60541c9221084dc4a2066ded7d15f039%29%3B%0A%20%20%20%20%20%20%20%20%20%20%20%20%0A%20%20%20%20%0A%20%20%20%20%20%20%20%20%20%20%20%20var%20popup_27ff830120504b6584cd58e837635c1e%20%3D%20L.popup%28%7BmaxWidth%3A%20%27300%27%7D%29%3B%0A%0A%20%20%20%20%20%20%20%20%20%20%20%20%0A%20%20%20%20%20%20%20%20%20%20%20%20%20%20%20%20var%20html_b50c02564bd1420baed41192f1ee777a%20%3D%20%24%28%27%3Cdiv%20id%3D%22html_b50c02564bd1420baed41192f1ee777a%22%20style%3D%22width%3A%20100.0%25%3B%20height%3A%20100.0%25%3B%22%3EFirestone%20Complete%20Auto%20Care%2CTucker%3C/div%3E%27%29%5B0%5D%3B%0A%20%20%20%20%20%20%20%20%20%20%20%20%20%20%20%20popup_27ff830120504b6584cd58e837635c1e.setContent%28html_b50c02564bd1420baed41192f1ee777a%29%3B%0A%20%20%20%20%20%20%20%20%20%20%20%20%0A%0A%20%20%20%20%20%20%20%20%20%20%20%20circle_marker_1b166aa8b9934624ace16c858d6de956.bindPopup%28popup_27ff830120504b6584cd58e837635c1e%29%3B%0A%0A%20%20%20%20%20%20%20%20%20%20%20%20%0A%20%20%20%20%20%20%20%20%0A%20%20%20%20%0A%20%20%20%20%20%20%20%20%20%20%20%20var%20circle_marker_932cbda37abd4e71805984c04b3306c2%20%3D%20L.circleMarker%28%0A%20%20%20%20%20%20%20%20%20%20%20%20%20%20%20%20%5B33.906532%2C-84.29642%5D%2C%0A%20%20%20%20%20%20%20%20%20%20%20%20%20%20%20%20%7B%0A%20%20%22bubblingMouseEvents%22%3A%20true%2C%0A%20%20%22color%22%3A%20%22Blue%22%2C%0A%20%20%22dashArray%22%3A%20null%2C%0A%20%20%22dashOffset%22%3A%20null%2C%0A%20%20%22fill%22%3A%20true%2C%0A%20%20%22fillColor%22%3A%20%22%2390EE90%22%2C%0A%20%20%22fillOpacity%22%3A%200.7%2C%0A%20%20%22fillRule%22%3A%20%22evenodd%22%2C%0A%20%20%22lineCap%22%3A%20%22round%22%2C%0A%20%20%22lineJoin%22%3A%20%22round%22%2C%0A%20%20%22opacity%22%3A%201.0%2C%0A%20%20%22radius%22%3A%206%2C%0A%20%20%22stroke%22%3A%20true%2C%0A%20%20%22weight%22%3A%203%0A%7D%0A%20%20%20%20%20%20%20%20%20%20%20%20%20%20%20%20%29.addTo%28map_60541c9221084dc4a2066ded7d15f039%29%3B%0A%20%20%20%20%20%20%20%20%20%20%20%20%0A%20%20%20%20%0A%20%20%20%20%20%20%20%20%20%20%20%20var%20popup_50685832b4b74ae6b6080af7d81a45d0%20%3D%20L.popup%28%7BmaxWidth%3A%20%27300%27%7D%29%3B%0A%0A%20%20%20%20%20%20%20%20%20%20%20%20%0A%20%20%20%20%20%20%20%20%20%20%20%20%20%20%20%20var%20html_afc4b210aa4d4761ad98113ab61fce89%20%3D%20%24%28%27%3Cdiv%20id%3D%22html_afc4b210aa4d4761ad98113ab61fce89%22%20style%3D%22width%3A%20100.0%25%3B%20height%3A%20100.0%25%3B%22%3EEurofed%20-%20Atlanta%2CAtlanta%3C/div%3E%27%29%5B0%5D%3B%0A%20%20%20%20%20%20%20%20%20%20%20%20%20%20%20%20popup_50685832b4b74ae6b6080af7d81a45d0.setContent%28html_afc4b210aa4d4761ad98113ab61fce89%29%3B%0A%20%20%20%20%20%20%20%20%20%20%20%20%0A%0A%20%20%20%20%20%20%20%20%20%20%20%20circle_marker_932cbda37abd4e71805984c04b3306c2.bindPopup%28popup_50685832b4b74ae6b6080af7d81a45d0%29%3B%0A%0A%20%20%20%20%20%20%20%20%20%20%20%20%0A%20%20%20%20%20%20%20%20%0A%20%20%20%20%0A%20%20%20%20%20%20%20%20%20%20%20%20var%20circle_marker_d785354fc1b94cf9b9562cb61e96749b%20%3D%20L.circleMarker%28%0A%20%20%20%20%20%20%20%20%20%20%20%20%20%20%20%20%5B33.97772385834741%2C-84.41745667252775%5D%2C%0A%20%20%20%20%20%20%20%20%20%20%20%20%20%20%20%20%7B%0A%20%20%22bubblingMouseEvents%22%3A%20true%2C%0A%20%20%22color%22%3A%20%22Blue%22%2C%0A%20%20%22dashArray%22%3A%20null%2C%0A%20%20%22dashOffset%22%3A%20null%2C%0A%20%20%22fill%22%3A%20true%2C%0A%20%20%22fillColor%22%3A%20%22%2390EE90%22%2C%0A%20%20%22fillOpacity%22%3A%200.7%2C%0A%20%20%22fillRule%22%3A%20%22evenodd%22%2C%0A%20%20%22lineCap%22%3A%20%22round%22%2C%0A%20%20%22lineJoin%22%3A%20%22round%22%2C%0A%20%20%22opacity%22%3A%201.0%2C%0A%20%20%22radius%22%3A%206%2C%0A%20%20%22stroke%22%3A%20true%2C%0A%20%20%22weight%22%3A%203%0A%7D%0A%20%20%20%20%20%20%20%20%20%20%20%20%20%20%20%20%29.addTo%28map_60541c9221084dc4a2066ded7d15f039%29%3B%0A%20%20%20%20%20%20%20%20%20%20%20%20%0A%20%20%20%20%0A%20%20%20%20%20%20%20%20%20%20%20%20var%20popup_2c6099ca613246a09fc6cb344a63ccfe%20%3D%20L.popup%28%7BmaxWidth%3A%20%27300%27%7D%29%3B%0A%0A%20%20%20%20%20%20%20%20%20%20%20%20%0A%20%20%20%20%20%20%20%20%20%20%20%20%20%20%20%20var%20html_52be8676056b4f2b875db1b4782a5fd7%20%3D%20%24%28%27%3Cdiv%20id%3D%22html_52be8676056b4f2b875db1b4782a5fd7%22%20style%3D%22width%3A%20100.0%25%3B%20height%3A%20100.0%25%3B%22%3EAAA%20East%20Cobb%20Car%20Care%20Plus%2CMarietta%3C/div%3E%27%29%5B0%5D%3B%0A%20%20%20%20%20%20%20%20%20%20%20%20%20%20%20%20popup_2c6099ca613246a09fc6cb344a63ccfe.setContent%28html_52be8676056b4f2b875db1b4782a5fd7%29%3B%0A%20%20%20%20%20%20%20%20%20%20%20%20%0A%0A%20%20%20%20%20%20%20%20%20%20%20%20circle_marker_d785354fc1b94cf9b9562cb61e96749b.bindPopup%28popup_2c6099ca613246a09fc6cb344a63ccfe%29%3B%0A%0A%20%20%20%20%20%20%20%20%20%20%20%20%0A%20%20%20%20%20%20%20%20%0A%20%20%20%20%0A%20%20%20%20%20%20%20%20%20%20%20%20var%20circle_marker_8169ff59499147fea7183a927f5e0efc%20%3D%20L.circleMarker%28%0A%20%20%20%20%20%20%20%20%20%20%20%20%20%20%20%20%5B33.93399300228157%2C-84.48338850190187%5D%2C%0A%20%20%20%20%20%20%20%20%20%20%20%20%20%20%20%20%7B%0A%20%20%22bubblingMouseEvents%22%3A%20true%2C%0A%20%20%22color%22%3A%20%22Blue%22%2C%0A%20%20%22dashArray%22%3A%20null%2C%0A%20%20%22dashOffset%22%3A%20null%2C%0A%20%20%22fill%22%3A%20true%2C%0A%20%20%22fillColor%22%3A%20%22%2390EE90%22%2C%0A%20%20%22fillOpacity%22%3A%200.7%2C%0A%20%20%22fillRule%22%3A%20%22evenodd%22%2C%0A%20%20%22lineCap%22%3A%20%22round%22%2C%0A%20%20%22lineJoin%22%3A%20%22round%22%2C%0A%20%20%22opacity%22%3A%201.0%2C%0A%20%20%22radius%22%3A%206%2C%0A%20%20%22stroke%22%3A%20true%2C%0A%20%20%22weight%22%3A%203%0A%7D%0A%20%20%20%20%20%20%20%20%20%20%20%20%20%20%20%20%29.addTo%28map_60541c9221084dc4a2066ded7d15f039%29%3B%0A%20%20%20%20%20%20%20%20%20%20%20%20%0A%20%20%20%20%0A%20%20%20%20%20%20%20%20%20%20%20%20var%20popup_6419378d8e48453982a27e08678d5016%20%3D%20L.popup%28%7BmaxWidth%3A%20%27300%27%7D%29%3B%0A%0A%20%20%20%20%20%20%20%20%20%20%20%20%0A%20%20%20%20%20%20%20%20%20%20%20%20%20%20%20%20var%20html_1635ad28c0e3496784a5bde8ee16291c%20%3D%20%24%28%27%3Cdiv%20id%3D%22html_1635ad28c0e3496784a5bde8ee16291c%22%20style%3D%22width%3A%20100.0%25%3B%20height%3A%20100.0%25%3B%22%3END2SPD%20MotorSports%2CMarietta%3C/div%3E%27%29%5B0%5D%3B%0A%20%20%20%20%20%20%20%20%20%20%20%20%20%20%20%20popup_6419378d8e48453982a27e08678d5016.setContent%28html_1635ad28c0e3496784a5bde8ee16291c%29%3B%0A%20%20%20%20%20%20%20%20%20%20%20%20%0A%0A%20%20%20%20%20%20%20%20%20%20%20%20circle_marker_8169ff59499147fea7183a927f5e0efc.bindPopup%28popup_6419378d8e48453982a27e08678d5016%29%3B%0A%0A%20%20%20%20%20%20%20%20%20%20%20%20%0A%20%20%20%20%20%20%20%20%0A%20%20%20%20%0A%20%20%20%20%20%20%20%20%20%20%20%20var%20circle_marker_1484b876fa8348e99367b2f307dc8ece%20%3D%20L.circleMarker%28%0A%20%20%20%20%20%20%20%20%20%20%20%20%20%20%20%20%5B33.571971000000005%2C-84.41024399999999%5D%2C%0A%20%20%20%20%20%20%20%20%20%20%20%20%20%20%20%20%7B%0A%20%20%22bubblingMouseEvents%22%3A%20true%2C%0A%20%20%22color%22%3A%20%22Blue%22%2C%0A%20%20%22dashArray%22%3A%20null%2C%0A%20%20%22dashOffset%22%3A%20null%2C%0A%20%20%22fill%22%3A%20true%2C%0A%20%20%22fillColor%22%3A%20%22%2390EE90%22%2C%0A%20%20%22fillOpacity%22%3A%200.7%2C%0A%20%20%22fillRule%22%3A%20%22evenodd%22%2C%0A%20%20%22lineCap%22%3A%20%22round%22%2C%0A%20%20%22lineJoin%22%3A%20%22round%22%2C%0A%20%20%22opacity%22%3A%201.0%2C%0A%20%20%22radius%22%3A%206%2C%0A%20%20%22stroke%22%3A%20true%2C%0A%20%20%22weight%22%3A%203%0A%7D%0A%20%20%20%20%20%20%20%20%20%20%20%20%20%20%20%20%29.addTo%28map_60541c9221084dc4a2066ded7d15f039%29%3B%0A%20%20%20%20%20%20%20%20%20%20%20%20%0A%20%20%20%20%0A%20%20%20%20%20%20%20%20%20%20%20%20var%20popup_dba21b7f6be847ae8c986b5f7c5a50a1%20%3D%20L.popup%28%7BmaxWidth%3A%20%27300%27%7D%29%3B%0A%0A%20%20%20%20%20%20%20%20%20%20%20%20%0A%20%20%20%20%20%20%20%20%20%20%20%20%20%20%20%20var%20html_ffffb25207244dd781ad147c4fea89ba%20%3D%20%24%28%27%3Cdiv%20id%3D%22html_ffffb25207244dd781ad147c4fea89ba%22%20style%3D%22width%3A%20100.0%25%3B%20height%3A%20100.0%25%3B%22%3EFirestone%20Complete%20Auto%20Care%2CRiverdale%3C/div%3E%27%29%5B0%5D%3B%0A%20%20%20%20%20%20%20%20%20%20%20%20%20%20%20%20popup_dba21b7f6be847ae8c986b5f7c5a50a1.setContent%28html_ffffb25207244dd781ad147c4fea89ba%29%3B%0A%20%20%20%20%20%20%20%20%20%20%20%20%0A%0A%20%20%20%20%20%20%20%20%20%20%20%20circle_marker_1484b876fa8348e99367b2f307dc8ece.bindPopup%28popup_dba21b7f6be847ae8c986b5f7c5a50a1%29%3B%0A%0A%20%20%20%20%20%20%20%20%20%20%20%20%0A%20%20%20%20%20%20%20%20%0A%20%20%20%20%0A%20%20%20%20%20%20%20%20%20%20%20%20var%20circle_marker_7b4d8014f57849139aed2e2ce7b541eb%20%3D%20L.circleMarker%28%0A%20%20%20%20%20%20%20%20%20%20%20%20%20%20%20%20%5B33.548475%2C-84.251924%5D%2C%0A%20%20%20%20%20%20%20%20%20%20%20%20%20%20%20%20%7B%0A%20%20%22bubblingMouseEvents%22%3A%20true%2C%0A%20%20%22color%22%3A%20%22Blue%22%2C%0A%20%20%22dashArray%22%3A%20null%2C%0A%20%20%22dashOffset%22%3A%20null%2C%0A%20%20%22fill%22%3A%20true%2C%0A%20%20%22fillColor%22%3A%20%22%2390EE90%22%2C%0A%20%20%22fillOpacity%22%3A%200.7%2C%0A%20%20%22fillRule%22%3A%20%22evenodd%22%2C%0A%20%20%22lineCap%22%3A%20%22round%22%2C%0A%20%20%22lineJoin%22%3A%20%22round%22%2C%0A%20%20%22opacity%22%3A%201.0%2C%0A%20%20%22radius%22%3A%206%2C%0A%20%20%22stroke%22%3A%20true%2C%0A%20%20%22weight%22%3A%203%0A%7D%0A%20%20%20%20%20%20%20%20%20%20%20%20%20%20%20%20%29.addTo%28map_60541c9221084dc4a2066ded7d15f039%29%3B%0A%20%20%20%20%20%20%20%20%20%20%20%20%0A%20%20%20%20%0A%20%20%20%20%20%20%20%20%20%20%20%20var%20popup_5367873a7aa54ef78f1f565f01ae34e7%20%3D%20L.popup%28%7BmaxWidth%3A%20%27300%27%7D%29%3B%0A%0A%20%20%20%20%20%20%20%20%20%20%20%20%0A%20%20%20%20%20%20%20%20%20%20%20%20%20%20%20%20var%20html_1b80f9e0109b4d9395ddae98019e3e36%20%3D%20%24%28%27%3Cdiv%20id%3D%22html_1b80f9e0109b4d9395ddae98019e3e36%22%20style%3D%22width%3A%20100.0%25%3B%20height%3A%20100.0%25%3B%22%3EPep%20Boys%20Auto%20Service%20%26amp%3B%20Tire%2CStockbridge%3C/div%3E%27%29%5B0%5D%3B%0A%20%20%20%20%20%20%20%20%20%20%20%20%20%20%20%20popup_5367873a7aa54ef78f1f565f01ae34e7.setContent%28html_1b80f9e0109b4d9395ddae98019e3e36%29%3B%0A%20%20%20%20%20%20%20%20%20%20%20%20%0A%0A%20%20%20%20%20%20%20%20%20%20%20%20circle_marker_7b4d8014f57849139aed2e2ce7b541eb.bindPopup%28popup_5367873a7aa54ef78f1f565f01ae34e7%29%3B%0A%0A%20%20%20%20%20%20%20%20%20%20%20%20%0A%20%20%20%20%20%20%20%20%0A%20%20%20%20%0A%20%20%20%20%20%20%20%20%20%20%20%20var%20circle_marker_8f3edebde8f84497805bbe4be4bc5121%20%3D%20L.circleMarker%28%0A%20%20%20%20%20%20%20%20%20%20%20%20%20%20%20%20%5B33.9681688%2C-84.2596918%5D%2C%0A%20%20%20%20%20%20%20%20%20%20%20%20%20%20%20%20%7B%0A%20%20%22bubblingMouseEvents%22%3A%20true%2C%0A%20%20%22color%22%3A%20%22Blue%22%2C%0A%20%20%22dashArray%22%3A%20null%2C%0A%20%20%22dashOffset%22%3A%20null%2C%0A%20%20%22fill%22%3A%20true%2C%0A%20%20%22fillColor%22%3A%20%22%2390EE90%22%2C%0A%20%20%22fillOpacity%22%3A%200.7%2C%0A%20%20%22fillRule%22%3A%20%22evenodd%22%2C%0A%20%20%22lineCap%22%3A%20%22round%22%2C%0A%20%20%22lineJoin%22%3A%20%22round%22%2C%0A%20%20%22opacity%22%3A%201.0%2C%0A%20%20%22radius%22%3A%206%2C%0A%20%20%22stroke%22%3A%20true%2C%0A%20%20%22weight%22%3A%203%0A%7D%0A%20%20%20%20%20%20%20%20%20%20%20%20%20%20%20%20%29.addTo%28map_60541c9221084dc4a2066ded7d15f039%29%3B%0A%20%20%20%20%20%20%20%20%20%20%20%20%0A%20%20%20%20%0A%20%20%20%20%20%20%20%20%20%20%20%20var%20popup_2e2704dcc6354e1a88d2b690c3036824%20%3D%20L.popup%28%7BmaxWidth%3A%20%27300%27%7D%29%3B%0A%0A%20%20%20%20%20%20%20%20%20%20%20%20%0A%20%20%20%20%20%20%20%20%20%20%20%20%20%20%20%20var%20html_410adc3e77494e21b34e4124a0f3f397%20%3D%20%24%28%27%3Cdiv%20id%3D%22html_410adc3e77494e21b34e4124a0f3f397%22%20style%3D%22width%3A%20100.0%25%3B%20height%3A%20100.0%25%3B%22%3EFirestone%20Complete%20Auto%20Care%2CNorcross%3C/div%3E%27%29%5B0%5D%3B%0A%20%20%20%20%20%20%20%20%20%20%20%20%20%20%20%20popup_2e2704dcc6354e1a88d2b690c3036824.setContent%28html_410adc3e77494e21b34e4124a0f3f397%29%3B%0A%20%20%20%20%20%20%20%20%20%20%20%20%0A%0A%20%20%20%20%20%20%20%20%20%20%20%20circle_marker_8f3edebde8f84497805bbe4be4bc5121.bindPopup%28popup_2e2704dcc6354e1a88d2b690c3036824%29%3B%0A%0A%20%20%20%20%20%20%20%20%20%20%20%20%0A%20%20%20%20%20%20%20%20%0A%20%20%20%20%0A%20%20%20%20%20%20%20%20%20%20%20%20var%20circle_marker_d862b413ffc74ff2895675fedf02d7c1%20%3D%20L.circleMarker%28%0A%20%20%20%20%20%20%20%20%20%20%20%20%20%20%20%20%5B33.8247643%2C-84.1258516%5D%2C%0A%20%20%20%20%20%20%20%20%20%20%20%20%20%20%20%20%7B%0A%20%20%22bubblingMouseEvents%22%3A%20true%2C%0A%20%20%22color%22%3A%20%22Blue%22%2C%0A%20%20%22dashArray%22%3A%20null%2C%0A%20%20%22dashOffset%22%3A%20null%2C%0A%20%20%22fill%22%3A%20true%2C%0A%20%20%22fillColor%22%3A%20%22%2390EE90%22%2C%0A%20%20%22fillOpacity%22%3A%200.7%2C%0A%20%20%22fillRule%22%3A%20%22evenodd%22%2C%0A%20%20%22lineCap%22%3A%20%22round%22%2C%0A%20%20%22lineJoin%22%3A%20%22round%22%2C%0A%20%20%22opacity%22%3A%201.0%2C%0A%20%20%22radius%22%3A%206%2C%0A%20%20%22stroke%22%3A%20true%2C%0A%20%20%22weight%22%3A%203%0A%7D%0A%20%20%20%20%20%20%20%20%20%20%20%20%20%20%20%20%29.addTo%28map_60541c9221084dc4a2066ded7d15f039%29%3B%0A%20%20%20%20%20%20%20%20%20%20%20%20%0A%20%20%20%20%0A%20%20%20%20%20%20%20%20%20%20%20%20var%20popup_6b84e430a76d4cfbadaad889dffe3284%20%3D%20L.popup%28%7BmaxWidth%3A%20%27300%27%7D%29%3B%0A%0A%20%20%20%20%20%20%20%20%20%20%20%20%0A%20%20%20%20%20%20%20%20%20%20%20%20%20%20%20%20var%20html_fa6657f806e44741a5de30a5ce0a80ed%20%3D%20%24%28%27%3Cdiv%20id%3D%22html_fa6657f806e44741a5de30a5ce0a80ed%22%20style%3D%22width%3A%20100.0%25%3B%20height%3A%20100.0%25%3B%22%3EWalmart%20Auto%20Care%20Centers%2CStone%20Mountain%3C/div%3E%27%29%5B0%5D%3B%0A%20%20%20%20%20%20%20%20%20%20%20%20%20%20%20%20popup_6b84e430a76d4cfbadaad889dffe3284.setContent%28html_fa6657f806e44741a5de30a5ce0a80ed%29%3B%0A%20%20%20%20%20%20%20%20%20%20%20%20%0A%0A%20%20%20%20%20%20%20%20%20%20%20%20circle_marker_d862b413ffc74ff2895675fedf02d7c1.bindPopup%28popup_6b84e430a76d4cfbadaad889dffe3284%29%3B%0A%0A%20%20%20%20%20%20%20%20%20%20%20%20%0A%20%20%20%20%20%20%20%20%0A%20%20%20%20%0A%20%20%20%20%20%20%20%20%20%20%20%20var%20circle_marker_e26bff94104a4a34a7cd479fd4758c08%20%3D%20L.circleMarker%28%0A%20%20%20%20%20%20%20%20%20%20%20%20%20%20%20%20%5B33.62118333589478%2C-84.35220492557177%5D%2C%0A%20%20%20%20%20%20%20%20%20%20%20%20%20%20%20%20%7B%0A%20%20%22bubblingMouseEvents%22%3A%20true%2C%0A%20%20%22color%22%3A%20%22Blue%22%2C%0A%20%20%22dashArray%22%3A%20null%2C%0A%20%20%22dashOffset%22%3A%20null%2C%0A%20%20%22fill%22%3A%20true%2C%0A%20%20%22fillColor%22%3A%20%22%2390EE90%22%2C%0A%20%20%22fillOpacity%22%3A%200.7%2C%0A%20%20%22fillRule%22%3A%20%22evenodd%22%2C%0A%20%20%22lineCap%22%3A%20%22round%22%2C%0A%20%20%22lineJoin%22%3A%20%22round%22%2C%0A%20%20%22opacity%22%3A%201.0%2C%0A%20%20%22radius%22%3A%206%2C%0A%20%20%22stroke%22%3A%20true%2C%0A%20%20%22weight%22%3A%203%0A%7D%0A%20%20%20%20%20%20%20%20%20%20%20%20%20%20%20%20%29.addTo%28map_60541c9221084dc4a2066ded7d15f039%29%3B%0A%20%20%20%20%20%20%20%20%20%20%20%20%0A%20%20%20%20%0A%20%20%20%20%20%20%20%20%20%20%20%20var%20popup_c91a02c641d34b7b9d2ce50c871eec19%20%3D%20L.popup%28%7BmaxWidth%3A%20%27300%27%7D%29%3B%0A%0A%20%20%20%20%20%20%20%20%20%20%20%20%0A%20%20%20%20%20%20%20%20%20%20%20%20%20%20%20%20var%20html_951293de1116452cb091b73ad1da3d5b%20%3D%20%24%28%27%3Cdiv%20id%3D%22html_951293de1116452cb091b73ad1da3d5b%22%20style%3D%22width%3A%20100.0%25%3B%20height%3A%20100.0%25%3B%22%3ETj%20Automotive%2CForest%20Park%3C/div%3E%27%29%5B0%5D%3B%0A%20%20%20%20%20%20%20%20%20%20%20%20%20%20%20%20popup_c91a02c641d34b7b9d2ce50c871eec19.setContent%28html_951293de1116452cb091b73ad1da3d5b%29%3B%0A%20%20%20%20%20%20%20%20%20%20%20%20%0A%0A%20%20%20%20%20%20%20%20%20%20%20%20circle_marker_e26bff94104a4a34a7cd479fd4758c08.bindPopup%28popup_c91a02c641d34b7b9d2ce50c871eec19%29%3B%0A%0A%20%20%20%20%20%20%20%20%20%20%20%20%0A%20%20%20%20%20%20%20%20%0A%20%20%20%20%0A%20%20%20%20%20%20%20%20%20%20%20%20var%20circle_marker_09f4450361374f8aafb30cd159d3da21%20%3D%20L.circleMarker%28%0A%20%20%20%20%20%20%20%20%20%20%20%20%20%20%20%20%5B33.7745093%2C-84.6010619%5D%2C%0A%20%20%20%20%20%20%20%20%20%20%20%20%20%20%20%20%7B%0A%20%20%22bubblingMouseEvents%22%3A%20true%2C%0A%20%20%22color%22%3A%20%22Blue%22%2C%0A%20%20%22dashArray%22%3A%20null%2C%0A%20%20%22dashOffset%22%3A%20null%2C%0A%20%20%22fill%22%3A%20true%2C%0A%20%20%22fillColor%22%3A%20%22%2390EE90%22%2C%0A%20%20%22fillOpacity%22%3A%200.7%2C%0A%20%20%22fillRule%22%3A%20%22evenodd%22%2C%0A%20%20%22lineCap%22%3A%20%22round%22%2C%0A%20%20%22lineJoin%22%3A%20%22round%22%2C%0A%20%20%22opacity%22%3A%201.0%2C%0A%20%20%22radius%22%3A%206%2C%0A%20%20%22stroke%22%3A%20true%2C%0A%20%20%22weight%22%3A%203%0A%7D%0A%20%20%20%20%20%20%20%20%20%20%20%20%20%20%20%20%29.addTo%28map_60541c9221084dc4a2066ded7d15f039%29%3B%0A%20%20%20%20%20%20%20%20%20%20%20%20%0A%20%20%20%20%0A%20%20%20%20%20%20%20%20%20%20%20%20var%20popup_7bb937dde74a4fd4aef04dbac993bb0e%20%3D%20L.popup%28%7BmaxWidth%3A%20%27300%27%7D%29%3B%0A%0A%20%20%20%20%20%20%20%20%20%20%20%20%0A%20%20%20%20%20%20%20%20%20%20%20%20%20%20%20%20var%20html_2ea33eeaf58446a9a9aae890633a0979%20%3D%20%24%28%27%3Cdiv%20id%3D%22html_2ea33eeaf58446a9a9aae890633a0979%22%20style%3D%22width%3A%20100.0%25%3B%20height%3A%20100.0%25%3B%22%3EWalmart%20Auto%20Care%20Centers%2CLithia%20Springs%3C/div%3E%27%29%5B0%5D%3B%0A%20%20%20%20%20%20%20%20%20%20%20%20%20%20%20%20popup_7bb937dde74a4fd4aef04dbac993bb0e.setContent%28html_2ea33eeaf58446a9a9aae890633a0979%29%3B%0A%20%20%20%20%20%20%20%20%20%20%20%20%0A%0A%20%20%20%20%20%20%20%20%20%20%20%20circle_marker_09f4450361374f8aafb30cd159d3da21.bindPopup%28popup_7bb937dde74a4fd4aef04dbac993bb0e%29%3B%0A%0A%20%20%20%20%20%20%20%20%20%20%20%20%0A%20%20%20%20%20%20%20%20%0A%20%20%20%20%0A%20%20%20%20%20%20%20%20%20%20%20%20var%20circle_marker_a7cc6f83416a497a8f3d8df087d11e76%20%3D%20L.circleMarker%28%0A%20%20%20%20%20%20%20%20%20%20%20%20%20%20%20%20%5B33.577030181884766%2C-84.54024505615234%5D%2C%0A%20%20%20%20%20%20%20%20%20%20%20%20%20%20%20%20%7B%0A%20%20%22bubblingMouseEvents%22%3A%20true%2C%0A%20%20%22color%22%3A%20%22Blue%22%2C%0A%20%20%22dashArray%22%3A%20null%2C%0A%20%20%22dashOffset%22%3A%20null%2C%0A%20%20%22fill%22%3A%20true%2C%0A%20%20%22fillColor%22%3A%20%22%2390EE90%22%2C%0A%20%20%22fillOpacity%22%3A%200.7%2C%0A%20%20%22fillRule%22%3A%20%22evenodd%22%2C%0A%20%20%22lineCap%22%3A%20%22round%22%2C%0A%20%20%22lineJoin%22%3A%20%22round%22%2C%0A%20%20%22opacity%22%3A%201.0%2C%0A%20%20%22radius%22%3A%206%2C%0A%20%20%22stroke%22%3A%20true%2C%0A%20%20%22weight%22%3A%203%0A%7D%0A%20%20%20%20%20%20%20%20%20%20%20%20%20%20%20%20%29.addTo%28map_60541c9221084dc4a2066ded7d15f039%29%3B%0A%20%20%20%20%20%20%20%20%20%20%20%20%0A%20%20%20%20%0A%20%20%20%20%20%20%20%20%20%20%20%20var%20popup_6a31aa7881e5471e992ab5ebcb4ca9db%20%3D%20L.popup%28%7BmaxWidth%3A%20%27300%27%7D%29%3B%0A%0A%20%20%20%20%20%20%20%20%20%20%20%20%0A%20%20%20%20%20%20%20%20%20%20%20%20%20%20%20%20var%20html_a744df238eae460babf2ac893adbeee2%20%3D%20%24%28%27%3Cdiv%20id%3D%22html_a744df238eae460babf2ac893adbeee2%22%20style%3D%22width%3A%20100.0%25%3B%20height%3A%20100.0%25%3B%22%3ECaliber%20Collision%2CUnion%20City%3C/div%3E%27%29%5B0%5D%3B%0A%20%20%20%20%20%20%20%20%20%20%20%20%20%20%20%20popup_6a31aa7881e5471e992ab5ebcb4ca9db.setContent%28html_a744df238eae460babf2ac893adbeee2%29%3B%0A%20%20%20%20%20%20%20%20%20%20%20%20%0A%0A%20%20%20%20%20%20%20%20%20%20%20%20circle_marker_a7cc6f83416a497a8f3d8df087d11e76.bindPopup%28popup_6a31aa7881e5471e992ab5ebcb4ca9db%29%3B%0A%0A%20%20%20%20%20%20%20%20%20%20%20%20%0A%20%20%20%20%20%20%20%20%0A%20%20%20%20%0A%20%20%20%20%20%20%20%20%20%20%20%20var%20circle_marker_bac63f9ec6f942e8bc22f92882a6e793%20%3D%20L.circleMarker%28%0A%20%20%20%20%20%20%20%20%20%20%20%20%20%20%20%20%5B33.7931112%2C-84.2285794%5D%2C%0A%20%20%20%20%20%20%20%20%20%20%20%20%20%20%20%20%7B%0A%20%20%22bubblingMouseEvents%22%3A%20true%2C%0A%20%20%22color%22%3A%20%22Blue%22%2C%0A%20%20%22dashArray%22%3A%20null%2C%0A%20%20%22dashOffset%22%3A%20null%2C%0A%20%20%22fill%22%3A%20true%2C%0A%20%20%22fillColor%22%3A%20%22%2390EE90%22%2C%0A%20%20%22fillOpacity%22%3A%200.7%2C%0A%20%20%22fillRule%22%3A%20%22evenodd%22%2C%0A%20%20%22lineCap%22%3A%20%22round%22%2C%0A%20%20%22lineJoin%22%3A%20%22round%22%2C%0A%20%20%22opacity%22%3A%201.0%2C%0A%20%20%22radius%22%3A%206%2C%0A%20%20%22stroke%22%3A%20true%2C%0A%20%20%22weight%22%3A%203%0A%7D%0A%20%20%20%20%20%20%20%20%20%20%20%20%20%20%20%20%29.addTo%28map_60541c9221084dc4a2066ded7d15f039%29%3B%0A%20%20%20%20%20%20%20%20%20%20%20%20%0A%20%20%20%20%0A%20%20%20%20%20%20%20%20%20%20%20%20var%20popup_13dac670917a4e37a8b13413b99344eb%20%3D%20L.popup%28%7BmaxWidth%3A%20%27300%27%7D%29%3B%0A%0A%20%20%20%20%20%20%20%20%20%20%20%20%0A%20%20%20%20%20%20%20%20%20%20%20%20%20%20%20%20var%20html_eb882c3dfe9a4dfbbc1478a764c6a5db%20%3D%20%24%28%27%3Cdiv%20id%3D%22html_eb882c3dfe9a4dfbbc1478a764c6a5db%22%20style%3D%22width%3A%20100.0%25%3B%20height%3A%20100.0%25%3B%22%3EFirestone%20Complete%20Auto%20Care%2CStone%20Mountain%3C/div%3E%27%29%5B0%5D%3B%0A%20%20%20%20%20%20%20%20%20%20%20%20%20%20%20%20popup_13dac670917a4e37a8b13413b99344eb.setContent%28html_eb882c3dfe9a4dfbbc1478a764c6a5db%29%3B%0A%20%20%20%20%20%20%20%20%20%20%20%20%0A%0A%20%20%20%20%20%20%20%20%20%20%20%20circle_marker_bac63f9ec6f942e8bc22f92882a6e793.bindPopup%28popup_13dac670917a4e37a8b13413b99344eb%29%3B%0A%0A%20%20%20%20%20%20%20%20%20%20%20%20%0A%20%20%20%20%20%20%20%20%0A%20%20%20%20%0A%20%20%20%20%20%20%20%20%20%20%20%20var%20circle_marker_15ac9630f9804cfc90aeb0a0f5589dcd%20%3D%20L.circleMarker%28%0A%20%20%20%20%20%20%20%20%20%20%20%20%20%20%20%20%5B33.614420366886435%2C-84.40400545490195%5D%2C%0A%20%20%20%20%20%20%20%20%20%20%20%20%20%20%20%20%7B%0A%20%20%22bubblingMouseEvents%22%3A%20true%2C%0A%20%20%22color%22%3A%20%22Blue%22%2C%0A%20%20%22dashArray%22%3A%20null%2C%0A%20%20%22dashOffset%22%3A%20null%2C%0A%20%20%22fill%22%3A%20true%2C%0A%20%20%22fillColor%22%3A%20%22%2390EE90%22%2C%0A%20%20%22fillOpacity%22%3A%200.7%2C%0A%20%20%22fillRule%22%3A%20%22evenodd%22%2C%0A%20%20%22lineCap%22%3A%20%22round%22%2C%0A%20%20%22lineJoin%22%3A%20%22round%22%2C%0A%20%20%22opacity%22%3A%201.0%2C%0A%20%20%22radius%22%3A%206%2C%0A%20%20%22stroke%22%3A%20true%2C%0A%20%20%22weight%22%3A%203%0A%7D%0A%20%20%20%20%20%20%20%20%20%20%20%20%20%20%20%20%29.addTo%28map_60541c9221084dc4a2066ded7d15f039%29%3B%0A%20%20%20%20%20%20%20%20%20%20%20%20%0A%20%20%20%20%0A%20%20%20%20%20%20%20%20%20%20%20%20var%20popup_1c38f501824a472fba0c6b4851bb4e95%20%3D%20L.popup%28%7BmaxWidth%3A%20%27300%27%7D%29%3B%0A%0A%20%20%20%20%20%20%20%20%20%20%20%20%0A%20%20%20%20%20%20%20%20%20%20%20%20%20%20%20%20var%20html_bcc155f2a8df4c66908d198986c2fa39%20%3D%20%24%28%27%3Cdiv%20id%3D%22html_bcc155f2a8df4c66908d198986c2fa39%22%20style%3D%22width%3A%20100.0%25%3B%20height%3A%20100.0%25%3B%22%3ECummins%20Sales%20and%20Service%2CAtlanta%3C/div%3E%27%29%5B0%5D%3B%0A%20%20%20%20%20%20%20%20%20%20%20%20%20%20%20%20popup_1c38f501824a472fba0c6b4851bb4e95.setContent%28html_bcc155f2a8df4c66908d198986c2fa39%29%3B%0A%20%20%20%20%20%20%20%20%20%20%20%20%0A%0A%20%20%20%20%20%20%20%20%20%20%20%20circle_marker_15ac9630f9804cfc90aeb0a0f5589dcd.bindPopup%28popup_1c38f501824a472fba0c6b4851bb4e95%29%3B%0A%0A%20%20%20%20%20%20%20%20%20%20%20%20%0A%20%20%20%20%20%20%20%20%0A%20%20%20%20%0A%20%20%20%20%20%20%20%20%20%20%20%20var%20circle_marker_007c15adc9e64bf68d9ef9a6a169846d%20%3D%20L.circleMarker%28%0A%20%20%20%20%20%20%20%20%20%20%20%20%20%20%20%20%5B33.799389%2C-84.216317%5D%2C%0A%20%20%20%20%20%20%20%20%20%20%20%20%20%20%20%20%7B%0A%20%20%22bubblingMouseEvents%22%3A%20true%2C%0A%20%20%22color%22%3A%20%22Blue%22%2C%0A%20%20%22dashArray%22%3A%20null%2C%0A%20%20%22dashOffset%22%3A%20null%2C%0A%20%20%22fill%22%3A%20true%2C%0A%20%20%22fillColor%22%3A%20%22%2390EE90%22%2C%0A%20%20%22fillOpacity%22%3A%200.7%2C%0A%20%20%22fillRule%22%3A%20%22evenodd%22%2C%0A%20%20%22lineCap%22%3A%20%22round%22%2C%0A%20%20%22lineJoin%22%3A%20%22round%22%2C%0A%20%20%22opacity%22%3A%201.0%2C%0A%20%20%22radius%22%3A%206%2C%0A%20%20%22stroke%22%3A%20true%2C%0A%20%20%22weight%22%3A%203%0A%7D%0A%20%20%20%20%20%20%20%20%20%20%20%20%20%20%20%20%29.addTo%28map_60541c9221084dc4a2066ded7d15f039%29%3B%0A%20%20%20%20%20%20%20%20%20%20%20%20%0A%20%20%20%20%0A%20%20%20%20%20%20%20%20%20%20%20%20var%20popup_cb91ab706ba14187b9d789c7b8291301%20%3D%20L.popup%28%7BmaxWidth%3A%20%27300%27%7D%29%3B%0A%0A%20%20%20%20%20%20%20%20%20%20%20%20%0A%20%20%20%20%20%20%20%20%20%20%20%20%20%20%20%20var%20html_e83b1c3c20aa4415bee662d9c84d1adc%20%3D%20%24%28%27%3Cdiv%20id%3D%22html_e83b1c3c20aa4415bee662d9c84d1adc%22%20style%3D%22width%3A%20100.0%25%3B%20height%3A%20100.0%25%3B%22%3EMMC%20Automotive%2CStone%20Mountain%3C/div%3E%27%29%5B0%5D%3B%0A%20%20%20%20%20%20%20%20%20%20%20%20%20%20%20%20popup_cb91ab706ba14187b9d789c7b8291301.setContent%28html_e83b1c3c20aa4415bee662d9c84d1adc%29%3B%0A%20%20%20%20%20%20%20%20%20%20%20%20%0A%0A%20%20%20%20%20%20%20%20%20%20%20%20circle_marker_007c15adc9e64bf68d9ef9a6a169846d.bindPopup%28popup_cb91ab706ba14187b9d789c7b8291301%29%3B%0A%0A%20%20%20%20%20%20%20%20%20%20%20%20%0A%20%20%20%20%20%20%20%20%0A%20%20%20%20%0A%20%20%20%20%20%20%20%20%20%20%20%20var%20circle_marker_6ffc85d586ce4064a013cb5c26dbc3dc%20%3D%20L.circleMarker%28%0A%20%20%20%20%20%20%20%20%20%20%20%20%20%20%20%20%5B33.56814441%2C-84.53626939%5D%2C%0A%20%20%20%20%20%20%20%20%20%20%20%20%20%20%20%20%7B%0A%20%20%22bubblingMouseEvents%22%3A%20true%2C%0A%20%20%22color%22%3A%20%22Blue%22%2C%0A%20%20%22dashArray%22%3A%20null%2C%0A%20%20%22dashOffset%22%3A%20null%2C%0A%20%20%22fill%22%3A%20true%2C%0A%20%20%22fillColor%22%3A%20%22%2390EE90%22%2C%0A%20%20%22fillOpacity%22%3A%200.7%2C%0A%20%20%22fillRule%22%3A%20%22evenodd%22%2C%0A%20%20%22lineCap%22%3A%20%22round%22%2C%0A%20%20%22lineJoin%22%3A%20%22round%22%2C%0A%20%20%22opacity%22%3A%201.0%2C%0A%20%20%22radius%22%3A%206%2C%0A%20%20%22stroke%22%3A%20true%2C%0A%20%20%22weight%22%3A%203%0A%7D%0A%20%20%20%20%20%20%20%20%20%20%20%20%20%20%20%20%29.addTo%28map_60541c9221084dc4a2066ded7d15f039%29%3B%0A%20%20%20%20%20%20%20%20%20%20%20%20%0A%20%20%20%20%0A%20%20%20%20%20%20%20%20%20%20%20%20var%20popup_367e5a1dcbfc474b83a8f374148759fb%20%3D%20L.popup%28%7BmaxWidth%3A%20%27300%27%7D%29%3B%0A%0A%20%20%20%20%20%20%20%20%20%20%20%20%0A%20%20%20%20%20%20%20%20%20%20%20%20%20%20%20%20var%20html_91564f4a17bb4c798823cb6fa4308b36%20%3D%20%24%28%27%3Cdiv%20id%3D%22html_91564f4a17bb4c798823cb6fa4308b36%22%20style%3D%22width%3A%20100.0%25%3B%20height%3A%20100.0%25%3B%22%3EFirestone%20Complete%20Auto%20Care%2CUnion%20City%3C/div%3E%27%29%5B0%5D%3B%0A%20%20%20%20%20%20%20%20%20%20%20%20%20%20%20%20popup_367e5a1dcbfc474b83a8f374148759fb.setContent%28html_91564f4a17bb4c798823cb6fa4308b36%29%3B%0A%20%20%20%20%20%20%20%20%20%20%20%20%0A%0A%20%20%20%20%20%20%20%20%20%20%20%20circle_marker_6ffc85d586ce4064a013cb5c26dbc3dc.bindPopup%28popup_367e5a1dcbfc474b83a8f374148759fb%29%3B%0A%0A%20%20%20%20%20%20%20%20%20%20%20%20%0A%20%20%20%20%20%20%20%20%0A%20%20%20%20%0A%20%20%20%20%20%20%20%20%20%20%20%20var%20circle_marker_f36331a331c2424a8de14db3d0de9a2d%20%3D%20L.circleMarker%28%0A%20%20%20%20%20%20%20%20%20%20%20%20%20%20%20%20%5B33.9008326%2C-84.300163%5D%2C%0A%20%20%20%20%20%20%20%20%20%20%20%20%20%20%20%20%7B%0A%20%20%22bubblingMouseEvents%22%3A%20true%2C%0A%20%20%22color%22%3A%20%22Blue%22%2C%0A%20%20%22dashArray%22%3A%20null%2C%0A%20%20%22dashOffset%22%3A%20null%2C%0A%20%20%22fill%22%3A%20true%2C%0A%20%20%22fillColor%22%3A%20%22%2390EE90%22%2C%0A%20%20%22fillOpacity%22%3A%200.7%2C%0A%20%20%22fillRule%22%3A%20%22evenodd%22%2C%0A%20%20%22lineCap%22%3A%20%22round%22%2C%0A%20%20%22lineJoin%22%3A%20%22round%22%2C%0A%20%20%22opacity%22%3A%201.0%2C%0A%20%20%22radius%22%3A%206%2C%0A%20%20%22stroke%22%3A%20true%2C%0A%20%20%22weight%22%3A%203%0A%7D%0A%20%20%20%20%20%20%20%20%20%20%20%20%20%20%20%20%29.addTo%28map_60541c9221084dc4a2066ded7d15f039%29%3B%0A%20%20%20%20%20%20%20%20%20%20%20%20%0A%20%20%20%20%0A%20%20%20%20%20%20%20%20%20%20%20%20var%20popup_3c8d59aed10a423a99afd8556f7ca38a%20%3D%20L.popup%28%7BmaxWidth%3A%20%27300%27%7D%29%3B%0A%0A%20%20%20%20%20%20%20%20%20%20%20%20%0A%20%20%20%20%20%20%20%20%20%20%20%20%20%20%20%20var%20html_8596f7e4c2bd4e0f91cb30264f242737%20%3D%20%24%28%27%3Cdiv%20id%3D%22html_8596f7e4c2bd4e0f91cb30264f242737%22%20style%3D%22width%3A%20100.0%25%3B%20height%3A%20100.0%25%3B%22%3EFirestone%20Complete%20Auto%20Care%2CChamblee%3C/div%3E%27%29%5B0%5D%3B%0A%20%20%20%20%20%20%20%20%20%20%20%20%20%20%20%20popup_3c8d59aed10a423a99afd8556f7ca38a.setContent%28html_8596f7e4c2bd4e0f91cb30264f242737%29%3B%0A%20%20%20%20%20%20%20%20%20%20%20%20%0A%0A%20%20%20%20%20%20%20%20%20%20%20%20circle_marker_f36331a331c2424a8de14db3d0de9a2d.bindPopup%28popup_3c8d59aed10a423a99afd8556f7ca38a%29%3B%0A%0A%20%20%20%20%20%20%20%20%20%20%20%20%0A%20%20%20%20%20%20%20%20%0A%20%20%20%20%0A%20%20%20%20%20%20%20%20%20%20%20%20var%20circle_marker_cb52ea25331947539a197e118a6002a8%20%3D%20L.circleMarker%28%0A%20%20%20%20%20%20%20%20%20%20%20%20%20%20%20%20%5B33.5717652%2C-84.3572035%5D%2C%0A%20%20%20%20%20%20%20%20%20%20%20%20%20%20%20%20%7B%0A%20%20%22bubblingMouseEvents%22%3A%20true%2C%0A%20%20%22color%22%3A%20%22Blue%22%2C%0A%20%20%22dashArray%22%3A%20null%2C%0A%20%20%22dashOffset%22%3A%20null%2C%0A%20%20%22fill%22%3A%20true%2C%0A%20%20%22fillColor%22%3A%20%22%2390EE90%22%2C%0A%20%20%22fillOpacity%22%3A%200.7%2C%0A%20%20%22fillRule%22%3A%20%22evenodd%22%2C%0A%20%20%22lineCap%22%3A%20%22round%22%2C%0A%20%20%22lineJoin%22%3A%20%22round%22%2C%0A%20%20%22opacity%22%3A%201.0%2C%0A%20%20%22radius%22%3A%206%2C%0A%20%20%22stroke%22%3A%20true%2C%0A%20%20%22weight%22%3A%203%0A%7D%0A%20%20%20%20%20%20%20%20%20%20%20%20%20%20%20%20%29.addTo%28map_60541c9221084dc4a2066ded7d15f039%29%3B%0A%20%20%20%20%20%20%20%20%20%20%20%20%0A%20%20%20%20%0A%20%20%20%20%20%20%20%20%20%20%20%20var%20popup_5da149b7855f491382c9685fb9d447bd%20%3D%20L.popup%28%7BmaxWidth%3A%20%27300%27%7D%29%3B%0A%0A%20%20%20%20%20%20%20%20%20%20%20%20%0A%20%20%20%20%20%20%20%20%20%20%20%20%20%20%20%20var%20html_fc19a07103d24496ad1450fa30cd301d%20%3D%20%24%28%27%3Cdiv%20id%3D%22html_fc19a07103d24496ad1450fa30cd301d%22%20style%3D%22width%3A%20100.0%25%3B%20height%3A%20100.0%25%3B%22%3EFirestone%20Complete%20Auto%20Care%2CMorrow%3C/div%3E%27%29%5B0%5D%3B%0A%20%20%20%20%20%20%20%20%20%20%20%20%20%20%20%20popup_5da149b7855f491382c9685fb9d447bd.setContent%28html_fc19a07103d24496ad1450fa30cd301d%29%3B%0A%20%20%20%20%20%20%20%20%20%20%20%20%0A%0A%20%20%20%20%20%20%20%20%20%20%20%20circle_marker_cb52ea25331947539a197e118a6002a8.bindPopup%28popup_5da149b7855f491382c9685fb9d447bd%29%3B%0A%0A%20%20%20%20%20%20%20%20%20%20%20%20%0A%20%20%20%20%20%20%20%20%0A%20%20%20%20%0A%20%20%20%20%20%20%20%20%20%20%20%20var%20circle_marker_a0587c72eb5b4940a627608b0ccbdf26%20%3D%20L.circleMarker%28%0A%20%20%20%20%20%20%20%20%20%20%20%20%20%20%20%20%5B33.794003000000004%2C-84.267432%5D%2C%0A%20%20%20%20%20%20%20%20%20%20%20%20%20%20%20%20%7B%0A%20%20%22bubblingMouseEvents%22%3A%20true%2C%0A%20%20%22color%22%3A%20%22Blue%22%2C%0A%20%20%22dashArray%22%3A%20null%2C%0A%20%20%22dashOffset%22%3A%20null%2C%0A%20%20%22fill%22%3A%20true%2C%0A%20%20%22fillColor%22%3A%20%22%2390EE90%22%2C%0A%20%20%22fillOpacity%22%3A%200.7%2C%0A%20%20%22fillRule%22%3A%20%22evenodd%22%2C%0A%20%20%22lineCap%22%3A%20%22round%22%2C%0A%20%20%22lineJoin%22%3A%20%22round%22%2C%0A%20%20%22opacity%22%3A%201.0%2C%0A%20%20%22radius%22%3A%206%2C%0A%20%20%22stroke%22%3A%20true%2C%0A%20%20%22weight%22%3A%203%0A%7D%0A%20%20%20%20%20%20%20%20%20%20%20%20%20%20%20%20%29.addTo%28map_60541c9221084dc4a2066ded7d15f039%29%3B%0A%20%20%20%20%20%20%20%20%20%20%20%20%0A%20%20%20%20%0A%20%20%20%20%20%20%20%20%20%20%20%20var%20popup_08be8b0a37e049f2afb0cf90aff0445c%20%3D%20L.popup%28%7BmaxWidth%3A%20%27300%27%7D%29%3B%0A%0A%20%20%20%20%20%20%20%20%20%20%20%20%0A%20%20%20%20%20%20%20%20%20%20%20%20%20%20%20%20var%20html_61c435a0ce2f434f96c04819bf2ab6bd%20%3D%20%24%28%27%3Cdiv%20id%3D%22html_61c435a0ce2f434f96c04819bf2ab6bd%22%20style%3D%22width%3A%20100.0%25%3B%20height%3A%20100.0%25%3B%22%3EKeener%20Auto%20Repair%2CScottdale%3C/div%3E%27%29%5B0%5D%3B%0A%20%20%20%20%20%20%20%20%20%20%20%20%20%20%20%20popup_08be8b0a37e049f2afb0cf90aff0445c.setContent%28html_61c435a0ce2f434f96c04819bf2ab6bd%29%3B%0A%20%20%20%20%20%20%20%20%20%20%20%20%0A%0A%20%20%20%20%20%20%20%20%20%20%20%20circle_marker_a0587c72eb5b4940a627608b0ccbdf26.bindPopup%28popup_08be8b0a37e049f2afb0cf90aff0445c%29%3B%0A%0A%20%20%20%20%20%20%20%20%20%20%20%20%0A%20%20%20%20%20%20%20%20%0A%20%20%20%20%0A%20%20%20%20%20%20%20%20%20%20%20%20var%20circle_marker_9a641e8c79914ff8a79d153513e126e2%20%3D%20L.circleMarker%28%0A%20%20%20%20%20%20%20%20%20%20%20%20%20%20%20%20%5B33.816973076084516%2C-84.31454031261865%5D%2C%0A%20%20%20%20%20%20%20%20%20%20%20%20%20%20%20%20%7B%0A%20%20%22bubblingMouseEvents%22%3A%20true%2C%0A%20%20%22color%22%3A%20%22Blue%22%2C%0A%20%20%22dashArray%22%3A%20null%2C%0A%20%20%22dashOffset%22%3A%20null%2C%0A%20%20%22fill%22%3A%20true%2C%0A%20%20%22fillColor%22%3A%20%22%2390EE90%22%2C%0A%20%20%22fillOpacity%22%3A%200.7%2C%0A%20%20%22fillRule%22%3A%20%22evenodd%22%2C%0A%20%20%22lineCap%22%3A%20%22round%22%2C%0A%20%20%22lineJoin%22%3A%20%22round%22%2C%0A%20%20%22opacity%22%3A%201.0%2C%0A%20%20%22radius%22%3A%206%2C%0A%20%20%22stroke%22%3A%20true%2C%0A%20%20%22weight%22%3A%203%0A%7D%0A%20%20%20%20%20%20%20%20%20%20%20%20%20%20%20%20%29.addTo%28map_60541c9221084dc4a2066ded7d15f039%29%3B%0A%20%20%20%20%20%20%20%20%20%20%20%20%0A%20%20%20%20%0A%20%20%20%20%20%20%20%20%20%20%20%20var%20popup_e878e4434c54404c876caaee31fb6110%20%3D%20L.popup%28%7BmaxWidth%3A%20%27300%27%7D%29%3B%0A%0A%20%20%20%20%20%20%20%20%20%20%20%20%0A%20%20%20%20%20%20%20%20%20%20%20%20%20%20%20%20var%20html_7213432624654d2789e4ce50cf0643ea%20%3D%20%24%28%27%3Cdiv%20id%3D%22html_7213432624654d2789e4ce50cf0643ea%22%20style%3D%22width%3A%20100.0%25%3B%20height%3A%20100.0%25%3B%22%3EAAA%20Toco%20Hills%20Car%20Care%20Plus%2CAtlanta%3C/div%3E%27%29%5B0%5D%3B%0A%20%20%20%20%20%20%20%20%20%20%20%20%20%20%20%20popup_e878e4434c54404c876caaee31fb6110.setContent%28html_7213432624654d2789e4ce50cf0643ea%29%3B%0A%20%20%20%20%20%20%20%20%20%20%20%20%0A%0A%20%20%20%20%20%20%20%20%20%20%20%20circle_marker_9a641e8c79914ff8a79d153513e126e2.bindPopup%28popup_e878e4434c54404c876caaee31fb6110%29%3B%0A%0A%20%20%20%20%20%20%20%20%20%20%20%20%0A%20%20%20%20%20%20%20%20%0A%20%20%20%20%0A%20%20%20%20%20%20%20%20%20%20%20%20var%20circle_marker_87b906c3efc5497987cd74236666934d%20%3D%20L.circleMarker%28%0A%20%20%20%20%20%20%20%20%20%20%20%20%20%20%20%20%5B33.8029544%2C-84.41518169%5D%2C%0A%20%20%20%20%20%20%20%20%20%20%20%20%20%20%20%20%7B%0A%20%20%22bubblingMouseEvents%22%3A%20true%2C%0A%20%20%22color%22%3A%20%22Blue%22%2C%0A%20%20%22dashArray%22%3A%20null%2C%0A%20%20%22dashOffset%22%3A%20null%2C%0A%20%20%22fill%22%3A%20true%2C%0A%20%20%22fillColor%22%3A%20%22%2390EE90%22%2C%0A%20%20%22fillOpacity%22%3A%200.7%2C%0A%20%20%22fillRule%22%3A%20%22evenodd%22%2C%0A%20%20%22lineCap%22%3A%20%22round%22%2C%0A%20%20%22lineJoin%22%3A%20%22round%22%2C%0A%20%20%22opacity%22%3A%201.0%2C%0A%20%20%22radius%22%3A%206%2C%0A%20%20%22stroke%22%3A%20true%2C%0A%20%20%22weight%22%3A%203%0A%7D%0A%20%20%20%20%20%20%20%20%20%20%20%20%20%20%20%20%29.addTo%28map_60541c9221084dc4a2066ded7d15f039%29%3B%0A%20%20%20%20%20%20%20%20%20%20%20%20%0A%20%20%20%20%0A%20%20%20%20%20%20%20%20%20%20%20%20var%20popup_0bd206c1e7ce4f1a8ca5552d1c4b069d%20%3D%20L.popup%28%7BmaxWidth%3A%20%27300%27%7D%29%3B%0A%0A%20%20%20%20%20%20%20%20%20%20%20%20%0A%20%20%20%20%20%20%20%20%20%20%20%20%20%20%20%20var%20html_7676400258dd4280869470d9438af7de%20%3D%20%24%28%27%3Cdiv%20id%3D%22html_7676400258dd4280869470d9438af7de%22%20style%3D%22width%3A%20100.0%25%3B%20height%3A%20100.0%25%3B%22%3EFirestone%20Complete%20Auto%20Care%2CAtlanta%3C/div%3E%27%29%5B0%5D%3B%0A%20%20%20%20%20%20%20%20%20%20%20%20%20%20%20%20popup_0bd206c1e7ce4f1a8ca5552d1c4b069d.setContent%28html_7676400258dd4280869470d9438af7de%29%3B%0A%20%20%20%20%20%20%20%20%20%20%20%20%0A%0A%20%20%20%20%20%20%20%20%20%20%20%20circle_marker_87b906c3efc5497987cd74236666934d.bindPopup%28popup_0bd206c1e7ce4f1a8ca5552d1c4b069d%29%3B%0A%0A%20%20%20%20%20%20%20%20%20%20%20%20%0A%20%20%20%20%20%20%20%20%0A%20%20%20%20%0A%20%20%20%20%20%20%20%20%20%20%20%20var%20circle_marker_8c05f4cfd37e47cc9e9766c15078a94b%20%3D%20L.circleMarker%28%0A%20%20%20%20%20%20%20%20%20%20%20%20%20%20%20%20%5B33.680977%2C-84.390656%5D%2C%0A%20%20%20%20%20%20%20%20%20%20%20%20%20%20%20%20%7B%0A%20%20%22bubblingMouseEvents%22%3A%20true%2C%0A%20%20%22color%22%3A%20%22Blue%22%2C%0A%20%20%22dashArray%22%3A%20null%2C%0A%20%20%22dashOffset%22%3A%20null%2C%0A%20%20%22fill%22%3A%20true%2C%0A%20%20%22fillColor%22%3A%20%22%2390EE90%22%2C%0A%20%20%22fillOpacity%22%3A%200.7%2C%0A%20%20%22fillRule%22%3A%20%22evenodd%22%2C%0A%20%20%22lineCap%22%3A%20%22round%22%2C%0A%20%20%22lineJoin%22%3A%20%22round%22%2C%0A%20%20%22opacity%22%3A%201.0%2C%0A%20%20%22radius%22%3A%206%2C%0A%20%20%22stroke%22%3A%20true%2C%0A%20%20%22weight%22%3A%203%0A%7D%0A%20%20%20%20%20%20%20%20%20%20%20%20%20%20%20%20%29.addTo%28map_60541c9221084dc4a2066ded7d15f039%29%3B%0A%20%20%20%20%20%20%20%20%20%20%20%20%0A%20%20%20%20%0A%20%20%20%20%20%20%20%20%20%20%20%20var%20popup_7dcbdbad09b94900becdd00b95d22a00%20%3D%20L.popup%28%7BmaxWidth%3A%20%27300%27%7D%29%3B%0A%0A%20%20%20%20%20%20%20%20%20%20%20%20%0A%20%20%20%20%20%20%20%20%20%20%20%20%20%20%20%20var%20html_e55df1c1bda74b7a92cfe112a38190bf%20%3D%20%24%28%27%3Cdiv%20id%3D%22html_e55df1c1bda74b7a92cfe112a38190bf%22%20style%3D%22width%3A%20100.0%25%3B%20height%3A%20100.0%25%3B%22%3ECleveland%20Tires%20%26amp%3B%20Wheels%2CAtlanta%3C/div%3E%27%29%5B0%5D%3B%0A%20%20%20%20%20%20%20%20%20%20%20%20%20%20%20%20popup_7dcbdbad09b94900becdd00b95d22a00.setContent%28html_e55df1c1bda74b7a92cfe112a38190bf%29%3B%0A%20%20%20%20%20%20%20%20%20%20%20%20%0A%0A%20%20%20%20%20%20%20%20%20%20%20%20circle_marker_8c05f4cfd37e47cc9e9766c15078a94b.bindPopup%28popup_7dcbdbad09b94900becdd00b95d22a00%29%3B%0A%0A%20%20%20%20%20%20%20%20%20%20%20%20%0A%20%20%20%20%20%20%20%20%0A%20%20%20%20%0A%20%20%20%20%20%20%20%20%20%20%20%20var%20circle_marker_18e8cca8262a437383846b9bf0e0e96a%20%3D%20L.circleMarker%28%0A%20%20%20%20%20%20%20%20%20%20%20%20%20%20%20%20%5B33.893640000000005%2C-84.301813%5D%2C%0A%20%20%20%20%20%20%20%20%20%20%20%20%20%20%20%20%7B%0A%20%20%22bubblingMouseEvents%22%3A%20true%2C%0A%20%20%22color%22%3A%20%22Blue%22%2C%0A%20%20%22dashArray%22%3A%20null%2C%0A%20%20%22dashOffset%22%3A%20null%2C%0A%20%20%22fill%22%3A%20true%2C%0A%20%20%22fillColor%22%3A%20%22%2390EE90%22%2C%0A%20%20%22fillOpacity%22%3A%200.7%2C%0A%20%20%22fillRule%22%3A%20%22evenodd%22%2C%0A%20%20%22lineCap%22%3A%20%22round%22%2C%0A%20%20%22lineJoin%22%3A%20%22round%22%2C%0A%20%20%22opacity%22%3A%201.0%2C%0A%20%20%22radius%22%3A%206%2C%0A%20%20%22stroke%22%3A%20true%2C%0A%20%20%22weight%22%3A%203%0A%7D%0A%20%20%20%20%20%20%20%20%20%20%20%20%20%20%20%20%29.addTo%28map_60541c9221084dc4a2066ded7d15f039%29%3B%0A%20%20%20%20%20%20%20%20%20%20%20%20%0A%20%20%20%20%0A%20%20%20%20%20%20%20%20%20%20%20%20var%20popup_f4c14cdff3084468a190acd71f47c94d%20%3D%20L.popup%28%7BmaxWidth%3A%20%27300%27%7D%29%3B%0A%0A%20%20%20%20%20%20%20%20%20%20%20%20%0A%20%20%20%20%20%20%20%20%20%20%20%20%20%20%20%20var%20html_0155723b3fc84f648c1974454e82014c%20%3D%20%24%28%27%3Cdiv%20id%3D%22html_0155723b3fc84f648c1974454e82014c%22%20style%3D%22width%3A%20100.0%25%3B%20height%3A%20100.0%25%3B%22%3ECarma%20Motorsports%2CChamblee%3C/div%3E%27%29%5B0%5D%3B%0A%20%20%20%20%20%20%20%20%20%20%20%20%20%20%20%20popup_f4c14cdff3084468a190acd71f47c94d.setContent%28html_0155723b3fc84f648c1974454e82014c%29%3B%0A%20%20%20%20%20%20%20%20%20%20%20%20%0A%0A%20%20%20%20%20%20%20%20%20%20%20%20circle_marker_18e8cca8262a437383846b9bf0e0e96a.bindPopup%28popup_f4c14cdff3084468a190acd71f47c94d%29%3B%0A%0A%20%20%20%20%20%20%20%20%20%20%20%20%0A%20%20%20%20%20%20%20%20%0A%20%20%20%20%0A%20%20%20%20%20%20%20%20%20%20%20%20var%20circle_marker_6e4a34433d904cc98b042e41696bf041%20%3D%20L.circleMarker%28%0A%20%20%20%20%20%20%20%20%20%20%20%20%20%20%20%20%5B33.92647%2C-84.34473511%5D%2C%0A%20%20%20%20%20%20%20%20%20%20%20%20%20%20%20%20%7B%0A%20%20%22bubblingMouseEvents%22%3A%20true%2C%0A%20%20%22color%22%3A%20%22Blue%22%2C%0A%20%20%22dashArray%22%3A%20null%2C%0A%20%20%22dashOffset%22%3A%20null%2C%0A%20%20%22fill%22%3A%20true%2C%0A%20%20%22fillColor%22%3A%20%22%2390EE90%22%2C%0A%20%20%22fillOpacity%22%3A%200.7%2C%0A%20%20%22fillRule%22%3A%20%22evenodd%22%2C%0A%20%20%22lineCap%22%3A%20%22round%22%2C%0A%20%20%22lineJoin%22%3A%20%22round%22%2C%0A%20%20%22opacity%22%3A%201.0%2C%0A%20%20%22radius%22%3A%206%2C%0A%20%20%22stroke%22%3A%20true%2C%0A%20%20%22weight%22%3A%203%0A%7D%0A%20%20%20%20%20%20%20%20%20%20%20%20%20%20%20%20%29.addTo%28map_60541c9221084dc4a2066ded7d15f039%29%3B%0A%20%20%20%20%20%20%20%20%20%20%20%20%0A%20%20%20%20%0A%20%20%20%20%20%20%20%20%20%20%20%20var%20popup_aeb133beb2d049eb9e561a38af7c30a3%20%3D%20L.popup%28%7BmaxWidth%3A%20%27300%27%7D%29%3B%0A%0A%20%20%20%20%20%20%20%20%20%20%20%20%0A%20%20%20%20%20%20%20%20%20%20%20%20%20%20%20%20var%20html_9d9289541b83450c923ca8fa0e3f0dee%20%3D%20%24%28%27%3Cdiv%20id%3D%22html_9d9289541b83450c923ca8fa0e3f0dee%22%20style%3D%22width%3A%20100.0%25%3B%20height%3A%20100.0%25%3B%22%3EFirestone%20Complete%20Auto%20Care%2CDunwoody%3C/div%3E%27%29%5B0%5D%3B%0A%20%20%20%20%20%20%20%20%20%20%20%20%20%20%20%20popup_aeb133beb2d049eb9e561a38af7c30a3.setContent%28html_9d9289541b83450c923ca8fa0e3f0dee%29%3B%0A%20%20%20%20%20%20%20%20%20%20%20%20%0A%0A%20%20%20%20%20%20%20%20%20%20%20%20circle_marker_6e4a34433d904cc98b042e41696bf041.bindPopup%28popup_aeb133beb2d049eb9e561a38af7c30a3%29%3B%0A%0A%20%20%20%20%20%20%20%20%20%20%20%20%0A%20%20%20%20%20%20%20%20%0A%20%20%20%20%0A%20%20%20%20%20%20%20%20%20%20%20%20var%20circle_marker_f875fa7576b540d6ba2c0d9ebe555e98%20%3D%20L.circleMarker%28%0A%20%20%20%20%20%20%20%20%20%20%20%20%20%20%20%20%5B33.813423%2C-84.334503%5D%2C%0A%20%20%20%20%20%20%20%20%20%20%20%20%20%20%20%20%7B%0A%20%20%22bubblingMouseEvents%22%3A%20true%2C%0A%20%20%22color%22%3A%20%22Blue%22%2C%0A%20%20%22dashArray%22%3A%20null%2C%0A%20%20%22dashOffset%22%3A%20null%2C%0A%20%20%22fill%22%3A%20true%2C%0A%20%20%22fillColor%22%3A%20%22%2390EE90%22%2C%0A%20%20%22fillOpacity%22%3A%200.7%2C%0A%20%20%22fillRule%22%3A%20%22evenodd%22%2C%0A%20%20%22lineCap%22%3A%20%22round%22%2C%0A%20%20%22lineJoin%22%3A%20%22round%22%2C%0A%20%20%22opacity%22%3A%201.0%2C%0A%20%20%22radius%22%3A%206%2C%0A%20%20%22stroke%22%3A%20true%2C%0A%20%20%22weight%22%3A%203%0A%7D%0A%20%20%20%20%20%20%20%20%20%20%20%20%20%20%20%20%29.addTo%28map_60541c9221084dc4a2066ded7d15f039%29%3B%0A%20%20%20%20%20%20%20%20%20%20%20%20%0A%20%20%20%20%0A%20%20%20%20%20%20%20%20%20%20%20%20var%20popup_83a77d47f5714b3d830ce9ff9ccf0713%20%3D%20L.popup%28%7BmaxWidth%3A%20%27300%27%7D%29%3B%0A%0A%20%20%20%20%20%20%20%20%20%20%20%20%0A%20%20%20%20%20%20%20%20%20%20%20%20%20%20%20%20var%20html_c3a2e9f5e3644a17afd8c3e4aefe0453%20%3D%20%24%28%27%3Cdiv%20id%3D%22html_c3a2e9f5e3644a17afd8c3e4aefe0453%22%20style%3D%22width%3A%20100.0%25%3B%20height%3A%20100.0%25%3B%22%3EClassic%2073%20Garage%2CAtlanta%3C/div%3E%27%29%5B0%5D%3B%0A%20%20%20%20%20%20%20%20%20%20%20%20%20%20%20%20popup_83a77d47f5714b3d830ce9ff9ccf0713.setContent%28html_c3a2e9f5e3644a17afd8c3e4aefe0453%29%3B%0A%20%20%20%20%20%20%20%20%20%20%20%20%0A%0A%20%20%20%20%20%20%20%20%20%20%20%20circle_marker_f875fa7576b540d6ba2c0d9ebe555e98.bindPopup%28popup_83a77d47f5714b3d830ce9ff9ccf0713%29%3B%0A%0A%20%20%20%20%20%20%20%20%20%20%20%20%0A%20%20%20%20%20%20%20%20%0A%20%20%20%20%0A%20%20%20%20%20%20%20%20%20%20%20%20var%20circle_marker_de420ffdfa51458f85c244ce1edbd206%20%3D%20L.circleMarker%28%0A%20%20%20%20%20%20%20%20%20%20%20%20%20%20%20%20%5B33.90971755981445%2C-84.49443817138672%5D%2C%0A%20%20%20%20%20%20%20%20%20%20%20%20%20%20%20%20%7B%0A%20%20%22bubblingMouseEvents%22%3A%20true%2C%0A%20%20%22color%22%3A%20%22Blue%22%2C%0A%20%20%22dashArray%22%3A%20null%2C%0A%20%20%22dashOffset%22%3A%20null%2C%0A%20%20%22fill%22%3A%20true%2C%0A%20%20%22fillColor%22%3A%20%22%2390EE90%22%2C%0A%20%20%22fillOpacity%22%3A%200.7%2C%0A%20%20%22fillRule%22%3A%20%22evenodd%22%2C%0A%20%20%22lineCap%22%3A%20%22round%22%2C%0A%20%20%22lineJoin%22%3A%20%22round%22%2C%0A%20%20%22opacity%22%3A%201.0%2C%0A%20%20%22radius%22%3A%206%2C%0A%20%20%22stroke%22%3A%20true%2C%0A%20%20%22weight%22%3A%203%0A%7D%0A%20%20%20%20%20%20%20%20%20%20%20%20%20%20%20%20%29.addTo%28map_60541c9221084dc4a2066ded7d15f039%29%3B%0A%20%20%20%20%20%20%20%20%20%20%20%20%0A%20%20%20%20%0A%20%20%20%20%20%20%20%20%20%20%20%20var%20popup_f6f9b4fa5e914b84a9ddda1e7311a238%20%3D%20L.popup%28%7BmaxWidth%3A%20%27300%27%7D%29%3B%0A%0A%20%20%20%20%20%20%20%20%20%20%20%20%0A%20%20%20%20%20%20%20%20%20%20%20%20%20%20%20%20var%20html_55c4e0c5b84e4e32826d777797daa5f2%20%3D%20%24%28%27%3Cdiv%20id%3D%22html_55c4e0c5b84e4e32826d777797daa5f2%22%20style%3D%22width%3A%20100.0%25%3B%20height%3A%20100.0%25%3B%22%3EElite%20Motives%2CMarietta%3C/div%3E%27%29%5B0%5D%3B%0A%20%20%20%20%20%20%20%20%20%20%20%20%20%20%20%20popup_f6f9b4fa5e914b84a9ddda1e7311a238.setContent%28html_55c4e0c5b84e4e32826d777797daa5f2%29%3B%0A%20%20%20%20%20%20%20%20%20%20%20%20%0A%0A%20%20%20%20%20%20%20%20%20%20%20%20circle_marker_de420ffdfa51458f85c244ce1edbd206.bindPopup%28popup_f6f9b4fa5e914b84a9ddda1e7311a238%29%3B%0A%0A%20%20%20%20%20%20%20%20%20%20%20%20%0A%20%20%20%20%20%20%20%20%0A%20%20%20%20%0A%20%20%20%20%20%20%20%20%20%20%20%20var%20circle_marker_db937d7d8f4e4cf6a628029bfa6f1bb7%20%3D%20L.circleMarker%28%0A%20%20%20%20%20%20%20%20%20%20%20%20%20%20%20%20%5B33.92672895%2C-84.57198337%5D%2C%0A%20%20%20%20%20%20%20%20%20%20%20%20%20%20%20%20%7B%0A%20%20%22bubblingMouseEvents%22%3A%20true%2C%0A%20%20%22color%22%3A%20%22Blue%22%2C%0A%20%20%22dashArray%22%3A%20null%2C%0A%20%20%22dashOffset%22%3A%20null%2C%0A%20%20%22fill%22%3A%20true%2C%0A%20%20%22fillColor%22%3A%20%22%2390EE90%22%2C%0A%20%20%22fillOpacity%22%3A%200.7%2C%0A%20%20%22fillRule%22%3A%20%22evenodd%22%2C%0A%20%20%22lineCap%22%3A%20%22round%22%2C%0A%20%20%22lineJoin%22%3A%20%22round%22%2C%0A%20%20%22opacity%22%3A%201.0%2C%0A%20%20%22radius%22%3A%206%2C%0A%20%20%22stroke%22%3A%20true%2C%0A%20%20%22weight%22%3A%203%0A%7D%0A%20%20%20%20%20%20%20%20%20%20%20%20%20%20%20%20%29.addTo%28map_60541c9221084dc4a2066ded7d15f039%29%3B%0A%20%20%20%20%20%20%20%20%20%20%20%20%0A%20%20%20%20%0A%20%20%20%20%20%20%20%20%20%20%20%20var%20popup_f513b4b3566e4f59bbefad1085f41a3b%20%3D%20L.popup%28%7BmaxWidth%3A%20%27300%27%7D%29%3B%0A%0A%20%20%20%20%20%20%20%20%20%20%20%20%0A%20%20%20%20%20%20%20%20%20%20%20%20%20%20%20%20var%20html_eb79f0d56b6843f181682271498aa9ff%20%3D%20%24%28%27%3Cdiv%20id%3D%22html_eb79f0d56b6843f181682271498aa9ff%22%20style%3D%22width%3A%20100.0%25%3B%20height%3A%20100.0%25%3B%22%3EFirestone%20Complete%20Auto%20Care%2CMarietta%3C/div%3E%27%29%5B0%5D%3B%0A%20%20%20%20%20%20%20%20%20%20%20%20%20%20%20%20popup_f513b4b3566e4f59bbefad1085f41a3b.setContent%28html_eb79f0d56b6843f181682271498aa9ff%29%3B%0A%20%20%20%20%20%20%20%20%20%20%20%20%0A%0A%20%20%20%20%20%20%20%20%20%20%20%20circle_marker_db937d7d8f4e4cf6a628029bfa6f1bb7.bindPopup%28popup_f513b4b3566e4f59bbefad1085f41a3b%29%3B%0A%0A%20%20%20%20%20%20%20%20%20%20%20%20%0A%20%20%20%20%20%20%20%20%0A%20%20%20%20%0A%20%20%20%20%20%20%20%20%20%20%20%20var%20circle_marker_f2619a1e5e034f5f8161e2abd84c4397%20%3D%20L.circleMarker%28%0A%20%20%20%20%20%20%20%20%20%20%20%20%20%20%20%20%5B33.855743%2C-84.205036%5D%2C%0A%20%20%20%20%20%20%20%20%20%20%20%20%20%20%20%20%7B%0A%20%20%22bubblingMouseEvents%22%3A%20true%2C%0A%20%20%22color%22%3A%20%22Blue%22%2C%0A%20%20%22dashArray%22%3A%20null%2C%0A%20%20%22dashOffset%22%3A%20null%2C%0A%20%20%22fill%22%3A%20true%2C%0A%20%20%22fillColor%22%3A%20%22%2390EE90%22%2C%0A%20%20%22fillOpacity%22%3A%200.7%2C%0A%20%20%22fillRule%22%3A%20%22evenodd%22%2C%0A%20%20%22lineCap%22%3A%20%22round%22%2C%0A%20%20%22lineJoin%22%3A%20%22round%22%2C%0A%20%20%22opacity%22%3A%201.0%2C%0A%20%20%22radius%22%3A%206%2C%0A%20%20%22stroke%22%3A%20true%2C%0A%20%20%22weight%22%3A%203%0A%7D%0A%20%20%20%20%20%20%20%20%20%20%20%20%20%20%20%20%29.addTo%28map_60541c9221084dc4a2066ded7d15f039%29%3B%0A%20%20%20%20%20%20%20%20%20%20%20%20%0A%20%20%20%20%0A%20%20%20%20%20%20%20%20%20%20%20%20var%20popup_385ac1bef9f141ad94b21cee6e9861a2%20%3D%20L.popup%28%7BmaxWidth%3A%20%27300%27%7D%29%3B%0A%0A%20%20%20%20%20%20%20%20%20%20%20%20%0A%20%20%20%20%20%20%20%20%20%20%20%20%20%20%20%20var%20html_61d836c2cfb748ccae5fc3b4a73fcc2d%20%3D%20%24%28%27%3Cdiv%20id%3D%22html_61d836c2cfb748ccae5fc3b4a73fcc2d%22%20style%3D%22width%3A%20100.0%25%3B%20height%3A%20100.0%25%3B%22%3EWalmart%20Auto%20Care%20Centers%2CTucker%3C/div%3E%27%29%5B0%5D%3B%0A%20%20%20%20%20%20%20%20%20%20%20%20%20%20%20%20popup_385ac1bef9f141ad94b21cee6e9861a2.setContent%28html_61d836c2cfb748ccae5fc3b4a73fcc2d%29%3B%0A%20%20%20%20%20%20%20%20%20%20%20%20%0A%0A%20%20%20%20%20%20%20%20%20%20%20%20circle_marker_f2619a1e5e034f5f8161e2abd84c4397.bindPopup%28popup_385ac1bef9f141ad94b21cee6e9861a2%29%3B%0A%0A%20%20%20%20%20%20%20%20%20%20%20%20%0A%20%20%20%20%20%20%20%20%0A%20%20%20%20%0A%20%20%20%20%20%20%20%20%20%20%20%20var%20circle_marker_a065dd7297134fc094a219337f07d2ef%20%3D%20L.circleMarker%28%0A%20%20%20%20%20%20%20%20%20%20%20%20%20%20%20%20%5B33.720642%2C-84.392157%5D%2C%0A%20%20%20%20%20%20%20%20%20%20%20%20%20%20%20%20%7B%0A%20%20%22bubblingMouseEvents%22%3A%20true%2C%0A%20%20%22color%22%3A%20%22Blue%22%2C%0A%20%20%22dashArray%22%3A%20null%2C%0A%20%20%22dashOffset%22%3A%20null%2C%0A%20%20%22fill%22%3A%20true%2C%0A%20%20%22fillColor%22%3A%20%22%2390EE90%22%2C%0A%20%20%22fillOpacity%22%3A%200.7%2C%0A%20%20%22fillRule%22%3A%20%22evenodd%22%2C%0A%20%20%22lineCap%22%3A%20%22round%22%2C%0A%20%20%22lineJoin%22%3A%20%22round%22%2C%0A%20%20%22opacity%22%3A%201.0%2C%0A%20%20%22radius%22%3A%206%2C%0A%20%20%22stroke%22%3A%20true%2C%0A%20%20%22weight%22%3A%203%0A%7D%0A%20%20%20%20%20%20%20%20%20%20%20%20%20%20%20%20%29.addTo%28map_60541c9221084dc4a2066ded7d15f039%29%3B%0A%20%20%20%20%20%20%20%20%20%20%20%20%0A%20%20%20%20%0A%20%20%20%20%20%20%20%20%20%20%20%20var%20popup_dfcd8815474b4af79bd8ea8935192993%20%3D%20L.popup%28%7BmaxWidth%3A%20%27300%27%7D%29%3B%0A%0A%20%20%20%20%20%20%20%20%20%20%20%20%0A%20%20%20%20%20%20%20%20%20%20%20%20%20%20%20%20var%20html_f527807d3e7c40229c14a9b2722253d3%20%3D%20%24%28%27%3Cdiv%20id%3D%22html_f527807d3e7c40229c14a9b2722253d3%22%20style%3D%22width%3A%20100.0%25%3B%20height%3A%20100.0%25%3B%22%3ECummins%20Sales%20and%20Service%2CAtlanta%3C/div%3E%27%29%5B0%5D%3B%0A%20%20%20%20%20%20%20%20%20%20%20%20%20%20%20%20popup_dfcd8815474b4af79bd8ea8935192993.setContent%28html_f527807d3e7c40229c14a9b2722253d3%29%3B%0A%20%20%20%20%20%20%20%20%20%20%20%20%0A%0A%20%20%20%20%20%20%20%20%20%20%20%20circle_marker_a065dd7297134fc094a219337f07d2ef.bindPopup%28popup_dfcd8815474b4af79bd8ea8935192993%29%3B%0A%0A%20%20%20%20%20%20%20%20%20%20%20%20%0A%20%20%20%20%20%20%20%20%0A%20%20%20%20%0A%20%20%20%20%20%20%20%20%20%20%20%20var%20circle_marker_1237de8d232045b0ac359aad533e5071%20%3D%20L.circleMarker%28%0A%20%20%20%20%20%20%20%20%20%20%20%20%20%20%20%20%5B33.91674041748047%2C-84.54828643798828%5D%2C%0A%20%20%20%20%20%20%20%20%20%20%20%20%20%20%20%20%7B%0A%20%20%22bubblingMouseEvents%22%3A%20true%2C%0A%20%20%22color%22%3A%20%22Blue%22%2C%0A%20%20%22dashArray%22%3A%20null%2C%0A%20%20%22dashOffset%22%3A%20null%2C%0A%20%20%22fill%22%3A%20true%2C%0A%20%20%22fillColor%22%3A%20%22%2390EE90%22%2C%0A%20%20%22fillOpacity%22%3A%200.7%2C%0A%20%20%22fillRule%22%3A%20%22evenodd%22%2C%0A%20%20%22lineCap%22%3A%20%22round%22%2C%0A%20%20%22lineJoin%22%3A%20%22round%22%2C%0A%20%20%22opacity%22%3A%201.0%2C%0A%20%20%22radius%22%3A%206%2C%0A%20%20%22stroke%22%3A%20true%2C%0A%20%20%22weight%22%3A%203%0A%7D%0A%20%20%20%20%20%20%20%20%20%20%20%20%20%20%20%20%29.addTo%28map_60541c9221084dc4a2066ded7d15f039%29%3B%0A%20%20%20%20%20%20%20%20%20%20%20%20%0A%20%20%20%20%0A%20%20%20%20%20%20%20%20%20%20%20%20var%20popup_f0d0a22068b8469ba6eaf2455eb13f60%20%3D%20L.popup%28%7BmaxWidth%3A%20%27300%27%7D%29%3B%0A%0A%20%20%20%20%20%20%20%20%20%20%20%20%0A%20%20%20%20%20%20%20%20%20%20%20%20%20%20%20%20var%20html_30007dd9bb2b4b59b99bf1f3d25b015f%20%3D%20%24%28%27%3Cdiv%20id%3D%22html_30007dd9bb2b4b59b99bf1f3d25b015f%22%20style%3D%22width%3A%20100.0%25%3B%20height%3A%20100.0%25%3B%22%3EAjs%20auto%20inc%2CMarietta%3C/div%3E%27%29%5B0%5D%3B%0A%20%20%20%20%20%20%20%20%20%20%20%20%20%20%20%20popup_f0d0a22068b8469ba6eaf2455eb13f60.setContent%28html_30007dd9bb2b4b59b99bf1f3d25b015f%29%3B%0A%20%20%20%20%20%20%20%20%20%20%20%20%0A%0A%20%20%20%20%20%20%20%20%20%20%20%20circle_marker_1237de8d232045b0ac359aad533e5071.bindPopup%28popup_f0d0a22068b8469ba6eaf2455eb13f60%29%3B%0A%0A%20%20%20%20%20%20%20%20%20%20%20%20%0A%20%20%20%20%20%20%20%20%0A%20%20%20%20%0A%20%20%20%20%20%20%20%20%20%20%20%20var%20circle_marker_1e47c4144ee7467b8448e05965be3c2e%20%3D%20L.circleMarker%28%0A%20%20%20%20%20%20%20%20%20%20%20%20%20%20%20%20%5B33.586866%2C-84.472179%5D%2C%0A%20%20%20%20%20%20%20%20%20%20%20%20%20%20%20%20%7B%0A%20%20%22bubblingMouseEvents%22%3A%20true%2C%0A%20%20%22color%22%3A%20%22Blue%22%2C%0A%20%20%22dashArray%22%3A%20null%2C%0A%20%20%22dashOffset%22%3A%20null%2C%0A%20%20%22fill%22%3A%20true%2C%0A%20%20%22fillColor%22%3A%20%22%2390EE90%22%2C%0A%20%20%22fillOpacity%22%3A%200.7%2C%0A%20%20%22fillRule%22%3A%20%22evenodd%22%2C%0A%20%20%22lineCap%22%3A%20%22round%22%2C%0A%20%20%22lineJoin%22%3A%20%22round%22%2C%0A%20%20%22opacity%22%3A%201.0%2C%0A%20%20%22radius%22%3A%206%2C%0A%20%20%22stroke%22%3A%20true%2C%0A%20%20%22weight%22%3A%203%0A%7D%0A%20%20%20%20%20%20%20%20%20%20%20%20%20%20%20%20%29.addTo%28map_60541c9221084dc4a2066ded7d15f039%29%3B%0A%20%20%20%20%20%20%20%20%20%20%20%20%0A%20%20%20%20%0A%20%20%20%20%20%20%20%20%20%20%20%20var%20popup_2e3b4ecc56fa43b8bba0a46af73e2a17%20%3D%20L.popup%28%7BmaxWidth%3A%20%27300%27%7D%29%3B%0A%0A%20%20%20%20%20%20%20%20%20%20%20%20%0A%20%20%20%20%20%20%20%20%20%20%20%20%20%20%20%20var%20html_63341641263b43e6bbdc3cc1a3f1f02c%20%3D%20%24%28%27%3Cdiv%20id%3D%22html_63341641263b43e6bbdc3cc1a3f1f02c%22%20style%3D%22width%3A%20100.0%25%3B%20height%3A%20100.0%25%3B%22%3EWalmart%20Auto%20Care%20Centers%2CCollege%20Park%3C/div%3E%27%29%5B0%5D%3B%0A%20%20%20%20%20%20%20%20%20%20%20%20%20%20%20%20popup_2e3b4ecc56fa43b8bba0a46af73e2a17.setContent%28html_63341641263b43e6bbdc3cc1a3f1f02c%29%3B%0A%20%20%20%20%20%20%20%20%20%20%20%20%0A%0A%20%20%20%20%20%20%20%20%20%20%20%20circle_marker_1e47c4144ee7467b8448e05965be3c2e.bindPopup%28popup_2e3b4ecc56fa43b8bba0a46af73e2a17%29%3B%0A%0A%20%20%20%20%20%20%20%20%20%20%20%20%0A%20%20%20%20%20%20%20%20%0A%3C/script%3E onload=\"this.contentDocument.open();this.contentDocument.write(    decodeURIComponent(this.getAttribute('data-html')));this.contentDocument.close();\" allowfullscreen webkitallowfullscreen mozallowfullscreen></iframe></div></div>"
     },
     "metadata": {},
     "execution_count": 23
    }
   ],
   "source": [
    "atlanta_workshop_df_map = folium.Map(location=[latitude, longitude], zoom_start=10)\n",
    "\n",
    "for lat, long, name, city in zip(atlanta_workshop_df['Latitude'], atlanta_workshop_df['Longitude'], atlanta_workshop_df['Name'], atlanta_workshop_df['City']):\n",
    "    label = '{},{}'.format(name, city)\n",
    "    label = folium.Popup(label, parse_html=True)\n",
    "    folium.CircleMarker(\n",
    "        location=[lat, long],\n",
    "        radius=6,\n",
    "        popup=label,\n",
    "        color='Blue',\n",
    "        fill=True,\n",
    "        fill_color='#90EE90',\n",
    "        fill_opacity=0.7,\n",
    "        parse_html=False\n",
    "    ).add_to(atlanta_workshop_df_map)\n",
    "\n",
    "atlanta_workshop_df_map"
   ]
  },
  {
   "cell_type": "code",
   "execution_count": 24,
   "metadata": {},
   "outputs": [
    {
     "output_type": "execute_result",
     "data": {
      "text/plain": [
       "     Latitude  Longitude\n",
       "0   33.926030 -84.379634\n",
       "1   33.907253 -84.285425\n",
       "2   33.897463 -84.280205\n",
       "3   33.911224 -84.493885\n",
       "4   33.498769 -84.436424\n",
       "5   33.763641 -84.531013\n",
       "6   33.896662 -84.539914\n",
       "7   33.793944 -84.270471\n",
       "8   33.842290 -84.243754\n",
       "9   33.906532 -84.296420\n",
       "10  33.977724 -84.417457\n",
       "11  33.933993 -84.483389\n",
       "12  33.571971 -84.410244\n",
       "13  33.548475 -84.251924\n",
       "14  33.968169 -84.259692\n",
       "15  33.824764 -84.125852\n",
       "16  33.621183 -84.352205\n",
       "17  33.774509 -84.601062\n",
       "18  33.577030 -84.540245\n",
       "19  33.793111 -84.228579\n",
       "20  33.614420 -84.404005\n",
       "21  33.799389 -84.216317\n",
       "22  33.568144 -84.536269\n",
       "23  33.900833 -84.300163\n",
       "24  33.571765 -84.357203\n",
       "25  33.794003 -84.267432\n",
       "26  33.816973 -84.314540\n",
       "27  33.802954 -84.415182\n",
       "28  33.680977 -84.390656\n",
       "29  33.893640 -84.301813\n",
       "30  33.926470 -84.344735\n",
       "31  33.813423 -84.334503\n",
       "32  33.909718 -84.494438\n",
       "33  33.926729 -84.571983\n",
       "34  33.855743 -84.205036\n",
       "35  33.720642 -84.392157\n",
       "36  33.916740 -84.548286\n",
       "37  33.586866 -84.472179"
      ],
      "text/html": "<div>\n<style scoped>\n    .dataframe tbody tr th:only-of-type {\n        vertical-align: middle;\n    }\n\n    .dataframe tbody tr th {\n        vertical-align: top;\n    }\n\n    .dataframe thead th {\n        text-align: right;\n    }\n</style>\n<table border=\"1\" class=\"dataframe\">\n  <thead>\n    <tr style=\"text-align: right;\">\n      <th></th>\n      <th>Latitude</th>\n      <th>Longitude</th>\n    </tr>\n  </thead>\n  <tbody>\n    <tr>\n      <th>0</th>\n      <td>33.926030</td>\n      <td>-84.379634</td>\n    </tr>\n    <tr>\n      <th>1</th>\n      <td>33.907253</td>\n      <td>-84.285425</td>\n    </tr>\n    <tr>\n      <th>2</th>\n      <td>33.897463</td>\n      <td>-84.280205</td>\n    </tr>\n    <tr>\n      <th>3</th>\n      <td>33.911224</td>\n      <td>-84.493885</td>\n    </tr>\n    <tr>\n      <th>4</th>\n      <td>33.498769</td>\n      <td>-84.436424</td>\n    </tr>\n    <tr>\n      <th>5</th>\n      <td>33.763641</td>\n      <td>-84.531013</td>\n    </tr>\n    <tr>\n      <th>6</th>\n      <td>33.896662</td>\n      <td>-84.539914</td>\n    </tr>\n    <tr>\n      <th>7</th>\n      <td>33.793944</td>\n      <td>-84.270471</td>\n    </tr>\n    <tr>\n      <th>8</th>\n      <td>33.842290</td>\n      <td>-84.243754</td>\n    </tr>\n    <tr>\n      <th>9</th>\n      <td>33.906532</td>\n      <td>-84.296420</td>\n    </tr>\n    <tr>\n      <th>10</th>\n      <td>33.977724</td>\n      <td>-84.417457</td>\n    </tr>\n    <tr>\n      <th>11</th>\n      <td>33.933993</td>\n      <td>-84.483389</td>\n    </tr>\n    <tr>\n      <th>12</th>\n      <td>33.571971</td>\n      <td>-84.410244</td>\n    </tr>\n    <tr>\n      <th>13</th>\n      <td>33.548475</td>\n      <td>-84.251924</td>\n    </tr>\n    <tr>\n      <th>14</th>\n      <td>33.968169</td>\n      <td>-84.259692</td>\n    </tr>\n    <tr>\n      <th>15</th>\n      <td>33.824764</td>\n      <td>-84.125852</td>\n    </tr>\n    <tr>\n      <th>16</th>\n      <td>33.621183</td>\n      <td>-84.352205</td>\n    </tr>\n    <tr>\n      <th>17</th>\n      <td>33.774509</td>\n      <td>-84.601062</td>\n    </tr>\n    <tr>\n      <th>18</th>\n      <td>33.577030</td>\n      <td>-84.540245</td>\n    </tr>\n    <tr>\n      <th>19</th>\n      <td>33.793111</td>\n      <td>-84.228579</td>\n    </tr>\n    <tr>\n      <th>20</th>\n      <td>33.614420</td>\n      <td>-84.404005</td>\n    </tr>\n    <tr>\n      <th>21</th>\n      <td>33.799389</td>\n      <td>-84.216317</td>\n    </tr>\n    <tr>\n      <th>22</th>\n      <td>33.568144</td>\n      <td>-84.536269</td>\n    </tr>\n    <tr>\n      <th>23</th>\n      <td>33.900833</td>\n      <td>-84.300163</td>\n    </tr>\n    <tr>\n      <th>24</th>\n      <td>33.571765</td>\n      <td>-84.357203</td>\n    </tr>\n    <tr>\n      <th>25</th>\n      <td>33.794003</td>\n      <td>-84.267432</td>\n    </tr>\n    <tr>\n      <th>26</th>\n      <td>33.816973</td>\n      <td>-84.314540</td>\n    </tr>\n    <tr>\n      <th>27</th>\n      <td>33.802954</td>\n      <td>-84.415182</td>\n    </tr>\n    <tr>\n      <th>28</th>\n      <td>33.680977</td>\n      <td>-84.390656</td>\n    </tr>\n    <tr>\n      <th>29</th>\n      <td>33.893640</td>\n      <td>-84.301813</td>\n    </tr>\n    <tr>\n      <th>30</th>\n      <td>33.926470</td>\n      <td>-84.344735</td>\n    </tr>\n    <tr>\n      <th>31</th>\n      <td>33.813423</td>\n      <td>-84.334503</td>\n    </tr>\n    <tr>\n      <th>32</th>\n      <td>33.909718</td>\n      <td>-84.494438</td>\n    </tr>\n    <tr>\n      <th>33</th>\n      <td>33.926729</td>\n      <td>-84.571983</td>\n    </tr>\n    <tr>\n      <th>34</th>\n      <td>33.855743</td>\n      <td>-84.205036</td>\n    </tr>\n    <tr>\n      <th>35</th>\n      <td>33.720642</td>\n      <td>-84.392157</td>\n    </tr>\n    <tr>\n      <th>36</th>\n      <td>33.916740</td>\n      <td>-84.548286</td>\n    </tr>\n    <tr>\n      <th>37</th>\n      <td>33.586866</td>\n      <td>-84.472179</td>\n    </tr>\n  </tbody>\n</table>\n</div>"
     },
     "metadata": {},
     "execution_count": 24
    }
   ],
   "source": [
    "atlanta_workshop_group = atlanta_workshop_df[['Latitude', 'Longitude']]\n",
    "atlanta_workshop_group"
   ]
  },
  {
   "cell_type": "code",
   "execution_count": 25,
   "metadata": {},
   "outputs": [],
   "source": [
    "import matplotlib.cm as cm\n",
    "import matplotlib.colors as colors\n",
    "from sklearn.cluster import KMeans"
   ]
  },
  {
   "cell_type": "code",
   "execution_count": 26,
   "metadata": {},
   "outputs": [],
   "source": [
    "# set number of clusters\n",
    "kclusters = 7\n",
    "\n",
    "\n",
    "# run k-means clustering\n",
    "kmeans = KMeans(n_clusters=kclusters, random_state=0).fit(atlanta_workshop_group)\n",
    "\n",
    "# check cluster labels generated for each row in the dataframe\n",
    "cluster_labels = kmeans.labels_.tolist()"
   ]
  },
  {
   "cell_type": "code",
   "execution_count": 27,
   "metadata": {},
   "outputs": [
    {
     "output_type": "stream",
     "name": "stderr",
     "text": [
      "<ipython-input-27-13960be09ef0>:1: SettingWithCopyWarning: \nA value is trying to be set on a copy of a slice from a DataFrame.\nTry using .loc[row_indexer,col_indexer] = value instead\n\nSee the caveats in the documentation: https://pandas.pydata.org/pandas-docs/stable/user_guide/indexing.html#returning-a-view-versus-a-copy\n  atlanta_workshop_df['Cluster labels'] = cluster_labels\n"
     ]
    }
   ],
   "source": [
    "atlanta_workshop_df['Cluster labels'] = cluster_labels"
   ]
  },
  {
   "cell_type": "code",
   "execution_count": 28,
   "metadata": {},
   "outputs": [
    {
     "output_type": "execute_result",
     "data": {
      "text/plain": [
       "                                 Name  Cluster labels        Categories  \\\n",
       "0       Mr. Tire Auto Service Centers               3   Automotive Shop   \n",
       "1   Nalley Collision Center Doraville               5     Auto Workshop   \n",
       "2               Unique Auto Body Shop               5     Auto Workshop   \n",
       "3            Jim Ellis Mazda Marietta               0     Auto Workshop   \n",
       "4                       85 Automotive               4     Auto Workshop   \n",
       "5                          ACC Garage               6     Auto Workshop   \n",
       "6                    Driven Collision               0     Auto Workshop   \n",
       "7                     Munich West Inc               2     Auto Workshop   \n",
       "8        Firestone Complete Auto Care               2   Automotive Shop   \n",
       "9                   Eurofed - Atlanta               5     Auto Workshop   \n",
       "10        AAA East Cobb Car Care Plus               3  Insurance Office   \n",
       "11                 ND2SPD MotorSports               0     Auto Workshop   \n",
       "12       Firestone Complete Auto Care               4   Automotive Shop   \n",
       "13       Pep Boys Auto Service & Tire               1   Automotive Shop   \n",
       "14       Firestone Complete Auto Care               5   Automotive Shop   \n",
       "15          Walmart Auto Care Centers               2     Auto Workshop   \n",
       "16                      Tj Automotive               1   Automotive Shop   \n",
       "17          Walmart Auto Care Centers               6     Auto Workshop   \n",
       "18                  Caliber Collision               4   Automotive Shop   \n",
       "19       Firestone Complete Auto Care               2   Automotive Shop   \n",
       "20          Cummins Sales and Service               1     Auto Workshop   \n",
       "21                     MMC Automotive               2   Automotive Shop   \n",
       "22       Firestone Complete Auto Care               4     Auto Workshop   \n",
       "23       Firestone Complete Auto Care               5   Automotive Shop   \n",
       "24       Firestone Complete Auto Care               1   Automotive Shop   \n",
       "25                 Keener Auto Repair               2   Automotive Shop   \n",
       "26       AAA Toco Hills Car Care Plus               5  Insurance Office   \n",
       "27       Firestone Complete Auto Care               3   Automotive Shop   \n",
       "28           Cleveland Tires & Wheels               1     Auto Workshop   \n",
       "29                  Carma Motorsports               5     Auto Workshop   \n",
       "30       Firestone Complete Auto Care               3   Automotive Shop   \n",
       "31                  Classic 73 Garage               5     Auto Workshop   \n",
       "32                      Elite Motives               0     Auto Workshop   \n",
       "33       Firestone Complete Auto Care               0   Automotive Shop   \n",
       "34          Walmart Auto Care Centers               2     Auto Workshop   \n",
       "35          Cummins Sales and Service               1     Auto Workshop   \n",
       "36                       Ajs auto inc               0   Auto Dealership   \n",
       "37          Walmart Auto Care Centers               4     Auto Workshop   \n",
       "\n",
       "     Latitude  Longitude            City                        Id  \n",
       "0   33.926030 -84.379634   Sandy Springs  57d6aba1498e4ecc06bb0afc  \n",
       "1   33.907253 -84.285425       Doraville  58c19439e9dad103b4e525ba  \n",
       "2   33.897463 -84.280205       Doraville  6048d78d9c60e93a5d3b479b  \n",
       "3   33.911224 -84.493885        Marietta  5b377e8e840fc2002cfdc78f  \n",
       "4   33.498769 -84.436424    Fayetteville  5a849e7ff00a7027eebec016  \n",
       "5   33.763641 -84.531013         Atlanta  57b5cdab498e0f166a705e55  \n",
       "6   33.896662 -84.539914          Smyrna  5f52bfb5cf74b37227b523b8  \n",
       "7   33.793944 -84.270471         Decatur  4c758c92ff1fb60cae8af6a7  \n",
       "8   33.842290 -84.243754          Tucker  578d276c498ed96114d44bc8  \n",
       "9   33.906532 -84.296420         Atlanta  5bc5db1e46e1b6002c5ed865  \n",
       "10  33.977724 -84.417457        Marietta  5278026e498e1bb8c4b36407  \n",
       "11  33.933993 -84.483389        Marietta  57598d6e498ee70d48f92d28  \n",
       "12  33.571971 -84.410244       Riverdale  578d276c498ed96114d44b50  \n",
       "13  33.548475 -84.251924     Stockbridge  4fd3ce79e4b021197937eb42  \n",
       "14  33.968169 -84.259692        Norcross  578d276c498ed96114d44c22  \n",
       "15  33.824764 -84.125852  Stone Mountain  599b146c28374e303b0cc78e  \n",
       "16  33.621183 -84.352205     Forest Park  526e7de211d27af84b5708bb  \n",
       "17  33.774509 -84.601062  Lithia Springs  59964c64123a1921c327d959  \n",
       "18  33.577030 -84.540245      Union City  593067190531e83164f5ed8c  \n",
       "19  33.793111 -84.228579  Stone Mountain  578d276c498ed96114d44a75  \n",
       "20  33.614420 -84.404005         Atlanta  4c3615bf1e06d13adc9c733e  \n",
       "21  33.799389 -84.216317  Stone Mountain  4ee360ea722ea7b94419267a  \n",
       "22  33.568144 -84.536269      Union City  578d276d498ed96114d44e4a  \n",
       "23  33.900833 -84.300163        Chamblee  578d276f498ed96114d455ec  \n",
       "24  33.571765 -84.357203          Morrow  578d276c498ed96114d44bcb  \n",
       "25  33.794003 -84.267432       Scottdale  4def7f47c65bf3f03e974bab  \n",
       "26  33.816973 -84.314540         Atlanta  4e8dd6a90039a2626568795f  \n",
       "27  33.802954 -84.415182         Atlanta  578d276c498ed96114d44aa5  \n",
       "28  33.680977 -84.390656         Atlanta  57854d91498eb6c743a0fc52  \n",
       "29  33.893640 -84.301813        Chamblee  4a60ee74f964a5207ec11fe3  \n",
       "30  33.926470 -84.344735        Dunwoody  578d276e498ed96114d44f13  \n",
       "31  33.813423 -84.334503         Atlanta  5033e049e4b075a2456bdb36  \n",
       "32  33.909718 -84.494438        Marietta  581359ad38fa5192857244de  \n",
       "33  33.926729 -84.571983        Marietta  578d276b498ed96114d44694  \n",
       "34  33.855743 -84.205036          Tucker  59962f5662420b7f4bbf6e91  \n",
       "35  33.720642 -84.392157         Atlanta  58370509966e55479d0d3816  \n",
       "36  33.916740 -84.548286        Marietta  51504db3e4b0e39901351b23  \n",
       "37  33.586866 -84.472179    College Park  5992471faa6c95730e928246  "
      ],
      "text/html": "<div>\n<style scoped>\n    .dataframe tbody tr th:only-of-type {\n        vertical-align: middle;\n    }\n\n    .dataframe tbody tr th {\n        vertical-align: top;\n    }\n\n    .dataframe thead th {\n        text-align: right;\n    }\n</style>\n<table border=\"1\" class=\"dataframe\">\n  <thead>\n    <tr style=\"text-align: right;\">\n      <th></th>\n      <th>Name</th>\n      <th>Cluster labels</th>\n      <th>Categories</th>\n      <th>Latitude</th>\n      <th>Longitude</th>\n      <th>City</th>\n      <th>Id</th>\n    </tr>\n  </thead>\n  <tbody>\n    <tr>\n      <th>0</th>\n      <td>Mr. Tire Auto Service Centers</td>\n      <td>3</td>\n      <td>Automotive Shop</td>\n      <td>33.926030</td>\n      <td>-84.379634</td>\n      <td>Sandy Springs</td>\n      <td>57d6aba1498e4ecc06bb0afc</td>\n    </tr>\n    <tr>\n      <th>1</th>\n      <td>Nalley Collision Center Doraville</td>\n      <td>5</td>\n      <td>Auto Workshop</td>\n      <td>33.907253</td>\n      <td>-84.285425</td>\n      <td>Doraville</td>\n      <td>58c19439e9dad103b4e525ba</td>\n    </tr>\n    <tr>\n      <th>2</th>\n      <td>Unique Auto Body Shop</td>\n      <td>5</td>\n      <td>Auto Workshop</td>\n      <td>33.897463</td>\n      <td>-84.280205</td>\n      <td>Doraville</td>\n      <td>6048d78d9c60e93a5d3b479b</td>\n    </tr>\n    <tr>\n      <th>3</th>\n      <td>Jim Ellis Mazda Marietta</td>\n      <td>0</td>\n      <td>Auto Workshop</td>\n      <td>33.911224</td>\n      <td>-84.493885</td>\n      <td>Marietta</td>\n      <td>5b377e8e840fc2002cfdc78f</td>\n    </tr>\n    <tr>\n      <th>4</th>\n      <td>85 Automotive</td>\n      <td>4</td>\n      <td>Auto Workshop</td>\n      <td>33.498769</td>\n      <td>-84.436424</td>\n      <td>Fayetteville</td>\n      <td>5a849e7ff00a7027eebec016</td>\n    </tr>\n    <tr>\n      <th>5</th>\n      <td>ACC Garage</td>\n      <td>6</td>\n      <td>Auto Workshop</td>\n      <td>33.763641</td>\n      <td>-84.531013</td>\n      <td>Atlanta</td>\n      <td>57b5cdab498e0f166a705e55</td>\n    </tr>\n    <tr>\n      <th>6</th>\n      <td>Driven Collision</td>\n      <td>0</td>\n      <td>Auto Workshop</td>\n      <td>33.896662</td>\n      <td>-84.539914</td>\n      <td>Smyrna</td>\n      <td>5f52bfb5cf74b37227b523b8</td>\n    </tr>\n    <tr>\n      <th>7</th>\n      <td>Munich West Inc</td>\n      <td>2</td>\n      <td>Auto Workshop</td>\n      <td>33.793944</td>\n      <td>-84.270471</td>\n      <td>Decatur</td>\n      <td>4c758c92ff1fb60cae8af6a7</td>\n    </tr>\n    <tr>\n      <th>8</th>\n      <td>Firestone Complete Auto Care</td>\n      <td>2</td>\n      <td>Automotive Shop</td>\n      <td>33.842290</td>\n      <td>-84.243754</td>\n      <td>Tucker</td>\n      <td>578d276c498ed96114d44bc8</td>\n    </tr>\n    <tr>\n      <th>9</th>\n      <td>Eurofed - Atlanta</td>\n      <td>5</td>\n      <td>Auto Workshop</td>\n      <td>33.906532</td>\n      <td>-84.296420</td>\n      <td>Atlanta</td>\n      <td>5bc5db1e46e1b6002c5ed865</td>\n    </tr>\n    <tr>\n      <th>10</th>\n      <td>AAA East Cobb Car Care Plus</td>\n      <td>3</td>\n      <td>Insurance Office</td>\n      <td>33.977724</td>\n      <td>-84.417457</td>\n      <td>Marietta</td>\n      <td>5278026e498e1bb8c4b36407</td>\n    </tr>\n    <tr>\n      <th>11</th>\n      <td>ND2SPD MotorSports</td>\n      <td>0</td>\n      <td>Auto Workshop</td>\n      <td>33.933993</td>\n      <td>-84.483389</td>\n      <td>Marietta</td>\n      <td>57598d6e498ee70d48f92d28</td>\n    </tr>\n    <tr>\n      <th>12</th>\n      <td>Firestone Complete Auto Care</td>\n      <td>4</td>\n      <td>Automotive Shop</td>\n      <td>33.571971</td>\n      <td>-84.410244</td>\n      <td>Riverdale</td>\n      <td>578d276c498ed96114d44b50</td>\n    </tr>\n    <tr>\n      <th>13</th>\n      <td>Pep Boys Auto Service &amp; Tire</td>\n      <td>1</td>\n      <td>Automotive Shop</td>\n      <td>33.548475</td>\n      <td>-84.251924</td>\n      <td>Stockbridge</td>\n      <td>4fd3ce79e4b021197937eb42</td>\n    </tr>\n    <tr>\n      <th>14</th>\n      <td>Firestone Complete Auto Care</td>\n      <td>5</td>\n      <td>Automotive Shop</td>\n      <td>33.968169</td>\n      <td>-84.259692</td>\n      <td>Norcross</td>\n      <td>578d276c498ed96114d44c22</td>\n    </tr>\n    <tr>\n      <th>15</th>\n      <td>Walmart Auto Care Centers</td>\n      <td>2</td>\n      <td>Auto Workshop</td>\n      <td>33.824764</td>\n      <td>-84.125852</td>\n      <td>Stone Mountain</td>\n      <td>599b146c28374e303b0cc78e</td>\n    </tr>\n    <tr>\n      <th>16</th>\n      <td>Tj Automotive</td>\n      <td>1</td>\n      <td>Automotive Shop</td>\n      <td>33.621183</td>\n      <td>-84.352205</td>\n      <td>Forest Park</td>\n      <td>526e7de211d27af84b5708bb</td>\n    </tr>\n    <tr>\n      <th>17</th>\n      <td>Walmart Auto Care Centers</td>\n      <td>6</td>\n      <td>Auto Workshop</td>\n      <td>33.774509</td>\n      <td>-84.601062</td>\n      <td>Lithia Springs</td>\n      <td>59964c64123a1921c327d959</td>\n    </tr>\n    <tr>\n      <th>18</th>\n      <td>Caliber Collision</td>\n      <td>4</td>\n      <td>Automotive Shop</td>\n      <td>33.577030</td>\n      <td>-84.540245</td>\n      <td>Union City</td>\n      <td>593067190531e83164f5ed8c</td>\n    </tr>\n    <tr>\n      <th>19</th>\n      <td>Firestone Complete Auto Care</td>\n      <td>2</td>\n      <td>Automotive Shop</td>\n      <td>33.793111</td>\n      <td>-84.228579</td>\n      <td>Stone Mountain</td>\n      <td>578d276c498ed96114d44a75</td>\n    </tr>\n    <tr>\n      <th>20</th>\n      <td>Cummins Sales and Service</td>\n      <td>1</td>\n      <td>Auto Workshop</td>\n      <td>33.614420</td>\n      <td>-84.404005</td>\n      <td>Atlanta</td>\n      <td>4c3615bf1e06d13adc9c733e</td>\n    </tr>\n    <tr>\n      <th>21</th>\n      <td>MMC Automotive</td>\n      <td>2</td>\n      <td>Automotive Shop</td>\n      <td>33.799389</td>\n      <td>-84.216317</td>\n      <td>Stone Mountain</td>\n      <td>4ee360ea722ea7b94419267a</td>\n    </tr>\n    <tr>\n      <th>22</th>\n      <td>Firestone Complete Auto Care</td>\n      <td>4</td>\n      <td>Auto Workshop</td>\n      <td>33.568144</td>\n      <td>-84.536269</td>\n      <td>Union City</td>\n      <td>578d276d498ed96114d44e4a</td>\n    </tr>\n    <tr>\n      <th>23</th>\n      <td>Firestone Complete Auto Care</td>\n      <td>5</td>\n      <td>Automotive Shop</td>\n      <td>33.900833</td>\n      <td>-84.300163</td>\n      <td>Chamblee</td>\n      <td>578d276f498ed96114d455ec</td>\n    </tr>\n    <tr>\n      <th>24</th>\n      <td>Firestone Complete Auto Care</td>\n      <td>1</td>\n      <td>Automotive Shop</td>\n      <td>33.571765</td>\n      <td>-84.357203</td>\n      <td>Morrow</td>\n      <td>578d276c498ed96114d44bcb</td>\n    </tr>\n    <tr>\n      <th>25</th>\n      <td>Keener Auto Repair</td>\n      <td>2</td>\n      <td>Automotive Shop</td>\n      <td>33.794003</td>\n      <td>-84.267432</td>\n      <td>Scottdale</td>\n      <td>4def7f47c65bf3f03e974bab</td>\n    </tr>\n    <tr>\n      <th>26</th>\n      <td>AAA Toco Hills Car Care Plus</td>\n      <td>5</td>\n      <td>Insurance Office</td>\n      <td>33.816973</td>\n      <td>-84.314540</td>\n      <td>Atlanta</td>\n      <td>4e8dd6a90039a2626568795f</td>\n    </tr>\n    <tr>\n      <th>27</th>\n      <td>Firestone Complete Auto Care</td>\n      <td>3</td>\n      <td>Automotive Shop</td>\n      <td>33.802954</td>\n      <td>-84.415182</td>\n      <td>Atlanta</td>\n      <td>578d276c498ed96114d44aa5</td>\n    </tr>\n    <tr>\n      <th>28</th>\n      <td>Cleveland Tires &amp; Wheels</td>\n      <td>1</td>\n      <td>Auto Workshop</td>\n      <td>33.680977</td>\n      <td>-84.390656</td>\n      <td>Atlanta</td>\n      <td>57854d91498eb6c743a0fc52</td>\n    </tr>\n    <tr>\n      <th>29</th>\n      <td>Carma Motorsports</td>\n      <td>5</td>\n      <td>Auto Workshop</td>\n      <td>33.893640</td>\n      <td>-84.301813</td>\n      <td>Chamblee</td>\n      <td>4a60ee74f964a5207ec11fe3</td>\n    </tr>\n    <tr>\n      <th>30</th>\n      <td>Firestone Complete Auto Care</td>\n      <td>3</td>\n      <td>Automotive Shop</td>\n      <td>33.926470</td>\n      <td>-84.344735</td>\n      <td>Dunwoody</td>\n      <td>578d276e498ed96114d44f13</td>\n    </tr>\n    <tr>\n      <th>31</th>\n      <td>Classic 73 Garage</td>\n      <td>5</td>\n      <td>Auto Workshop</td>\n      <td>33.813423</td>\n      <td>-84.334503</td>\n      <td>Atlanta</td>\n      <td>5033e049e4b075a2456bdb36</td>\n    </tr>\n    <tr>\n      <th>32</th>\n      <td>Elite Motives</td>\n      <td>0</td>\n      <td>Auto Workshop</td>\n      <td>33.909718</td>\n      <td>-84.494438</td>\n      <td>Marietta</td>\n      <td>581359ad38fa5192857244de</td>\n    </tr>\n    <tr>\n      <th>33</th>\n      <td>Firestone Complete Auto Care</td>\n      <td>0</td>\n      <td>Automotive Shop</td>\n      <td>33.926729</td>\n      <td>-84.571983</td>\n      <td>Marietta</td>\n      <td>578d276b498ed96114d44694</td>\n    </tr>\n    <tr>\n      <th>34</th>\n      <td>Walmart Auto Care Centers</td>\n      <td>2</td>\n      <td>Auto Workshop</td>\n      <td>33.855743</td>\n      <td>-84.205036</td>\n      <td>Tucker</td>\n      <td>59962f5662420b7f4bbf6e91</td>\n    </tr>\n    <tr>\n      <th>35</th>\n      <td>Cummins Sales and Service</td>\n      <td>1</td>\n      <td>Auto Workshop</td>\n      <td>33.720642</td>\n      <td>-84.392157</td>\n      <td>Atlanta</td>\n      <td>58370509966e55479d0d3816</td>\n    </tr>\n    <tr>\n      <th>36</th>\n      <td>Ajs auto inc</td>\n      <td>0</td>\n      <td>Auto Dealership</td>\n      <td>33.916740</td>\n      <td>-84.548286</td>\n      <td>Marietta</td>\n      <td>51504db3e4b0e39901351b23</td>\n    </tr>\n    <tr>\n      <th>37</th>\n      <td>Walmart Auto Care Centers</td>\n      <td>4</td>\n      <td>Auto Workshop</td>\n      <td>33.586866</td>\n      <td>-84.472179</td>\n      <td>College Park</td>\n      <td>5992471faa6c95730e928246</td>\n    </tr>\n  </tbody>\n</table>\n</div>"
     },
     "metadata": {},
     "execution_count": 28
    }
   ],
   "source": [
    "atlanta_workshop_df  = atlanta_workshop_df[['Name', 'Cluster labels', 'Categories', 'Latitude', 'Longitude', 'City', 'Id']]\n",
    "atlanta_workshop_df"
   ]
  },
  {
   "cell_type": "code",
   "execution_count": 29,
   "metadata": {},
   "outputs": [],
   "source": [
    "import numpy as np"
   ]
  },
  {
   "cell_type": "code",
   "execution_count": 30,
   "metadata": {},
   "outputs": [
    {
     "output_type": "execute_result",
     "data": {
      "text/plain": [
       "<folium.folium.Map at 0x243d8c55fa0>"
      ],
      "text/html": "<div style=\"width:100%;\"><div style=\"position:relative;width:100%;height:0;padding-bottom:60%;\"><span style=\"color:#565656\">Make this Notebook Trusted to load map: File -> Trust Notebook</span><iframe src=\"about:blank\" style=\"position:absolute;width:100%;height:100%;left:0;top:0;border:none !important;\" data-html=%3C%21DOCTYPE%20html%3E%0A%3Chead%3E%20%20%20%20%0A%20%20%20%20%3Cmeta%20http-equiv%3D%22content-type%22%20content%3D%22text/html%3B%20charset%3DUTF-8%22%20/%3E%0A%20%20%20%20%3Cscript%3EL_PREFER_CANVAS%20%3D%20false%3B%20L_NO_TOUCH%20%3D%20false%3B%20L_DISABLE_3D%20%3D%20false%3B%3C/script%3E%0A%20%20%20%20%3Cscript%20src%3D%22https%3A//cdn.jsdelivr.net/npm/leaflet%401.2.0/dist/leaflet.js%22%3E%3C/script%3E%0A%20%20%20%20%3Cscript%20src%3D%22https%3A//ajax.googleapis.com/ajax/libs/jquery/1.11.1/jquery.min.js%22%3E%3C/script%3E%0A%20%20%20%20%3Cscript%20src%3D%22https%3A//maxcdn.bootstrapcdn.com/bootstrap/3.2.0/js/bootstrap.min.js%22%3E%3C/script%3E%0A%20%20%20%20%3Cscript%20src%3D%22https%3A//cdnjs.cloudflare.com/ajax/libs/Leaflet.awesome-markers/2.0.2/leaflet.awesome-markers.js%22%3E%3C/script%3E%0A%20%20%20%20%3Clink%20rel%3D%22stylesheet%22%20href%3D%22https%3A//cdn.jsdelivr.net/npm/leaflet%401.2.0/dist/leaflet.css%22/%3E%0A%20%20%20%20%3Clink%20rel%3D%22stylesheet%22%20href%3D%22https%3A//maxcdn.bootstrapcdn.com/bootstrap/3.2.0/css/bootstrap.min.css%22/%3E%0A%20%20%20%20%3Clink%20rel%3D%22stylesheet%22%20href%3D%22https%3A//maxcdn.bootstrapcdn.com/bootstrap/3.2.0/css/bootstrap-theme.min.css%22/%3E%0A%20%20%20%20%3Clink%20rel%3D%22stylesheet%22%20href%3D%22https%3A//maxcdn.bootstrapcdn.com/font-awesome/4.6.3/css/font-awesome.min.css%22/%3E%0A%20%20%20%20%3Clink%20rel%3D%22stylesheet%22%20href%3D%22https%3A//cdnjs.cloudflare.com/ajax/libs/Leaflet.awesome-markers/2.0.2/leaflet.awesome-markers.css%22/%3E%0A%20%20%20%20%3Clink%20rel%3D%22stylesheet%22%20href%3D%22https%3A//rawgit.com/python-visualization/folium/master/folium/templates/leaflet.awesome.rotate.css%22/%3E%0A%20%20%20%20%3Cstyle%3Ehtml%2C%20body%20%7Bwidth%3A%20100%25%3Bheight%3A%20100%25%3Bmargin%3A%200%3Bpadding%3A%200%3B%7D%3C/style%3E%0A%20%20%20%20%3Cstyle%3E%23map%20%7Bposition%3Aabsolute%3Btop%3A0%3Bbottom%3A0%3Bright%3A0%3Bleft%3A0%3B%7D%3C/style%3E%0A%20%20%20%20%0A%20%20%20%20%20%20%20%20%20%20%20%20%3Cstyle%3E%20%23map_13237c8e481d4a34b8596cbb7b42a87d%20%7B%0A%20%20%20%20%20%20%20%20%20%20%20%20%20%20%20%20position%20%3A%20relative%3B%0A%20%20%20%20%20%20%20%20%20%20%20%20%20%20%20%20width%20%3A%20100.0%25%3B%0A%20%20%20%20%20%20%20%20%20%20%20%20%20%20%20%20height%3A%20100.0%25%3B%0A%20%20%20%20%20%20%20%20%20%20%20%20%20%20%20%20left%3A%200.0%25%3B%0A%20%20%20%20%20%20%20%20%20%20%20%20%20%20%20%20top%3A%200.0%25%3B%0A%20%20%20%20%20%20%20%20%20%20%20%20%20%20%20%20%7D%0A%20%20%20%20%20%20%20%20%20%20%20%20%3C/style%3E%0A%20%20%20%20%20%20%20%20%0A%3C/head%3E%0A%3Cbody%3E%20%20%20%20%0A%20%20%20%20%0A%20%20%20%20%20%20%20%20%20%20%20%20%3Cdiv%20class%3D%22folium-map%22%20id%3D%22map_13237c8e481d4a34b8596cbb7b42a87d%22%20%3E%3C/div%3E%0A%20%20%20%20%20%20%20%20%0A%3C/body%3E%0A%3Cscript%3E%20%20%20%20%0A%20%20%20%20%0A%0A%20%20%20%20%20%20%20%20%20%20%20%20%0A%20%20%20%20%20%20%20%20%20%20%20%20%20%20%20%20var%20bounds%20%3D%20null%3B%0A%20%20%20%20%20%20%20%20%20%20%20%20%0A%0A%20%20%20%20%20%20%20%20%20%20%20%20var%20map_13237c8e481d4a34b8596cbb7b42a87d%20%3D%20L.map%28%0A%20%20%20%20%20%20%20%20%20%20%20%20%20%20%20%20%20%20%20%20%20%20%20%20%20%20%20%20%20%20%20%20%20%20%27map_13237c8e481d4a34b8596cbb7b42a87d%27%2C%0A%20%20%20%20%20%20%20%20%20%20%20%20%20%20%20%20%20%20%20%20%20%20%20%20%20%20%20%20%20%20%20%20%20%20%7Bcenter%3A%20%5B33.7489924%2C-84.3902644%5D%2C%0A%20%20%20%20%20%20%20%20%20%20%20%20%20%20%20%20%20%20%20%20%20%20%20%20%20%20%20%20%20%20%20%20%20%20zoom%3A%2011%2C%0A%20%20%20%20%20%20%20%20%20%20%20%20%20%20%20%20%20%20%20%20%20%20%20%20%20%20%20%20%20%20%20%20%20%20maxBounds%3A%20bounds%2C%0A%20%20%20%20%20%20%20%20%20%20%20%20%20%20%20%20%20%20%20%20%20%20%20%20%20%20%20%20%20%20%20%20%20%20layers%3A%20%5B%5D%2C%0A%20%20%20%20%20%20%20%20%20%20%20%20%20%20%20%20%20%20%20%20%20%20%20%20%20%20%20%20%20%20%20%20%20%20worldCopyJump%3A%20false%2C%0A%20%20%20%20%20%20%20%20%20%20%20%20%20%20%20%20%20%20%20%20%20%20%20%20%20%20%20%20%20%20%20%20%20%20crs%3A%20L.CRS.EPSG3857%0A%20%20%20%20%20%20%20%20%20%20%20%20%20%20%20%20%20%20%20%20%20%20%20%20%20%20%20%20%20%20%20%20%20%7D%29%3B%0A%20%20%20%20%20%20%20%20%20%20%20%20%0A%20%20%20%20%20%20%20%20%0A%20%20%20%20%0A%20%20%20%20%20%20%20%20%20%20%20%20var%20tile_layer_a7bc9a8daed847fe8a72d55fb7521325%20%3D%20L.tileLayer%28%0A%20%20%20%20%20%20%20%20%20%20%20%20%20%20%20%20%27https%3A//%7Bs%7D.tile.openstreetmap.org/%7Bz%7D/%7Bx%7D/%7By%7D.png%27%2C%0A%20%20%20%20%20%20%20%20%20%20%20%20%20%20%20%20%7B%0A%20%20%22attribution%22%3A%20null%2C%0A%20%20%22detectRetina%22%3A%20false%2C%0A%20%20%22maxZoom%22%3A%2018%2C%0A%20%20%22minZoom%22%3A%201%2C%0A%20%20%22noWrap%22%3A%20false%2C%0A%20%20%22subdomains%22%3A%20%22abc%22%0A%7D%0A%20%20%20%20%20%20%20%20%20%20%20%20%20%20%20%20%29.addTo%28map_13237c8e481d4a34b8596cbb7b42a87d%29%3B%0A%20%20%20%20%20%20%20%20%0A%20%20%20%20%0A%20%20%20%20%20%20%20%20%20%20%20%20var%20circle_marker_7045c544492f46a0b8e1e2623554e251%20%3D%20L.circleMarker%28%0A%20%20%20%20%20%20%20%20%20%20%20%20%20%20%20%20%5B33.92603004%2C-84.37963412%5D%2C%0A%20%20%20%20%20%20%20%20%20%20%20%20%20%20%20%20%7B%0A%20%20%22bubblingMouseEvents%22%3A%20true%2C%0A%20%20%22color%22%3A%20%22%2300d4ff%22%2C%0A%20%20%22dashArray%22%3A%20null%2C%0A%20%20%22dashOffset%22%3A%20null%2C%0A%20%20%22fill%22%3A%20true%2C%0A%20%20%22fillColor%22%3A%20%22%2300d4ff%22%2C%0A%20%20%22fillOpacity%22%3A%200.7%2C%0A%20%20%22fillRule%22%3A%20%22evenodd%22%2C%0A%20%20%22lineCap%22%3A%20%22round%22%2C%0A%20%20%22lineJoin%22%3A%20%22round%22%2C%0A%20%20%22opacity%22%3A%201.0%2C%0A%20%20%22radius%22%3A%205%2C%0A%20%20%22stroke%22%3A%20true%2C%0A%20%20%22weight%22%3A%203%0A%7D%0A%20%20%20%20%20%20%20%20%20%20%20%20%20%20%20%20%29.addTo%28map_13237c8e481d4a34b8596cbb7b42a87d%29%3B%0A%20%20%20%20%20%20%20%20%20%20%20%20%0A%20%20%20%20%0A%20%20%20%20%20%20%20%20%20%20%20%20var%20popup_da08f20ed940481a8f338d3874bd977a%20%3D%20L.popup%28%7BmaxWidth%3A%20%27300%27%7D%29%3B%0A%0A%20%20%20%20%20%20%20%20%20%20%20%20%0A%20%20%20%20%20%20%20%20%20%20%20%20%20%20%20%20var%20html_bfab53019d474eae87d8e2a1291d7431%20%3D%20%24%28%27%3Cdiv%20id%3D%22html_bfab53019d474eae87d8e2a1291d7431%22%20style%3D%22width%3A%20100.0%25%3B%20height%3A%20100.0%25%3B%22%3EMr.%20Tire%20Auto%20Service%20Centers%2C%20Cluster%203%2C%20%20Sandy%20Springs%3C/div%3E%27%29%5B0%5D%3B%0A%20%20%20%20%20%20%20%20%20%20%20%20%20%20%20%20popup_da08f20ed940481a8f338d3874bd977a.setContent%28html_bfab53019d474eae87d8e2a1291d7431%29%3B%0A%20%20%20%20%20%20%20%20%20%20%20%20%0A%0A%20%20%20%20%20%20%20%20%20%20%20%20circle_marker_7045c544492f46a0b8e1e2623554e251.bindPopup%28popup_da08f20ed940481a8f338d3874bd977a%29%3B%0A%0A%20%20%20%20%20%20%20%20%20%20%20%20%0A%20%20%20%20%20%20%20%20%0A%20%20%20%20%0A%20%20%20%20%20%20%20%20%20%20%20%20var%20circle_marker_afdb2615f72c4ffebea732b0baee9bf0%20%3D%20L.circleMarker%28%0A%20%20%20%20%20%20%20%20%20%20%20%20%20%20%20%20%5B33.907253%2C-84.285425%5D%2C%0A%20%20%20%20%20%20%20%20%20%20%20%20%20%20%20%20%7B%0A%20%20%22bubblingMouseEvents%22%3A%20true%2C%0A%20%20%22color%22%3A%20%22%23ffe600%22%2C%0A%20%20%22dashArray%22%3A%20null%2C%0A%20%20%22dashOffset%22%3A%20null%2C%0A%20%20%22fill%22%3A%20true%2C%0A%20%20%22fillColor%22%3A%20%22%23ffe600%22%2C%0A%20%20%22fillOpacity%22%3A%200.7%2C%0A%20%20%22fillRule%22%3A%20%22evenodd%22%2C%0A%20%20%22lineCap%22%3A%20%22round%22%2C%0A%20%20%22lineJoin%22%3A%20%22round%22%2C%0A%20%20%22opacity%22%3A%201.0%2C%0A%20%20%22radius%22%3A%205%2C%0A%20%20%22stroke%22%3A%20true%2C%0A%20%20%22weight%22%3A%203%0A%7D%0A%20%20%20%20%20%20%20%20%20%20%20%20%20%20%20%20%29.addTo%28map_13237c8e481d4a34b8596cbb7b42a87d%29%3B%0A%20%20%20%20%20%20%20%20%20%20%20%20%0A%20%20%20%20%0A%20%20%20%20%20%20%20%20%20%20%20%20var%20popup_08e7706f636d47328ce133fa10e9cfda%20%3D%20L.popup%28%7BmaxWidth%3A%20%27300%27%7D%29%3B%0A%0A%20%20%20%20%20%20%20%20%20%20%20%20%0A%20%20%20%20%20%20%20%20%20%20%20%20%20%20%20%20var%20html_78ee2ad1beef436c8df05e20a6575752%20%3D%20%24%28%27%3Cdiv%20id%3D%22html_78ee2ad1beef436c8df05e20a6575752%22%20style%3D%22width%3A%20100.0%25%3B%20height%3A%20100.0%25%3B%22%3ENalley%20Collision%20Center%20Doraville%2C%20Cluster%205%2C%20%20Doraville%3C/div%3E%27%29%5B0%5D%3B%0A%20%20%20%20%20%20%20%20%20%20%20%20%20%20%20%20popup_08e7706f636d47328ce133fa10e9cfda.setContent%28html_78ee2ad1beef436c8df05e20a6575752%29%3B%0A%20%20%20%20%20%20%20%20%20%20%20%20%0A%0A%20%20%20%20%20%20%20%20%20%20%20%20circle_marker_afdb2615f72c4ffebea732b0baee9bf0.bindPopup%28popup_08e7706f636d47328ce133fa10e9cfda%29%3B%0A%0A%20%20%20%20%20%20%20%20%20%20%20%20%0A%20%20%20%20%20%20%20%20%0A%20%20%20%20%0A%20%20%20%20%20%20%20%20%20%20%20%20var%20circle_marker_cd9a228f78304c768c26b9c92f0fe2b0%20%3D%20L.circleMarker%28%0A%20%20%20%20%20%20%20%20%20%20%20%20%20%20%20%20%5B33.897463%2C-84.280205%5D%2C%0A%20%20%20%20%20%20%20%20%20%20%20%20%20%20%20%20%7B%0A%20%20%22bubblingMouseEvents%22%3A%20true%2C%0A%20%20%22color%22%3A%20%22%23ffe600%22%2C%0A%20%20%22dashArray%22%3A%20null%2C%0A%20%20%22dashOffset%22%3A%20null%2C%0A%20%20%22fill%22%3A%20true%2C%0A%20%20%22fillColor%22%3A%20%22%23ffe600%22%2C%0A%20%20%22fillOpacity%22%3A%200.7%2C%0A%20%20%22fillRule%22%3A%20%22evenodd%22%2C%0A%20%20%22lineCap%22%3A%20%22round%22%2C%0A%20%20%22lineJoin%22%3A%20%22round%22%2C%0A%20%20%22opacity%22%3A%201.0%2C%0A%20%20%22radius%22%3A%205%2C%0A%20%20%22stroke%22%3A%20true%2C%0A%20%20%22weight%22%3A%203%0A%7D%0A%20%20%20%20%20%20%20%20%20%20%20%20%20%20%20%20%29.addTo%28map_13237c8e481d4a34b8596cbb7b42a87d%29%3B%0A%20%20%20%20%20%20%20%20%20%20%20%20%0A%20%20%20%20%0A%20%20%20%20%20%20%20%20%20%20%20%20var%20popup_109f399489ac4a84afa5d6551caa4e02%20%3D%20L.popup%28%7BmaxWidth%3A%20%27300%27%7D%29%3B%0A%0A%20%20%20%20%20%20%20%20%20%20%20%20%0A%20%20%20%20%20%20%20%20%20%20%20%20%20%20%20%20var%20html_5835d8a18d174cc4bdaea182b71c3770%20%3D%20%24%28%27%3Cdiv%20id%3D%22html_5835d8a18d174cc4bdaea182b71c3770%22%20style%3D%22width%3A%20100.0%25%3B%20height%3A%20100.0%25%3B%22%3EUnique%20Auto%20Body%20Shop%2C%20Cluster%205%2C%20%20Doraville%3C/div%3E%27%29%5B0%5D%3B%0A%20%20%20%20%20%20%20%20%20%20%20%20%20%20%20%20popup_109f399489ac4a84afa5d6551caa4e02.setContent%28html_5835d8a18d174cc4bdaea182b71c3770%29%3B%0A%20%20%20%20%20%20%20%20%20%20%20%20%0A%0A%20%20%20%20%20%20%20%20%20%20%20%20circle_marker_cd9a228f78304c768c26b9c92f0fe2b0.bindPopup%28popup_109f399489ac4a84afa5d6551caa4e02%29%3B%0A%0A%20%20%20%20%20%20%20%20%20%20%20%20%0A%20%20%20%20%20%20%20%20%0A%20%20%20%20%0A%20%20%20%20%20%20%20%20%20%20%20%20var%20circle_marker_f411a5b2fc88430d81768386d8a15460%20%3D%20L.circleMarker%28%0A%20%20%20%20%20%20%20%20%20%20%20%20%20%20%20%20%5B33.911224%2C-84.49388499999999%5D%2C%0A%20%20%20%20%20%20%20%20%20%20%20%20%20%20%20%20%7B%0A%20%20%22bubblingMouseEvents%22%3A%20true%2C%0A%20%20%22color%22%3A%20%22%23800000%22%2C%0A%20%20%22dashArray%22%3A%20null%2C%0A%20%20%22dashOffset%22%3A%20null%2C%0A%20%20%22fill%22%3A%20true%2C%0A%20%20%22fillColor%22%3A%20%22%23800000%22%2C%0A%20%20%22fillOpacity%22%3A%200.7%2C%0A%20%20%22fillRule%22%3A%20%22evenodd%22%2C%0A%20%20%22lineCap%22%3A%20%22round%22%2C%0A%20%20%22lineJoin%22%3A%20%22round%22%2C%0A%20%20%22opacity%22%3A%201.0%2C%0A%20%20%22radius%22%3A%205%2C%0A%20%20%22stroke%22%3A%20true%2C%0A%20%20%22weight%22%3A%203%0A%7D%0A%20%20%20%20%20%20%20%20%20%20%20%20%20%20%20%20%29.addTo%28map_13237c8e481d4a34b8596cbb7b42a87d%29%3B%0A%20%20%20%20%20%20%20%20%20%20%20%20%0A%20%20%20%20%0A%20%20%20%20%20%20%20%20%20%20%20%20var%20popup_5785f662d2164e06a52657d5c1b2bad0%20%3D%20L.popup%28%7BmaxWidth%3A%20%27300%27%7D%29%3B%0A%0A%20%20%20%20%20%20%20%20%20%20%20%20%0A%20%20%20%20%20%20%20%20%20%20%20%20%20%20%20%20var%20html_556e8b43fc0b4d4ca897d7582b3ded5e%20%3D%20%24%28%27%3Cdiv%20id%3D%22html_556e8b43fc0b4d4ca897d7582b3ded5e%22%20style%3D%22width%3A%20100.0%25%3B%20height%3A%20100.0%25%3B%22%3EJim%20Ellis%20Mazda%20Marietta%2C%20Cluster%200%2C%20%20Marietta%3C/div%3E%27%29%5B0%5D%3B%0A%20%20%20%20%20%20%20%20%20%20%20%20%20%20%20%20popup_5785f662d2164e06a52657d5c1b2bad0.setContent%28html_556e8b43fc0b4d4ca897d7582b3ded5e%29%3B%0A%20%20%20%20%20%20%20%20%20%20%20%20%0A%0A%20%20%20%20%20%20%20%20%20%20%20%20circle_marker_f411a5b2fc88430d81768386d8a15460.bindPopup%28popup_5785f662d2164e06a52657d5c1b2bad0%29%3B%0A%0A%20%20%20%20%20%20%20%20%20%20%20%20%0A%20%20%20%20%20%20%20%20%0A%20%20%20%20%0A%20%20%20%20%20%20%20%20%20%20%20%20var%20circle_marker_d91422b5063745678a10ad85bcc94be0%20%3D%20L.circleMarker%28%0A%20%20%20%20%20%20%20%20%20%20%20%20%20%20%20%20%5B33.4987686154144%2C-84.43642363616898%5D%2C%0A%20%20%20%20%20%20%20%20%20%20%20%20%20%20%20%20%7B%0A%20%20%22bubblingMouseEvents%22%3A%20true%2C%0A%20%20%22color%22%3A%20%22%237dff7a%22%2C%0A%20%20%22dashArray%22%3A%20null%2C%0A%20%20%22dashOffset%22%3A%20null%2C%0A%20%20%22fill%22%3A%20true%2C%0A%20%20%22fillColor%22%3A%20%22%237dff7a%22%2C%0A%20%20%22fillOpacity%22%3A%200.7%2C%0A%20%20%22fillRule%22%3A%20%22evenodd%22%2C%0A%20%20%22lineCap%22%3A%20%22round%22%2C%0A%20%20%22lineJoin%22%3A%20%22round%22%2C%0A%20%20%22opacity%22%3A%201.0%2C%0A%20%20%22radius%22%3A%205%2C%0A%20%20%22stroke%22%3A%20true%2C%0A%20%20%22weight%22%3A%203%0A%7D%0A%20%20%20%20%20%20%20%20%20%20%20%20%20%20%20%20%29.addTo%28map_13237c8e481d4a34b8596cbb7b42a87d%29%3B%0A%20%20%20%20%20%20%20%20%20%20%20%20%0A%20%20%20%20%0A%20%20%20%20%20%20%20%20%20%20%20%20var%20popup_68fca39af89540318d519af33434c040%20%3D%20L.popup%28%7BmaxWidth%3A%20%27300%27%7D%29%3B%0A%0A%20%20%20%20%20%20%20%20%20%20%20%20%0A%20%20%20%20%20%20%20%20%20%20%20%20%20%20%20%20var%20html_7bd2132c26b747269bc51f58043522fb%20%3D%20%24%28%27%3Cdiv%20id%3D%22html_7bd2132c26b747269bc51f58043522fb%22%20style%3D%22width%3A%20100.0%25%3B%20height%3A%20100.0%25%3B%22%3E85%20Automotive%2C%20Cluster%204%2C%20%20Fayetteville%3C/div%3E%27%29%5B0%5D%3B%0A%20%20%20%20%20%20%20%20%20%20%20%20%20%20%20%20popup_68fca39af89540318d519af33434c040.setContent%28html_7bd2132c26b747269bc51f58043522fb%29%3B%0A%20%20%20%20%20%20%20%20%20%20%20%20%0A%0A%20%20%20%20%20%20%20%20%20%20%20%20circle_marker_d91422b5063745678a10ad85bcc94be0.bindPopup%28popup_68fca39af89540318d519af33434c040%29%3B%0A%0A%20%20%20%20%20%20%20%20%20%20%20%20%0A%20%20%20%20%20%20%20%20%0A%20%20%20%20%0A%20%20%20%20%20%20%20%20%20%20%20%20var%20circle_marker_53213b17e7d8463e8340b41c7f7f470f%20%3D%20L.circleMarker%28%0A%20%20%20%20%20%20%20%20%20%20%20%20%20%20%20%20%5B33.763641357421875%2C-84.53101348876953%5D%2C%0A%20%20%20%20%20%20%20%20%20%20%20%20%20%20%20%20%7B%0A%20%20%22bubblingMouseEvents%22%3A%20true%2C%0A%20%20%22color%22%3A%20%22%23ff4700%22%2C%0A%20%20%22dashArray%22%3A%20null%2C%0A%20%20%22dashOffset%22%3A%20null%2C%0A%20%20%22fill%22%3A%20true%2C%0A%20%20%22fillColor%22%3A%20%22%23ff4700%22%2C%0A%20%20%22fillOpacity%22%3A%200.7%2C%0A%20%20%22fillRule%22%3A%20%22evenodd%22%2C%0A%20%20%22lineCap%22%3A%20%22round%22%2C%0A%20%20%22lineJoin%22%3A%20%22round%22%2C%0A%20%20%22opacity%22%3A%201.0%2C%0A%20%20%22radius%22%3A%205%2C%0A%20%20%22stroke%22%3A%20true%2C%0A%20%20%22weight%22%3A%203%0A%7D%0A%20%20%20%20%20%20%20%20%20%20%20%20%20%20%20%20%29.addTo%28map_13237c8e481d4a34b8596cbb7b42a87d%29%3B%0A%20%20%20%20%20%20%20%20%20%20%20%20%0A%20%20%20%20%0A%20%20%20%20%20%20%20%20%20%20%20%20var%20popup_aeedea51ee134c9c8608d54d7362dd8f%20%3D%20L.popup%28%7BmaxWidth%3A%20%27300%27%7D%29%3B%0A%0A%20%20%20%20%20%20%20%20%20%20%20%20%0A%20%20%20%20%20%20%20%20%20%20%20%20%20%20%20%20var%20html_03b6a866b2e34bd3a42a929e725897af%20%3D%20%24%28%27%3Cdiv%20id%3D%22html_03b6a866b2e34bd3a42a929e725897af%22%20style%3D%22width%3A%20100.0%25%3B%20height%3A%20100.0%25%3B%22%3EACC%20Garage%2C%20Cluster%206%2C%20%20Atlanta%3C/div%3E%27%29%5B0%5D%3B%0A%20%20%20%20%20%20%20%20%20%20%20%20%20%20%20%20popup_aeedea51ee134c9c8608d54d7362dd8f.setContent%28html_03b6a866b2e34bd3a42a929e725897af%29%3B%0A%20%20%20%20%20%20%20%20%20%20%20%20%0A%0A%20%20%20%20%20%20%20%20%20%20%20%20circle_marker_53213b17e7d8463e8340b41c7f7f470f.bindPopup%28popup_aeedea51ee134c9c8608d54d7362dd8f%29%3B%0A%0A%20%20%20%20%20%20%20%20%20%20%20%20%0A%20%20%20%20%20%20%20%20%0A%20%20%20%20%0A%20%20%20%20%20%20%20%20%20%20%20%20var%20circle_marker_4bcdcf9eefb34e36a43ae52e203b1a1e%20%3D%20L.circleMarker%28%0A%20%20%20%20%20%20%20%20%20%20%20%20%20%20%20%20%5B33.896662%2C-84.539914%5D%2C%0A%20%20%20%20%20%20%20%20%20%20%20%20%20%20%20%20%7B%0A%20%20%22bubblingMouseEvents%22%3A%20true%2C%0A%20%20%22color%22%3A%20%22%23800000%22%2C%0A%20%20%22dashArray%22%3A%20null%2C%0A%20%20%22dashOffset%22%3A%20null%2C%0A%20%20%22fill%22%3A%20true%2C%0A%20%20%22fillColor%22%3A%20%22%23800000%22%2C%0A%20%20%22fillOpacity%22%3A%200.7%2C%0A%20%20%22fillRule%22%3A%20%22evenodd%22%2C%0A%20%20%22lineCap%22%3A%20%22round%22%2C%0A%20%20%22lineJoin%22%3A%20%22round%22%2C%0A%20%20%22opacity%22%3A%201.0%2C%0A%20%20%22radius%22%3A%205%2C%0A%20%20%22stroke%22%3A%20true%2C%0A%20%20%22weight%22%3A%203%0A%7D%0A%20%20%20%20%20%20%20%20%20%20%20%20%20%20%20%20%29.addTo%28map_13237c8e481d4a34b8596cbb7b42a87d%29%3B%0A%20%20%20%20%20%20%20%20%20%20%20%20%0A%20%20%20%20%0A%20%20%20%20%20%20%20%20%20%20%20%20var%20popup_42ad25080cf14e958563e6b7ca5cb2c0%20%3D%20L.popup%28%7BmaxWidth%3A%20%27300%27%7D%29%3B%0A%0A%20%20%20%20%20%20%20%20%20%20%20%20%0A%20%20%20%20%20%20%20%20%20%20%20%20%20%20%20%20var%20html_e62a3aa6e7d240d99250a53eb1f784df%20%3D%20%24%28%27%3Cdiv%20id%3D%22html_e62a3aa6e7d240d99250a53eb1f784df%22%20style%3D%22width%3A%20100.0%25%3B%20height%3A%20100.0%25%3B%22%3EDriven%20Collision%2C%20Cluster%200%2C%20%20Smyrna%3C/div%3E%27%29%5B0%5D%3B%0A%20%20%20%20%20%20%20%20%20%20%20%20%20%20%20%20popup_42ad25080cf14e958563e6b7ca5cb2c0.setContent%28html_e62a3aa6e7d240d99250a53eb1f784df%29%3B%0A%20%20%20%20%20%20%20%20%20%20%20%20%0A%0A%20%20%20%20%20%20%20%20%20%20%20%20circle_marker_4bcdcf9eefb34e36a43ae52e203b1a1e.bindPopup%28popup_42ad25080cf14e958563e6b7ca5cb2c0%29%3B%0A%0A%20%20%20%20%20%20%20%20%20%20%20%20%0A%20%20%20%20%20%20%20%20%0A%20%20%20%20%0A%20%20%20%20%20%20%20%20%20%20%20%20var%20circle_marker_ffd08129c1f0469a8c4d19edb629caca%20%3D%20L.circleMarker%28%0A%20%20%20%20%20%20%20%20%20%20%20%20%20%20%20%20%5B33.7939444%2C-84.270471%5D%2C%0A%20%20%20%20%20%20%20%20%20%20%20%20%20%20%20%20%7B%0A%20%20%22bubblingMouseEvents%22%3A%20true%2C%0A%20%20%22color%22%3A%20%22%230028ff%22%2C%0A%20%20%22dashArray%22%3A%20null%2C%0A%20%20%22dashOffset%22%3A%20null%2C%0A%20%20%22fill%22%3A%20true%2C%0A%20%20%22fillColor%22%3A%20%22%230028ff%22%2C%0A%20%20%22fillOpacity%22%3A%200.7%2C%0A%20%20%22fillRule%22%3A%20%22evenodd%22%2C%0A%20%20%22lineCap%22%3A%20%22round%22%2C%0A%20%20%22lineJoin%22%3A%20%22round%22%2C%0A%20%20%22opacity%22%3A%201.0%2C%0A%20%20%22radius%22%3A%205%2C%0A%20%20%22stroke%22%3A%20true%2C%0A%20%20%22weight%22%3A%203%0A%7D%0A%20%20%20%20%20%20%20%20%20%20%20%20%20%20%20%20%29.addTo%28map_13237c8e481d4a34b8596cbb7b42a87d%29%3B%0A%20%20%20%20%20%20%20%20%20%20%20%20%0A%20%20%20%20%0A%20%20%20%20%20%20%20%20%20%20%20%20var%20popup_fc7ce56fdba44629971b1b72dba834c2%20%3D%20L.popup%28%7BmaxWidth%3A%20%27300%27%7D%29%3B%0A%0A%20%20%20%20%20%20%20%20%20%20%20%20%0A%20%20%20%20%20%20%20%20%20%20%20%20%20%20%20%20var%20html_3b2b9943693f4f0c9db4db13e94ee0f8%20%3D%20%24%28%27%3Cdiv%20id%3D%22html_3b2b9943693f4f0c9db4db13e94ee0f8%22%20style%3D%22width%3A%20100.0%25%3B%20height%3A%20100.0%25%3B%22%3EMunich%20West%20Inc%2C%20Cluster%202%2C%20%20Decatur%3C/div%3E%27%29%5B0%5D%3B%0A%20%20%20%20%20%20%20%20%20%20%20%20%20%20%20%20popup_fc7ce56fdba44629971b1b72dba834c2.setContent%28html_3b2b9943693f4f0c9db4db13e94ee0f8%29%3B%0A%20%20%20%20%20%20%20%20%20%20%20%20%0A%0A%20%20%20%20%20%20%20%20%20%20%20%20circle_marker_ffd08129c1f0469a8c4d19edb629caca.bindPopup%28popup_fc7ce56fdba44629971b1b72dba834c2%29%3B%0A%0A%20%20%20%20%20%20%20%20%20%20%20%20%0A%20%20%20%20%20%20%20%20%0A%20%20%20%20%0A%20%20%20%20%20%20%20%20%20%20%20%20var%20circle_marker_aa4c992ad7ec43f8860933f74a1dd787%20%3D%20L.circleMarker%28%0A%20%20%20%20%20%20%20%20%20%20%20%20%20%20%20%20%5B33.8422896%2C-84.2437537%5D%2C%0A%20%20%20%20%20%20%20%20%20%20%20%20%20%20%20%20%7B%0A%20%20%22bubblingMouseEvents%22%3A%20true%2C%0A%20%20%22color%22%3A%20%22%230028ff%22%2C%0A%20%20%22dashArray%22%3A%20null%2C%0A%20%20%22dashOffset%22%3A%20null%2C%0A%20%20%22fill%22%3A%20true%2C%0A%20%20%22fillColor%22%3A%20%22%230028ff%22%2C%0A%20%20%22fillOpacity%22%3A%200.7%2C%0A%20%20%22fillRule%22%3A%20%22evenodd%22%2C%0A%20%20%22lineCap%22%3A%20%22round%22%2C%0A%20%20%22lineJoin%22%3A%20%22round%22%2C%0A%20%20%22opacity%22%3A%201.0%2C%0A%20%20%22radius%22%3A%205%2C%0A%20%20%22stroke%22%3A%20true%2C%0A%20%20%22weight%22%3A%203%0A%7D%0A%20%20%20%20%20%20%20%20%20%20%20%20%20%20%20%20%29.addTo%28map_13237c8e481d4a34b8596cbb7b42a87d%29%3B%0A%20%20%20%20%20%20%20%20%20%20%20%20%0A%20%20%20%20%0A%20%20%20%20%20%20%20%20%20%20%20%20var%20popup_327bbc2a973949fa8095d1be45825434%20%3D%20L.popup%28%7BmaxWidth%3A%20%27300%27%7D%29%3B%0A%0A%20%20%20%20%20%20%20%20%20%20%20%20%0A%20%20%20%20%20%20%20%20%20%20%20%20%20%20%20%20var%20html_bd22734b1e1e4cc6ba5a35682adc0116%20%3D%20%24%28%27%3Cdiv%20id%3D%22html_bd22734b1e1e4cc6ba5a35682adc0116%22%20style%3D%22width%3A%20100.0%25%3B%20height%3A%20100.0%25%3B%22%3EFirestone%20Complete%20Auto%20Care%2C%20Cluster%202%2C%20%20Tucker%3C/div%3E%27%29%5B0%5D%3B%0A%20%20%20%20%20%20%20%20%20%20%20%20%20%20%20%20popup_327bbc2a973949fa8095d1be45825434.setContent%28html_bd22734b1e1e4cc6ba5a35682adc0116%29%3B%0A%20%20%20%20%20%20%20%20%20%20%20%20%0A%0A%20%20%20%20%20%20%20%20%20%20%20%20circle_marker_aa4c992ad7ec43f8860933f74a1dd787.bindPopup%28popup_327bbc2a973949fa8095d1be45825434%29%3B%0A%0A%20%20%20%20%20%20%20%20%20%20%20%20%0A%20%20%20%20%20%20%20%20%0A%20%20%20%20%0A%20%20%20%20%20%20%20%20%20%20%20%20var%20circle_marker_8aefb4d45b424ac5a3cc866c049840ef%20%3D%20L.circleMarker%28%0A%20%20%20%20%20%20%20%20%20%20%20%20%20%20%20%20%5B33.906532%2C-84.29642%5D%2C%0A%20%20%20%20%20%20%20%20%20%20%20%20%20%20%20%20%7B%0A%20%20%22bubblingMouseEvents%22%3A%20true%2C%0A%20%20%22color%22%3A%20%22%23ffe600%22%2C%0A%20%20%22dashArray%22%3A%20null%2C%0A%20%20%22dashOffset%22%3A%20null%2C%0A%20%20%22fill%22%3A%20true%2C%0A%20%20%22fillColor%22%3A%20%22%23ffe600%22%2C%0A%20%20%22fillOpacity%22%3A%200.7%2C%0A%20%20%22fillRule%22%3A%20%22evenodd%22%2C%0A%20%20%22lineCap%22%3A%20%22round%22%2C%0A%20%20%22lineJoin%22%3A%20%22round%22%2C%0A%20%20%22opacity%22%3A%201.0%2C%0A%20%20%22radius%22%3A%205%2C%0A%20%20%22stroke%22%3A%20true%2C%0A%20%20%22weight%22%3A%203%0A%7D%0A%20%20%20%20%20%20%20%20%20%20%20%20%20%20%20%20%29.addTo%28map_13237c8e481d4a34b8596cbb7b42a87d%29%3B%0A%20%20%20%20%20%20%20%20%20%20%20%20%0A%20%20%20%20%0A%20%20%20%20%20%20%20%20%20%20%20%20var%20popup_c78952f2011b499784ffaede51312d06%20%3D%20L.popup%28%7BmaxWidth%3A%20%27300%27%7D%29%3B%0A%0A%20%20%20%20%20%20%20%20%20%20%20%20%0A%20%20%20%20%20%20%20%20%20%20%20%20%20%20%20%20var%20html_c9daab4d03c64da7bd54cc1f33ce3187%20%3D%20%24%28%27%3Cdiv%20id%3D%22html_c9daab4d03c64da7bd54cc1f33ce3187%22%20style%3D%22width%3A%20100.0%25%3B%20height%3A%20100.0%25%3B%22%3EEurofed%20-%20Atlanta%2C%20Cluster%205%2C%20%20Atlanta%3C/div%3E%27%29%5B0%5D%3B%0A%20%20%20%20%20%20%20%20%20%20%20%20%20%20%20%20popup_c78952f2011b499784ffaede51312d06.setContent%28html_c9daab4d03c64da7bd54cc1f33ce3187%29%3B%0A%20%20%20%20%20%20%20%20%20%20%20%20%0A%0A%20%20%20%20%20%20%20%20%20%20%20%20circle_marker_8aefb4d45b424ac5a3cc866c049840ef.bindPopup%28popup_c78952f2011b499784ffaede51312d06%29%3B%0A%0A%20%20%20%20%20%20%20%20%20%20%20%20%0A%20%20%20%20%20%20%20%20%0A%20%20%20%20%0A%20%20%20%20%20%20%20%20%20%20%20%20var%20circle_marker_f96e4b51543d4907b7ee7c9ad694477f%20%3D%20L.circleMarker%28%0A%20%20%20%20%20%20%20%20%20%20%20%20%20%20%20%20%5B33.97772385834741%2C-84.41745667252775%5D%2C%0A%20%20%20%20%20%20%20%20%20%20%20%20%20%20%20%20%7B%0A%20%20%22bubblingMouseEvents%22%3A%20true%2C%0A%20%20%22color%22%3A%20%22%2300d4ff%22%2C%0A%20%20%22dashArray%22%3A%20null%2C%0A%20%20%22dashOffset%22%3A%20null%2C%0A%20%20%22fill%22%3A%20true%2C%0A%20%20%22fillColor%22%3A%20%22%2300d4ff%22%2C%0A%20%20%22fillOpacity%22%3A%200.7%2C%0A%20%20%22fillRule%22%3A%20%22evenodd%22%2C%0A%20%20%22lineCap%22%3A%20%22round%22%2C%0A%20%20%22lineJoin%22%3A%20%22round%22%2C%0A%20%20%22opacity%22%3A%201.0%2C%0A%20%20%22radius%22%3A%205%2C%0A%20%20%22stroke%22%3A%20true%2C%0A%20%20%22weight%22%3A%203%0A%7D%0A%20%20%20%20%20%20%20%20%20%20%20%20%20%20%20%20%29.addTo%28map_13237c8e481d4a34b8596cbb7b42a87d%29%3B%0A%20%20%20%20%20%20%20%20%20%20%20%20%0A%20%20%20%20%0A%20%20%20%20%20%20%20%20%20%20%20%20var%20popup_e875217ef2484de7a0335709064691a5%20%3D%20L.popup%28%7BmaxWidth%3A%20%27300%27%7D%29%3B%0A%0A%20%20%20%20%20%20%20%20%20%20%20%20%0A%20%20%20%20%20%20%20%20%20%20%20%20%20%20%20%20var%20html_70d3324f914a45be8fd7db3779552e3e%20%3D%20%24%28%27%3Cdiv%20id%3D%22html_70d3324f914a45be8fd7db3779552e3e%22%20style%3D%22width%3A%20100.0%25%3B%20height%3A%20100.0%25%3B%22%3EAAA%20East%20Cobb%20Car%20Care%20Plus%2C%20Cluster%203%2C%20%20Marietta%3C/div%3E%27%29%5B0%5D%3B%0A%20%20%20%20%20%20%20%20%20%20%20%20%20%20%20%20popup_e875217ef2484de7a0335709064691a5.setContent%28html_70d3324f914a45be8fd7db3779552e3e%29%3B%0A%20%20%20%20%20%20%20%20%20%20%20%20%0A%0A%20%20%20%20%20%20%20%20%20%20%20%20circle_marker_f96e4b51543d4907b7ee7c9ad694477f.bindPopup%28popup_e875217ef2484de7a0335709064691a5%29%3B%0A%0A%20%20%20%20%20%20%20%20%20%20%20%20%0A%20%20%20%20%20%20%20%20%0A%20%20%20%20%0A%20%20%20%20%20%20%20%20%20%20%20%20var%20circle_marker_d69372a1b2e74122b6cde5adc1f490bc%20%3D%20L.circleMarker%28%0A%20%20%20%20%20%20%20%20%20%20%20%20%20%20%20%20%5B33.93399300228157%2C-84.48338850190187%5D%2C%0A%20%20%20%20%20%20%20%20%20%20%20%20%20%20%20%20%7B%0A%20%20%22bubblingMouseEvents%22%3A%20true%2C%0A%20%20%22color%22%3A%20%22%23800000%22%2C%0A%20%20%22dashArray%22%3A%20null%2C%0A%20%20%22dashOffset%22%3A%20null%2C%0A%20%20%22fill%22%3A%20true%2C%0A%20%20%22fillColor%22%3A%20%22%23800000%22%2C%0A%20%20%22fillOpacity%22%3A%200.7%2C%0A%20%20%22fillRule%22%3A%20%22evenodd%22%2C%0A%20%20%22lineCap%22%3A%20%22round%22%2C%0A%20%20%22lineJoin%22%3A%20%22round%22%2C%0A%20%20%22opacity%22%3A%201.0%2C%0A%20%20%22radius%22%3A%205%2C%0A%20%20%22stroke%22%3A%20true%2C%0A%20%20%22weight%22%3A%203%0A%7D%0A%20%20%20%20%20%20%20%20%20%20%20%20%20%20%20%20%29.addTo%28map_13237c8e481d4a34b8596cbb7b42a87d%29%3B%0A%20%20%20%20%20%20%20%20%20%20%20%20%0A%20%20%20%20%0A%20%20%20%20%20%20%20%20%20%20%20%20var%20popup_d1c41e8cea8f430db583bb7d1d7ee6c7%20%3D%20L.popup%28%7BmaxWidth%3A%20%27300%27%7D%29%3B%0A%0A%20%20%20%20%20%20%20%20%20%20%20%20%0A%20%20%20%20%20%20%20%20%20%20%20%20%20%20%20%20var%20html_226d603935df401688ff0271e6c31e65%20%3D%20%24%28%27%3Cdiv%20id%3D%22html_226d603935df401688ff0271e6c31e65%22%20style%3D%22width%3A%20100.0%25%3B%20height%3A%20100.0%25%3B%22%3END2SPD%20MotorSports%2C%20Cluster%200%2C%20%20Marietta%3C/div%3E%27%29%5B0%5D%3B%0A%20%20%20%20%20%20%20%20%20%20%20%20%20%20%20%20popup_d1c41e8cea8f430db583bb7d1d7ee6c7.setContent%28html_226d603935df401688ff0271e6c31e65%29%3B%0A%20%20%20%20%20%20%20%20%20%20%20%20%0A%0A%20%20%20%20%20%20%20%20%20%20%20%20circle_marker_d69372a1b2e74122b6cde5adc1f490bc.bindPopup%28popup_d1c41e8cea8f430db583bb7d1d7ee6c7%29%3B%0A%0A%20%20%20%20%20%20%20%20%20%20%20%20%0A%20%20%20%20%20%20%20%20%0A%20%20%20%20%0A%20%20%20%20%20%20%20%20%20%20%20%20var%20circle_marker_25d18a260a3647ae916da066b1afe231%20%3D%20L.circleMarker%28%0A%20%20%20%20%20%20%20%20%20%20%20%20%20%20%20%20%5B33.571971000000005%2C-84.41024399999999%5D%2C%0A%20%20%20%20%20%20%20%20%20%20%20%20%20%20%20%20%7B%0A%20%20%22bubblingMouseEvents%22%3A%20true%2C%0A%20%20%22color%22%3A%20%22%237dff7a%22%2C%0A%20%20%22dashArray%22%3A%20null%2C%0A%20%20%22dashOffset%22%3A%20null%2C%0A%20%20%22fill%22%3A%20true%2C%0A%20%20%22fillColor%22%3A%20%22%237dff7a%22%2C%0A%20%20%22fillOpacity%22%3A%200.7%2C%0A%20%20%22fillRule%22%3A%20%22evenodd%22%2C%0A%20%20%22lineCap%22%3A%20%22round%22%2C%0A%20%20%22lineJoin%22%3A%20%22round%22%2C%0A%20%20%22opacity%22%3A%201.0%2C%0A%20%20%22radius%22%3A%205%2C%0A%20%20%22stroke%22%3A%20true%2C%0A%20%20%22weight%22%3A%203%0A%7D%0A%20%20%20%20%20%20%20%20%20%20%20%20%20%20%20%20%29.addTo%28map_13237c8e481d4a34b8596cbb7b42a87d%29%3B%0A%20%20%20%20%20%20%20%20%20%20%20%20%0A%20%20%20%20%0A%20%20%20%20%20%20%20%20%20%20%20%20var%20popup_f2c67bd3409c4b22acadc3351251bafc%20%3D%20L.popup%28%7BmaxWidth%3A%20%27300%27%7D%29%3B%0A%0A%20%20%20%20%20%20%20%20%20%20%20%20%0A%20%20%20%20%20%20%20%20%20%20%20%20%20%20%20%20var%20html_f5981ed6b0fb4f399127250fdbc45673%20%3D%20%24%28%27%3Cdiv%20id%3D%22html_f5981ed6b0fb4f399127250fdbc45673%22%20style%3D%22width%3A%20100.0%25%3B%20height%3A%20100.0%25%3B%22%3EFirestone%20Complete%20Auto%20Care%2C%20Cluster%204%2C%20%20Riverdale%3C/div%3E%27%29%5B0%5D%3B%0A%20%20%20%20%20%20%20%20%20%20%20%20%20%20%20%20popup_f2c67bd3409c4b22acadc3351251bafc.setContent%28html_f5981ed6b0fb4f399127250fdbc45673%29%3B%0A%20%20%20%20%20%20%20%20%20%20%20%20%0A%0A%20%20%20%20%20%20%20%20%20%20%20%20circle_marker_25d18a260a3647ae916da066b1afe231.bindPopup%28popup_f2c67bd3409c4b22acadc3351251bafc%29%3B%0A%0A%20%20%20%20%20%20%20%20%20%20%20%20%0A%20%20%20%20%20%20%20%20%0A%20%20%20%20%0A%20%20%20%20%20%20%20%20%20%20%20%20var%20circle_marker_8cf7691220cb4fc9aeab18d0ec24f0e6%20%3D%20L.circleMarker%28%0A%20%20%20%20%20%20%20%20%20%20%20%20%20%20%20%20%5B33.548475%2C-84.251924%5D%2C%0A%20%20%20%20%20%20%20%20%20%20%20%20%20%20%20%20%7B%0A%20%20%22bubblingMouseEvents%22%3A%20true%2C%0A%20%20%22color%22%3A%20%22%23000080%22%2C%0A%20%20%22dashArray%22%3A%20null%2C%0A%20%20%22dashOffset%22%3A%20null%2C%0A%20%20%22fill%22%3A%20true%2C%0A%20%20%22fillColor%22%3A%20%22%23000080%22%2C%0A%20%20%22fillOpacity%22%3A%200.7%2C%0A%20%20%22fillRule%22%3A%20%22evenodd%22%2C%0A%20%20%22lineCap%22%3A%20%22round%22%2C%0A%20%20%22lineJoin%22%3A%20%22round%22%2C%0A%20%20%22opacity%22%3A%201.0%2C%0A%20%20%22radius%22%3A%205%2C%0A%20%20%22stroke%22%3A%20true%2C%0A%20%20%22weight%22%3A%203%0A%7D%0A%20%20%20%20%20%20%20%20%20%20%20%20%20%20%20%20%29.addTo%28map_13237c8e481d4a34b8596cbb7b42a87d%29%3B%0A%20%20%20%20%20%20%20%20%20%20%20%20%0A%20%20%20%20%0A%20%20%20%20%20%20%20%20%20%20%20%20var%20popup_927538c4aaaf4bda911956a7dc3f2699%20%3D%20L.popup%28%7BmaxWidth%3A%20%27300%27%7D%29%3B%0A%0A%20%20%20%20%20%20%20%20%20%20%20%20%0A%20%20%20%20%20%20%20%20%20%20%20%20%20%20%20%20var%20html_b84b8a6e9ccf4f77b6572a3945d2432c%20%3D%20%24%28%27%3Cdiv%20id%3D%22html_b84b8a6e9ccf4f77b6572a3945d2432c%22%20style%3D%22width%3A%20100.0%25%3B%20height%3A%20100.0%25%3B%22%3EPep%20Boys%20Auto%20Service%20%26amp%3B%20Tire%2C%20Cluster%201%2C%20%20Stockbridge%3C/div%3E%27%29%5B0%5D%3B%0A%20%20%20%20%20%20%20%20%20%20%20%20%20%20%20%20popup_927538c4aaaf4bda911956a7dc3f2699.setContent%28html_b84b8a6e9ccf4f77b6572a3945d2432c%29%3B%0A%20%20%20%20%20%20%20%20%20%20%20%20%0A%0A%20%20%20%20%20%20%20%20%20%20%20%20circle_marker_8cf7691220cb4fc9aeab18d0ec24f0e6.bindPopup%28popup_927538c4aaaf4bda911956a7dc3f2699%29%3B%0A%0A%20%20%20%20%20%20%20%20%20%20%20%20%0A%20%20%20%20%20%20%20%20%0A%20%20%20%20%0A%20%20%20%20%20%20%20%20%20%20%20%20var%20circle_marker_4d996f7ba1334a3eb2571180173cb17e%20%3D%20L.circleMarker%28%0A%20%20%20%20%20%20%20%20%20%20%20%20%20%20%20%20%5B33.9681688%2C-84.2596918%5D%2C%0A%20%20%20%20%20%20%20%20%20%20%20%20%20%20%20%20%7B%0A%20%20%22bubblingMouseEvents%22%3A%20true%2C%0A%20%20%22color%22%3A%20%22%23ffe600%22%2C%0A%20%20%22dashArray%22%3A%20null%2C%0A%20%20%22dashOffset%22%3A%20null%2C%0A%20%20%22fill%22%3A%20true%2C%0A%20%20%22fillColor%22%3A%20%22%23ffe600%22%2C%0A%20%20%22fillOpacity%22%3A%200.7%2C%0A%20%20%22fillRule%22%3A%20%22evenodd%22%2C%0A%20%20%22lineCap%22%3A%20%22round%22%2C%0A%20%20%22lineJoin%22%3A%20%22round%22%2C%0A%20%20%22opacity%22%3A%201.0%2C%0A%20%20%22radius%22%3A%205%2C%0A%20%20%22stroke%22%3A%20true%2C%0A%20%20%22weight%22%3A%203%0A%7D%0A%20%20%20%20%20%20%20%20%20%20%20%20%20%20%20%20%29.addTo%28map_13237c8e481d4a34b8596cbb7b42a87d%29%3B%0A%20%20%20%20%20%20%20%20%20%20%20%20%0A%20%20%20%20%0A%20%20%20%20%20%20%20%20%20%20%20%20var%20popup_5ae7dca84f4442318493230aafb2ebf4%20%3D%20L.popup%28%7BmaxWidth%3A%20%27300%27%7D%29%3B%0A%0A%20%20%20%20%20%20%20%20%20%20%20%20%0A%20%20%20%20%20%20%20%20%20%20%20%20%20%20%20%20var%20html_9aab0dc7f5f844f59baff833cc315114%20%3D%20%24%28%27%3Cdiv%20id%3D%22html_9aab0dc7f5f844f59baff833cc315114%22%20style%3D%22width%3A%20100.0%25%3B%20height%3A%20100.0%25%3B%22%3EFirestone%20Complete%20Auto%20Care%2C%20Cluster%205%2C%20%20Norcross%3C/div%3E%27%29%5B0%5D%3B%0A%20%20%20%20%20%20%20%20%20%20%20%20%20%20%20%20popup_5ae7dca84f4442318493230aafb2ebf4.setContent%28html_9aab0dc7f5f844f59baff833cc315114%29%3B%0A%20%20%20%20%20%20%20%20%20%20%20%20%0A%0A%20%20%20%20%20%20%20%20%20%20%20%20circle_marker_4d996f7ba1334a3eb2571180173cb17e.bindPopup%28popup_5ae7dca84f4442318493230aafb2ebf4%29%3B%0A%0A%20%20%20%20%20%20%20%20%20%20%20%20%0A%20%20%20%20%20%20%20%20%0A%20%20%20%20%0A%20%20%20%20%20%20%20%20%20%20%20%20var%20circle_marker_0dcf3e6ba62e4462ba116e7d5378ed77%20%3D%20L.circleMarker%28%0A%20%20%20%20%20%20%20%20%20%20%20%20%20%20%20%20%5B33.8247643%2C-84.1258516%5D%2C%0A%20%20%20%20%20%20%20%20%20%20%20%20%20%20%20%20%7B%0A%20%20%22bubblingMouseEvents%22%3A%20true%2C%0A%20%20%22color%22%3A%20%22%230028ff%22%2C%0A%20%20%22dashArray%22%3A%20null%2C%0A%20%20%22dashOffset%22%3A%20null%2C%0A%20%20%22fill%22%3A%20true%2C%0A%20%20%22fillColor%22%3A%20%22%230028ff%22%2C%0A%20%20%22fillOpacity%22%3A%200.7%2C%0A%20%20%22fillRule%22%3A%20%22evenodd%22%2C%0A%20%20%22lineCap%22%3A%20%22round%22%2C%0A%20%20%22lineJoin%22%3A%20%22round%22%2C%0A%20%20%22opacity%22%3A%201.0%2C%0A%20%20%22radius%22%3A%205%2C%0A%20%20%22stroke%22%3A%20true%2C%0A%20%20%22weight%22%3A%203%0A%7D%0A%20%20%20%20%20%20%20%20%20%20%20%20%20%20%20%20%29.addTo%28map_13237c8e481d4a34b8596cbb7b42a87d%29%3B%0A%20%20%20%20%20%20%20%20%20%20%20%20%0A%20%20%20%20%0A%20%20%20%20%20%20%20%20%20%20%20%20var%20popup_62babeb7b0b348b7a28d278d02b6d699%20%3D%20L.popup%28%7BmaxWidth%3A%20%27300%27%7D%29%3B%0A%0A%20%20%20%20%20%20%20%20%20%20%20%20%0A%20%20%20%20%20%20%20%20%20%20%20%20%20%20%20%20var%20html_7523ce3d5cf041bb827d3946313ef97c%20%3D%20%24%28%27%3Cdiv%20id%3D%22html_7523ce3d5cf041bb827d3946313ef97c%22%20style%3D%22width%3A%20100.0%25%3B%20height%3A%20100.0%25%3B%22%3EWalmart%20Auto%20Care%20Centers%2C%20Cluster%202%2C%20%20Stone%20Mountain%3C/div%3E%27%29%5B0%5D%3B%0A%20%20%20%20%20%20%20%20%20%20%20%20%20%20%20%20popup_62babeb7b0b348b7a28d278d02b6d699.setContent%28html_7523ce3d5cf041bb827d3946313ef97c%29%3B%0A%20%20%20%20%20%20%20%20%20%20%20%20%0A%0A%20%20%20%20%20%20%20%20%20%20%20%20circle_marker_0dcf3e6ba62e4462ba116e7d5378ed77.bindPopup%28popup_62babeb7b0b348b7a28d278d02b6d699%29%3B%0A%0A%20%20%20%20%20%20%20%20%20%20%20%20%0A%20%20%20%20%20%20%20%20%0A%20%20%20%20%0A%20%20%20%20%20%20%20%20%20%20%20%20var%20circle_marker_407d8f91e16c42148007b65d27c605fd%20%3D%20L.circleMarker%28%0A%20%20%20%20%20%20%20%20%20%20%20%20%20%20%20%20%5B33.62118333589478%2C-84.35220492557177%5D%2C%0A%20%20%20%20%20%20%20%20%20%20%20%20%20%20%20%20%7B%0A%20%20%22bubblingMouseEvents%22%3A%20true%2C%0A%20%20%22color%22%3A%20%22%23000080%22%2C%0A%20%20%22dashArray%22%3A%20null%2C%0A%20%20%22dashOffset%22%3A%20null%2C%0A%20%20%22fill%22%3A%20true%2C%0A%20%20%22fillColor%22%3A%20%22%23000080%22%2C%0A%20%20%22fillOpacity%22%3A%200.7%2C%0A%20%20%22fillRule%22%3A%20%22evenodd%22%2C%0A%20%20%22lineCap%22%3A%20%22round%22%2C%0A%20%20%22lineJoin%22%3A%20%22round%22%2C%0A%20%20%22opacity%22%3A%201.0%2C%0A%20%20%22radius%22%3A%205%2C%0A%20%20%22stroke%22%3A%20true%2C%0A%20%20%22weight%22%3A%203%0A%7D%0A%20%20%20%20%20%20%20%20%20%20%20%20%20%20%20%20%29.addTo%28map_13237c8e481d4a34b8596cbb7b42a87d%29%3B%0A%20%20%20%20%20%20%20%20%20%20%20%20%0A%20%20%20%20%0A%20%20%20%20%20%20%20%20%20%20%20%20var%20popup_80f547e3a5fc456085353e0f19c4b155%20%3D%20L.popup%28%7BmaxWidth%3A%20%27300%27%7D%29%3B%0A%0A%20%20%20%20%20%20%20%20%20%20%20%20%0A%20%20%20%20%20%20%20%20%20%20%20%20%20%20%20%20var%20html_1f2cee78e571468dbb55c2d3edfdb5d1%20%3D%20%24%28%27%3Cdiv%20id%3D%22html_1f2cee78e571468dbb55c2d3edfdb5d1%22%20style%3D%22width%3A%20100.0%25%3B%20height%3A%20100.0%25%3B%22%3ETj%20Automotive%2C%20Cluster%201%2C%20%20Forest%20Park%3C/div%3E%27%29%5B0%5D%3B%0A%20%20%20%20%20%20%20%20%20%20%20%20%20%20%20%20popup_80f547e3a5fc456085353e0f19c4b155.setContent%28html_1f2cee78e571468dbb55c2d3edfdb5d1%29%3B%0A%20%20%20%20%20%20%20%20%20%20%20%20%0A%0A%20%20%20%20%20%20%20%20%20%20%20%20circle_marker_407d8f91e16c42148007b65d27c605fd.bindPopup%28popup_80f547e3a5fc456085353e0f19c4b155%29%3B%0A%0A%20%20%20%20%20%20%20%20%20%20%20%20%0A%20%20%20%20%20%20%20%20%0A%20%20%20%20%0A%20%20%20%20%20%20%20%20%20%20%20%20var%20circle_marker_76ebc0f71ff644f3a160af297cd553e7%20%3D%20L.circleMarker%28%0A%20%20%20%20%20%20%20%20%20%20%20%20%20%20%20%20%5B33.7745093%2C-84.6010619%5D%2C%0A%20%20%20%20%20%20%20%20%20%20%20%20%20%20%20%20%7B%0A%20%20%22bubblingMouseEvents%22%3A%20true%2C%0A%20%20%22color%22%3A%20%22%23ff4700%22%2C%0A%20%20%22dashArray%22%3A%20null%2C%0A%20%20%22dashOffset%22%3A%20null%2C%0A%20%20%22fill%22%3A%20true%2C%0A%20%20%22fillColor%22%3A%20%22%23ff4700%22%2C%0A%20%20%22fillOpacity%22%3A%200.7%2C%0A%20%20%22fillRule%22%3A%20%22evenodd%22%2C%0A%20%20%22lineCap%22%3A%20%22round%22%2C%0A%20%20%22lineJoin%22%3A%20%22round%22%2C%0A%20%20%22opacity%22%3A%201.0%2C%0A%20%20%22radius%22%3A%205%2C%0A%20%20%22stroke%22%3A%20true%2C%0A%20%20%22weight%22%3A%203%0A%7D%0A%20%20%20%20%20%20%20%20%20%20%20%20%20%20%20%20%29.addTo%28map_13237c8e481d4a34b8596cbb7b42a87d%29%3B%0A%20%20%20%20%20%20%20%20%20%20%20%20%0A%20%20%20%20%0A%20%20%20%20%20%20%20%20%20%20%20%20var%20popup_c9a2b5f8706a4abbb188fc6fadfed1ce%20%3D%20L.popup%28%7BmaxWidth%3A%20%27300%27%7D%29%3B%0A%0A%20%20%20%20%20%20%20%20%20%20%20%20%0A%20%20%20%20%20%20%20%20%20%20%20%20%20%20%20%20var%20html_46269a4e66244e668f67b9ff7ba92f84%20%3D%20%24%28%27%3Cdiv%20id%3D%22html_46269a4e66244e668f67b9ff7ba92f84%22%20style%3D%22width%3A%20100.0%25%3B%20height%3A%20100.0%25%3B%22%3EWalmart%20Auto%20Care%20Centers%2C%20Cluster%206%2C%20%20Lithia%20Springs%3C/div%3E%27%29%5B0%5D%3B%0A%20%20%20%20%20%20%20%20%20%20%20%20%20%20%20%20popup_c9a2b5f8706a4abbb188fc6fadfed1ce.setContent%28html_46269a4e66244e668f67b9ff7ba92f84%29%3B%0A%20%20%20%20%20%20%20%20%20%20%20%20%0A%0A%20%20%20%20%20%20%20%20%20%20%20%20circle_marker_76ebc0f71ff644f3a160af297cd553e7.bindPopup%28popup_c9a2b5f8706a4abbb188fc6fadfed1ce%29%3B%0A%0A%20%20%20%20%20%20%20%20%20%20%20%20%0A%20%20%20%20%20%20%20%20%0A%20%20%20%20%0A%20%20%20%20%20%20%20%20%20%20%20%20var%20circle_marker_6de0ac588a17499fbbcb2f52539710d5%20%3D%20L.circleMarker%28%0A%20%20%20%20%20%20%20%20%20%20%20%20%20%20%20%20%5B33.577030181884766%2C-84.54024505615234%5D%2C%0A%20%20%20%20%20%20%20%20%20%20%20%20%20%20%20%20%7B%0A%20%20%22bubblingMouseEvents%22%3A%20true%2C%0A%20%20%22color%22%3A%20%22%237dff7a%22%2C%0A%20%20%22dashArray%22%3A%20null%2C%0A%20%20%22dashOffset%22%3A%20null%2C%0A%20%20%22fill%22%3A%20true%2C%0A%20%20%22fillColor%22%3A%20%22%237dff7a%22%2C%0A%20%20%22fillOpacity%22%3A%200.7%2C%0A%20%20%22fillRule%22%3A%20%22evenodd%22%2C%0A%20%20%22lineCap%22%3A%20%22round%22%2C%0A%20%20%22lineJoin%22%3A%20%22round%22%2C%0A%20%20%22opacity%22%3A%201.0%2C%0A%20%20%22radius%22%3A%205%2C%0A%20%20%22stroke%22%3A%20true%2C%0A%20%20%22weight%22%3A%203%0A%7D%0A%20%20%20%20%20%20%20%20%20%20%20%20%20%20%20%20%29.addTo%28map_13237c8e481d4a34b8596cbb7b42a87d%29%3B%0A%20%20%20%20%20%20%20%20%20%20%20%20%0A%20%20%20%20%0A%20%20%20%20%20%20%20%20%20%20%20%20var%20popup_9a8941bf59cb49eaaed2ec598f7a8b06%20%3D%20L.popup%28%7BmaxWidth%3A%20%27300%27%7D%29%3B%0A%0A%20%20%20%20%20%20%20%20%20%20%20%20%0A%20%20%20%20%20%20%20%20%20%20%20%20%20%20%20%20var%20html_bfd9025865ff4722a1c3c83bfae6b322%20%3D%20%24%28%27%3Cdiv%20id%3D%22html_bfd9025865ff4722a1c3c83bfae6b322%22%20style%3D%22width%3A%20100.0%25%3B%20height%3A%20100.0%25%3B%22%3ECaliber%20Collision%2C%20Cluster%204%2C%20%20Union%20City%3C/div%3E%27%29%5B0%5D%3B%0A%20%20%20%20%20%20%20%20%20%20%20%20%20%20%20%20popup_9a8941bf59cb49eaaed2ec598f7a8b06.setContent%28html_bfd9025865ff4722a1c3c83bfae6b322%29%3B%0A%20%20%20%20%20%20%20%20%20%20%20%20%0A%0A%20%20%20%20%20%20%20%20%20%20%20%20circle_marker_6de0ac588a17499fbbcb2f52539710d5.bindPopup%28popup_9a8941bf59cb49eaaed2ec598f7a8b06%29%3B%0A%0A%20%20%20%20%20%20%20%20%20%20%20%20%0A%20%20%20%20%20%20%20%20%0A%20%20%20%20%0A%20%20%20%20%20%20%20%20%20%20%20%20var%20circle_marker_d31c3c4a4402463b9986b65ecadfb0a0%20%3D%20L.circleMarker%28%0A%20%20%20%20%20%20%20%20%20%20%20%20%20%20%20%20%5B33.7931112%2C-84.2285794%5D%2C%0A%20%20%20%20%20%20%20%20%20%20%20%20%20%20%20%20%7B%0A%20%20%22bubblingMouseEvents%22%3A%20true%2C%0A%20%20%22color%22%3A%20%22%230028ff%22%2C%0A%20%20%22dashArray%22%3A%20null%2C%0A%20%20%22dashOffset%22%3A%20null%2C%0A%20%20%22fill%22%3A%20true%2C%0A%20%20%22fillColor%22%3A%20%22%230028ff%22%2C%0A%20%20%22fillOpacity%22%3A%200.7%2C%0A%20%20%22fillRule%22%3A%20%22evenodd%22%2C%0A%20%20%22lineCap%22%3A%20%22round%22%2C%0A%20%20%22lineJoin%22%3A%20%22round%22%2C%0A%20%20%22opacity%22%3A%201.0%2C%0A%20%20%22radius%22%3A%205%2C%0A%20%20%22stroke%22%3A%20true%2C%0A%20%20%22weight%22%3A%203%0A%7D%0A%20%20%20%20%20%20%20%20%20%20%20%20%20%20%20%20%29.addTo%28map_13237c8e481d4a34b8596cbb7b42a87d%29%3B%0A%20%20%20%20%20%20%20%20%20%20%20%20%0A%20%20%20%20%0A%20%20%20%20%20%20%20%20%20%20%20%20var%20popup_ee7b59f6de73471b8d5d9e7b1f80325e%20%3D%20L.popup%28%7BmaxWidth%3A%20%27300%27%7D%29%3B%0A%0A%20%20%20%20%20%20%20%20%20%20%20%20%0A%20%20%20%20%20%20%20%20%20%20%20%20%20%20%20%20var%20html_73f7f22fc81442e6843555c2783e5f9c%20%3D%20%24%28%27%3Cdiv%20id%3D%22html_73f7f22fc81442e6843555c2783e5f9c%22%20style%3D%22width%3A%20100.0%25%3B%20height%3A%20100.0%25%3B%22%3EFirestone%20Complete%20Auto%20Care%2C%20Cluster%202%2C%20%20Stone%20Mountain%3C/div%3E%27%29%5B0%5D%3B%0A%20%20%20%20%20%20%20%20%20%20%20%20%20%20%20%20popup_ee7b59f6de73471b8d5d9e7b1f80325e.setContent%28html_73f7f22fc81442e6843555c2783e5f9c%29%3B%0A%20%20%20%20%20%20%20%20%20%20%20%20%0A%0A%20%20%20%20%20%20%20%20%20%20%20%20circle_marker_d31c3c4a4402463b9986b65ecadfb0a0.bindPopup%28popup_ee7b59f6de73471b8d5d9e7b1f80325e%29%3B%0A%0A%20%20%20%20%20%20%20%20%20%20%20%20%0A%20%20%20%20%20%20%20%20%0A%20%20%20%20%0A%20%20%20%20%20%20%20%20%20%20%20%20var%20circle_marker_b39c68b1f3fd499189d6d9b1312c0b77%20%3D%20L.circleMarker%28%0A%20%20%20%20%20%20%20%20%20%20%20%20%20%20%20%20%5B33.614420366886435%2C-84.40400545490195%5D%2C%0A%20%20%20%20%20%20%20%20%20%20%20%20%20%20%20%20%7B%0A%20%20%22bubblingMouseEvents%22%3A%20true%2C%0A%20%20%22color%22%3A%20%22%23000080%22%2C%0A%20%20%22dashArray%22%3A%20null%2C%0A%20%20%22dashOffset%22%3A%20null%2C%0A%20%20%22fill%22%3A%20true%2C%0A%20%20%22fillColor%22%3A%20%22%23000080%22%2C%0A%20%20%22fillOpacity%22%3A%200.7%2C%0A%20%20%22fillRule%22%3A%20%22evenodd%22%2C%0A%20%20%22lineCap%22%3A%20%22round%22%2C%0A%20%20%22lineJoin%22%3A%20%22round%22%2C%0A%20%20%22opacity%22%3A%201.0%2C%0A%20%20%22radius%22%3A%205%2C%0A%20%20%22stroke%22%3A%20true%2C%0A%20%20%22weight%22%3A%203%0A%7D%0A%20%20%20%20%20%20%20%20%20%20%20%20%20%20%20%20%29.addTo%28map_13237c8e481d4a34b8596cbb7b42a87d%29%3B%0A%20%20%20%20%20%20%20%20%20%20%20%20%0A%20%20%20%20%0A%20%20%20%20%20%20%20%20%20%20%20%20var%20popup_d1b492f9f8a44b49a32b695676162fa4%20%3D%20L.popup%28%7BmaxWidth%3A%20%27300%27%7D%29%3B%0A%0A%20%20%20%20%20%20%20%20%20%20%20%20%0A%20%20%20%20%20%20%20%20%20%20%20%20%20%20%20%20var%20html_6737684f129e4cd5af2d53791a6d51ce%20%3D%20%24%28%27%3Cdiv%20id%3D%22html_6737684f129e4cd5af2d53791a6d51ce%22%20style%3D%22width%3A%20100.0%25%3B%20height%3A%20100.0%25%3B%22%3ECummins%20Sales%20and%20Service%2C%20Cluster%201%2C%20%20Atlanta%3C/div%3E%27%29%5B0%5D%3B%0A%20%20%20%20%20%20%20%20%20%20%20%20%20%20%20%20popup_d1b492f9f8a44b49a32b695676162fa4.setContent%28html_6737684f129e4cd5af2d53791a6d51ce%29%3B%0A%20%20%20%20%20%20%20%20%20%20%20%20%0A%0A%20%20%20%20%20%20%20%20%20%20%20%20circle_marker_b39c68b1f3fd499189d6d9b1312c0b77.bindPopup%28popup_d1b492f9f8a44b49a32b695676162fa4%29%3B%0A%0A%20%20%20%20%20%20%20%20%20%20%20%20%0A%20%20%20%20%20%20%20%20%0A%20%20%20%20%0A%20%20%20%20%20%20%20%20%20%20%20%20var%20circle_marker_4596348823184516ae2ec6f627a12fc1%20%3D%20L.circleMarker%28%0A%20%20%20%20%20%20%20%20%20%20%20%20%20%20%20%20%5B33.799389%2C-84.216317%5D%2C%0A%20%20%20%20%20%20%20%20%20%20%20%20%20%20%20%20%7B%0A%20%20%22bubblingMouseEvents%22%3A%20true%2C%0A%20%20%22color%22%3A%20%22%230028ff%22%2C%0A%20%20%22dashArray%22%3A%20null%2C%0A%20%20%22dashOffset%22%3A%20null%2C%0A%20%20%22fill%22%3A%20true%2C%0A%20%20%22fillColor%22%3A%20%22%230028ff%22%2C%0A%20%20%22fillOpacity%22%3A%200.7%2C%0A%20%20%22fillRule%22%3A%20%22evenodd%22%2C%0A%20%20%22lineCap%22%3A%20%22round%22%2C%0A%20%20%22lineJoin%22%3A%20%22round%22%2C%0A%20%20%22opacity%22%3A%201.0%2C%0A%20%20%22radius%22%3A%205%2C%0A%20%20%22stroke%22%3A%20true%2C%0A%20%20%22weight%22%3A%203%0A%7D%0A%20%20%20%20%20%20%20%20%20%20%20%20%20%20%20%20%29.addTo%28map_13237c8e481d4a34b8596cbb7b42a87d%29%3B%0A%20%20%20%20%20%20%20%20%20%20%20%20%0A%20%20%20%20%0A%20%20%20%20%20%20%20%20%20%20%20%20var%20popup_d4b72c2f1d0148c2a652fde856a8cbc3%20%3D%20L.popup%28%7BmaxWidth%3A%20%27300%27%7D%29%3B%0A%0A%20%20%20%20%20%20%20%20%20%20%20%20%0A%20%20%20%20%20%20%20%20%20%20%20%20%20%20%20%20var%20html_a0582b301ccd404684f6c0a8a8377db6%20%3D%20%24%28%27%3Cdiv%20id%3D%22html_a0582b301ccd404684f6c0a8a8377db6%22%20style%3D%22width%3A%20100.0%25%3B%20height%3A%20100.0%25%3B%22%3EMMC%20Automotive%2C%20Cluster%202%2C%20%20Stone%20Mountain%3C/div%3E%27%29%5B0%5D%3B%0A%20%20%20%20%20%20%20%20%20%20%20%20%20%20%20%20popup_d4b72c2f1d0148c2a652fde856a8cbc3.setContent%28html_a0582b301ccd404684f6c0a8a8377db6%29%3B%0A%20%20%20%20%20%20%20%20%20%20%20%20%0A%0A%20%20%20%20%20%20%20%20%20%20%20%20circle_marker_4596348823184516ae2ec6f627a12fc1.bindPopup%28popup_d4b72c2f1d0148c2a652fde856a8cbc3%29%3B%0A%0A%20%20%20%20%20%20%20%20%20%20%20%20%0A%20%20%20%20%20%20%20%20%0A%20%20%20%20%0A%20%20%20%20%20%20%20%20%20%20%20%20var%20circle_marker_2ed35e202cae42f4816216646a514160%20%3D%20L.circleMarker%28%0A%20%20%20%20%20%20%20%20%20%20%20%20%20%20%20%20%5B33.56814441%2C-84.53626939%5D%2C%0A%20%20%20%20%20%20%20%20%20%20%20%20%20%20%20%20%7B%0A%20%20%22bubblingMouseEvents%22%3A%20true%2C%0A%20%20%22color%22%3A%20%22%237dff7a%22%2C%0A%20%20%22dashArray%22%3A%20null%2C%0A%20%20%22dashOffset%22%3A%20null%2C%0A%20%20%22fill%22%3A%20true%2C%0A%20%20%22fillColor%22%3A%20%22%237dff7a%22%2C%0A%20%20%22fillOpacity%22%3A%200.7%2C%0A%20%20%22fillRule%22%3A%20%22evenodd%22%2C%0A%20%20%22lineCap%22%3A%20%22round%22%2C%0A%20%20%22lineJoin%22%3A%20%22round%22%2C%0A%20%20%22opacity%22%3A%201.0%2C%0A%20%20%22radius%22%3A%205%2C%0A%20%20%22stroke%22%3A%20true%2C%0A%20%20%22weight%22%3A%203%0A%7D%0A%20%20%20%20%20%20%20%20%20%20%20%20%20%20%20%20%29.addTo%28map_13237c8e481d4a34b8596cbb7b42a87d%29%3B%0A%20%20%20%20%20%20%20%20%20%20%20%20%0A%20%20%20%20%0A%20%20%20%20%20%20%20%20%20%20%20%20var%20popup_70b5203795b54792a9f0ed35fe4356ed%20%3D%20L.popup%28%7BmaxWidth%3A%20%27300%27%7D%29%3B%0A%0A%20%20%20%20%20%20%20%20%20%20%20%20%0A%20%20%20%20%20%20%20%20%20%20%20%20%20%20%20%20var%20html_297a17d675ef4b59ba2f1c32b4cf90de%20%3D%20%24%28%27%3Cdiv%20id%3D%22html_297a17d675ef4b59ba2f1c32b4cf90de%22%20style%3D%22width%3A%20100.0%25%3B%20height%3A%20100.0%25%3B%22%3EFirestone%20Complete%20Auto%20Care%2C%20Cluster%204%2C%20%20Union%20City%3C/div%3E%27%29%5B0%5D%3B%0A%20%20%20%20%20%20%20%20%20%20%20%20%20%20%20%20popup_70b5203795b54792a9f0ed35fe4356ed.setContent%28html_297a17d675ef4b59ba2f1c32b4cf90de%29%3B%0A%20%20%20%20%20%20%20%20%20%20%20%20%0A%0A%20%20%20%20%20%20%20%20%20%20%20%20circle_marker_2ed35e202cae42f4816216646a514160.bindPopup%28popup_70b5203795b54792a9f0ed35fe4356ed%29%3B%0A%0A%20%20%20%20%20%20%20%20%20%20%20%20%0A%20%20%20%20%20%20%20%20%0A%20%20%20%20%0A%20%20%20%20%20%20%20%20%20%20%20%20var%20circle_marker_3822882497e748409d48bdd2a0d96f47%20%3D%20L.circleMarker%28%0A%20%20%20%20%20%20%20%20%20%20%20%20%20%20%20%20%5B33.9008326%2C-84.300163%5D%2C%0A%20%20%20%20%20%20%20%20%20%20%20%20%20%20%20%20%7B%0A%20%20%22bubblingMouseEvents%22%3A%20true%2C%0A%20%20%22color%22%3A%20%22%23ffe600%22%2C%0A%20%20%22dashArray%22%3A%20null%2C%0A%20%20%22dashOffset%22%3A%20null%2C%0A%20%20%22fill%22%3A%20true%2C%0A%20%20%22fillColor%22%3A%20%22%23ffe600%22%2C%0A%20%20%22fillOpacity%22%3A%200.7%2C%0A%20%20%22fillRule%22%3A%20%22evenodd%22%2C%0A%20%20%22lineCap%22%3A%20%22round%22%2C%0A%20%20%22lineJoin%22%3A%20%22round%22%2C%0A%20%20%22opacity%22%3A%201.0%2C%0A%20%20%22radius%22%3A%205%2C%0A%20%20%22stroke%22%3A%20true%2C%0A%20%20%22weight%22%3A%203%0A%7D%0A%20%20%20%20%20%20%20%20%20%20%20%20%20%20%20%20%29.addTo%28map_13237c8e481d4a34b8596cbb7b42a87d%29%3B%0A%20%20%20%20%20%20%20%20%20%20%20%20%0A%20%20%20%20%0A%20%20%20%20%20%20%20%20%20%20%20%20var%20popup_df2f4b66dd254034bacfdca36cf70af0%20%3D%20L.popup%28%7BmaxWidth%3A%20%27300%27%7D%29%3B%0A%0A%20%20%20%20%20%20%20%20%20%20%20%20%0A%20%20%20%20%20%20%20%20%20%20%20%20%20%20%20%20var%20html_94f17933b1ce4fedb14ff91291ce3050%20%3D%20%24%28%27%3Cdiv%20id%3D%22html_94f17933b1ce4fedb14ff91291ce3050%22%20style%3D%22width%3A%20100.0%25%3B%20height%3A%20100.0%25%3B%22%3EFirestone%20Complete%20Auto%20Care%2C%20Cluster%205%2C%20%20Chamblee%3C/div%3E%27%29%5B0%5D%3B%0A%20%20%20%20%20%20%20%20%20%20%20%20%20%20%20%20popup_df2f4b66dd254034bacfdca36cf70af0.setContent%28html_94f17933b1ce4fedb14ff91291ce3050%29%3B%0A%20%20%20%20%20%20%20%20%20%20%20%20%0A%0A%20%20%20%20%20%20%20%20%20%20%20%20circle_marker_3822882497e748409d48bdd2a0d96f47.bindPopup%28popup_df2f4b66dd254034bacfdca36cf70af0%29%3B%0A%0A%20%20%20%20%20%20%20%20%20%20%20%20%0A%20%20%20%20%20%20%20%20%0A%20%20%20%20%0A%20%20%20%20%20%20%20%20%20%20%20%20var%20circle_marker_2b8d10c09d0d4f9ebd13af139d11b69f%20%3D%20L.circleMarker%28%0A%20%20%20%20%20%20%20%20%20%20%20%20%20%20%20%20%5B33.5717652%2C-84.3572035%5D%2C%0A%20%20%20%20%20%20%20%20%20%20%20%20%20%20%20%20%7B%0A%20%20%22bubblingMouseEvents%22%3A%20true%2C%0A%20%20%22color%22%3A%20%22%23000080%22%2C%0A%20%20%22dashArray%22%3A%20null%2C%0A%20%20%22dashOffset%22%3A%20null%2C%0A%20%20%22fill%22%3A%20true%2C%0A%20%20%22fillColor%22%3A%20%22%23000080%22%2C%0A%20%20%22fillOpacity%22%3A%200.7%2C%0A%20%20%22fillRule%22%3A%20%22evenodd%22%2C%0A%20%20%22lineCap%22%3A%20%22round%22%2C%0A%20%20%22lineJoin%22%3A%20%22round%22%2C%0A%20%20%22opacity%22%3A%201.0%2C%0A%20%20%22radius%22%3A%205%2C%0A%20%20%22stroke%22%3A%20true%2C%0A%20%20%22weight%22%3A%203%0A%7D%0A%20%20%20%20%20%20%20%20%20%20%20%20%20%20%20%20%29.addTo%28map_13237c8e481d4a34b8596cbb7b42a87d%29%3B%0A%20%20%20%20%20%20%20%20%20%20%20%20%0A%20%20%20%20%0A%20%20%20%20%20%20%20%20%20%20%20%20var%20popup_8ce2d55f5b7f454f971567cf417c8189%20%3D%20L.popup%28%7BmaxWidth%3A%20%27300%27%7D%29%3B%0A%0A%20%20%20%20%20%20%20%20%20%20%20%20%0A%20%20%20%20%20%20%20%20%20%20%20%20%20%20%20%20var%20html_c374ec4fb9d04d37bbb24be7b5ff19fe%20%3D%20%24%28%27%3Cdiv%20id%3D%22html_c374ec4fb9d04d37bbb24be7b5ff19fe%22%20style%3D%22width%3A%20100.0%25%3B%20height%3A%20100.0%25%3B%22%3EFirestone%20Complete%20Auto%20Care%2C%20Cluster%201%2C%20%20Morrow%3C/div%3E%27%29%5B0%5D%3B%0A%20%20%20%20%20%20%20%20%20%20%20%20%20%20%20%20popup_8ce2d55f5b7f454f971567cf417c8189.setContent%28html_c374ec4fb9d04d37bbb24be7b5ff19fe%29%3B%0A%20%20%20%20%20%20%20%20%20%20%20%20%0A%0A%20%20%20%20%20%20%20%20%20%20%20%20circle_marker_2b8d10c09d0d4f9ebd13af139d11b69f.bindPopup%28popup_8ce2d55f5b7f454f971567cf417c8189%29%3B%0A%0A%20%20%20%20%20%20%20%20%20%20%20%20%0A%20%20%20%20%20%20%20%20%0A%20%20%20%20%0A%20%20%20%20%20%20%20%20%20%20%20%20var%20circle_marker_2847fa93ab1b4f4ba9f748b381263d5a%20%3D%20L.circleMarker%28%0A%20%20%20%20%20%20%20%20%20%20%20%20%20%20%20%20%5B33.794003000000004%2C-84.267432%5D%2C%0A%20%20%20%20%20%20%20%20%20%20%20%20%20%20%20%20%7B%0A%20%20%22bubblingMouseEvents%22%3A%20true%2C%0A%20%20%22color%22%3A%20%22%230028ff%22%2C%0A%20%20%22dashArray%22%3A%20null%2C%0A%20%20%22dashOffset%22%3A%20null%2C%0A%20%20%22fill%22%3A%20true%2C%0A%20%20%22fillColor%22%3A%20%22%230028ff%22%2C%0A%20%20%22fillOpacity%22%3A%200.7%2C%0A%20%20%22fillRule%22%3A%20%22evenodd%22%2C%0A%20%20%22lineCap%22%3A%20%22round%22%2C%0A%20%20%22lineJoin%22%3A%20%22round%22%2C%0A%20%20%22opacity%22%3A%201.0%2C%0A%20%20%22radius%22%3A%205%2C%0A%20%20%22stroke%22%3A%20true%2C%0A%20%20%22weight%22%3A%203%0A%7D%0A%20%20%20%20%20%20%20%20%20%20%20%20%20%20%20%20%29.addTo%28map_13237c8e481d4a34b8596cbb7b42a87d%29%3B%0A%20%20%20%20%20%20%20%20%20%20%20%20%0A%20%20%20%20%0A%20%20%20%20%20%20%20%20%20%20%20%20var%20popup_06b7a6e6d6354db9a11aea451fa1c373%20%3D%20L.popup%28%7BmaxWidth%3A%20%27300%27%7D%29%3B%0A%0A%20%20%20%20%20%20%20%20%20%20%20%20%0A%20%20%20%20%20%20%20%20%20%20%20%20%20%20%20%20var%20html_faa85a81df444a288f5aa41df19e03e3%20%3D%20%24%28%27%3Cdiv%20id%3D%22html_faa85a81df444a288f5aa41df19e03e3%22%20style%3D%22width%3A%20100.0%25%3B%20height%3A%20100.0%25%3B%22%3EKeener%20Auto%20Repair%2C%20Cluster%202%2C%20%20Scottdale%3C/div%3E%27%29%5B0%5D%3B%0A%20%20%20%20%20%20%20%20%20%20%20%20%20%20%20%20popup_06b7a6e6d6354db9a11aea451fa1c373.setContent%28html_faa85a81df444a288f5aa41df19e03e3%29%3B%0A%20%20%20%20%20%20%20%20%20%20%20%20%0A%0A%20%20%20%20%20%20%20%20%20%20%20%20circle_marker_2847fa93ab1b4f4ba9f748b381263d5a.bindPopup%28popup_06b7a6e6d6354db9a11aea451fa1c373%29%3B%0A%0A%20%20%20%20%20%20%20%20%20%20%20%20%0A%20%20%20%20%20%20%20%20%0A%20%20%20%20%0A%20%20%20%20%20%20%20%20%20%20%20%20var%20circle_marker_60a306f1edfb49449c331c46c8fd8bd8%20%3D%20L.circleMarker%28%0A%20%20%20%20%20%20%20%20%20%20%20%20%20%20%20%20%5B33.816973076084516%2C-84.31454031261865%5D%2C%0A%20%20%20%20%20%20%20%20%20%20%20%20%20%20%20%20%7B%0A%20%20%22bubblingMouseEvents%22%3A%20true%2C%0A%20%20%22color%22%3A%20%22%23ffe600%22%2C%0A%20%20%22dashArray%22%3A%20null%2C%0A%20%20%22dashOffset%22%3A%20null%2C%0A%20%20%22fill%22%3A%20true%2C%0A%20%20%22fillColor%22%3A%20%22%23ffe600%22%2C%0A%20%20%22fillOpacity%22%3A%200.7%2C%0A%20%20%22fillRule%22%3A%20%22evenodd%22%2C%0A%20%20%22lineCap%22%3A%20%22round%22%2C%0A%20%20%22lineJoin%22%3A%20%22round%22%2C%0A%20%20%22opacity%22%3A%201.0%2C%0A%20%20%22radius%22%3A%205%2C%0A%20%20%22stroke%22%3A%20true%2C%0A%20%20%22weight%22%3A%203%0A%7D%0A%20%20%20%20%20%20%20%20%20%20%20%20%20%20%20%20%29.addTo%28map_13237c8e481d4a34b8596cbb7b42a87d%29%3B%0A%20%20%20%20%20%20%20%20%20%20%20%20%0A%20%20%20%20%0A%20%20%20%20%20%20%20%20%20%20%20%20var%20popup_9789f260ae414edd9842b457e6b1f0fd%20%3D%20L.popup%28%7BmaxWidth%3A%20%27300%27%7D%29%3B%0A%0A%20%20%20%20%20%20%20%20%20%20%20%20%0A%20%20%20%20%20%20%20%20%20%20%20%20%20%20%20%20var%20html_e9f0fdabcefa4835867f0958a766e493%20%3D%20%24%28%27%3Cdiv%20id%3D%22html_e9f0fdabcefa4835867f0958a766e493%22%20style%3D%22width%3A%20100.0%25%3B%20height%3A%20100.0%25%3B%22%3EAAA%20Toco%20Hills%20Car%20Care%20Plus%2C%20Cluster%205%2C%20%20Atlanta%3C/div%3E%27%29%5B0%5D%3B%0A%20%20%20%20%20%20%20%20%20%20%20%20%20%20%20%20popup_9789f260ae414edd9842b457e6b1f0fd.setContent%28html_e9f0fdabcefa4835867f0958a766e493%29%3B%0A%20%20%20%20%20%20%20%20%20%20%20%20%0A%0A%20%20%20%20%20%20%20%20%20%20%20%20circle_marker_60a306f1edfb49449c331c46c8fd8bd8.bindPopup%28popup_9789f260ae414edd9842b457e6b1f0fd%29%3B%0A%0A%20%20%20%20%20%20%20%20%20%20%20%20%0A%20%20%20%20%20%20%20%20%0A%20%20%20%20%0A%20%20%20%20%20%20%20%20%20%20%20%20var%20circle_marker_6cc8100722f249c89a382ed391a6cbcb%20%3D%20L.circleMarker%28%0A%20%20%20%20%20%20%20%20%20%20%20%20%20%20%20%20%5B33.8029544%2C-84.41518169%5D%2C%0A%20%20%20%20%20%20%20%20%20%20%20%20%20%20%20%20%7B%0A%20%20%22bubblingMouseEvents%22%3A%20true%2C%0A%20%20%22color%22%3A%20%22%2300d4ff%22%2C%0A%20%20%22dashArray%22%3A%20null%2C%0A%20%20%22dashOffset%22%3A%20null%2C%0A%20%20%22fill%22%3A%20true%2C%0A%20%20%22fillColor%22%3A%20%22%2300d4ff%22%2C%0A%20%20%22fillOpacity%22%3A%200.7%2C%0A%20%20%22fillRule%22%3A%20%22evenodd%22%2C%0A%20%20%22lineCap%22%3A%20%22round%22%2C%0A%20%20%22lineJoin%22%3A%20%22round%22%2C%0A%20%20%22opacity%22%3A%201.0%2C%0A%20%20%22radius%22%3A%205%2C%0A%20%20%22stroke%22%3A%20true%2C%0A%20%20%22weight%22%3A%203%0A%7D%0A%20%20%20%20%20%20%20%20%20%20%20%20%20%20%20%20%29.addTo%28map_13237c8e481d4a34b8596cbb7b42a87d%29%3B%0A%20%20%20%20%20%20%20%20%20%20%20%20%0A%20%20%20%20%0A%20%20%20%20%20%20%20%20%20%20%20%20var%20popup_e38bb27a57dd4aa1b35f87118848e8bd%20%3D%20L.popup%28%7BmaxWidth%3A%20%27300%27%7D%29%3B%0A%0A%20%20%20%20%20%20%20%20%20%20%20%20%0A%20%20%20%20%20%20%20%20%20%20%20%20%20%20%20%20var%20html_e93b859b6c764322955e12f67a3bfabd%20%3D%20%24%28%27%3Cdiv%20id%3D%22html_e93b859b6c764322955e12f67a3bfabd%22%20style%3D%22width%3A%20100.0%25%3B%20height%3A%20100.0%25%3B%22%3EFirestone%20Complete%20Auto%20Care%2C%20Cluster%203%2C%20%20Atlanta%3C/div%3E%27%29%5B0%5D%3B%0A%20%20%20%20%20%20%20%20%20%20%20%20%20%20%20%20popup_e38bb27a57dd4aa1b35f87118848e8bd.setContent%28html_e93b859b6c764322955e12f67a3bfabd%29%3B%0A%20%20%20%20%20%20%20%20%20%20%20%20%0A%0A%20%20%20%20%20%20%20%20%20%20%20%20circle_marker_6cc8100722f249c89a382ed391a6cbcb.bindPopup%28popup_e38bb27a57dd4aa1b35f87118848e8bd%29%3B%0A%0A%20%20%20%20%20%20%20%20%20%20%20%20%0A%20%20%20%20%20%20%20%20%0A%20%20%20%20%0A%20%20%20%20%20%20%20%20%20%20%20%20var%20circle_marker_d5143b6b75264d89b238f3fe229926fe%20%3D%20L.circleMarker%28%0A%20%20%20%20%20%20%20%20%20%20%20%20%20%20%20%20%5B33.680977%2C-84.390656%5D%2C%0A%20%20%20%20%20%20%20%20%20%20%20%20%20%20%20%20%7B%0A%20%20%22bubblingMouseEvents%22%3A%20true%2C%0A%20%20%22color%22%3A%20%22%23000080%22%2C%0A%20%20%22dashArray%22%3A%20null%2C%0A%20%20%22dashOffset%22%3A%20null%2C%0A%20%20%22fill%22%3A%20true%2C%0A%20%20%22fillColor%22%3A%20%22%23000080%22%2C%0A%20%20%22fillOpacity%22%3A%200.7%2C%0A%20%20%22fillRule%22%3A%20%22evenodd%22%2C%0A%20%20%22lineCap%22%3A%20%22round%22%2C%0A%20%20%22lineJoin%22%3A%20%22round%22%2C%0A%20%20%22opacity%22%3A%201.0%2C%0A%20%20%22radius%22%3A%205%2C%0A%20%20%22stroke%22%3A%20true%2C%0A%20%20%22weight%22%3A%203%0A%7D%0A%20%20%20%20%20%20%20%20%20%20%20%20%20%20%20%20%29.addTo%28map_13237c8e481d4a34b8596cbb7b42a87d%29%3B%0A%20%20%20%20%20%20%20%20%20%20%20%20%0A%20%20%20%20%0A%20%20%20%20%20%20%20%20%20%20%20%20var%20popup_cf1d70f044794aa29088619a8912fbbf%20%3D%20L.popup%28%7BmaxWidth%3A%20%27300%27%7D%29%3B%0A%0A%20%20%20%20%20%20%20%20%20%20%20%20%0A%20%20%20%20%20%20%20%20%20%20%20%20%20%20%20%20var%20html_45b2da79e9824d14abde3812190ce746%20%3D%20%24%28%27%3Cdiv%20id%3D%22html_45b2da79e9824d14abde3812190ce746%22%20style%3D%22width%3A%20100.0%25%3B%20height%3A%20100.0%25%3B%22%3ECleveland%20Tires%20%26amp%3B%20Wheels%2C%20Cluster%201%2C%20%20Atlanta%3C/div%3E%27%29%5B0%5D%3B%0A%20%20%20%20%20%20%20%20%20%20%20%20%20%20%20%20popup_cf1d70f044794aa29088619a8912fbbf.setContent%28html_45b2da79e9824d14abde3812190ce746%29%3B%0A%20%20%20%20%20%20%20%20%20%20%20%20%0A%0A%20%20%20%20%20%20%20%20%20%20%20%20circle_marker_d5143b6b75264d89b238f3fe229926fe.bindPopup%28popup_cf1d70f044794aa29088619a8912fbbf%29%3B%0A%0A%20%20%20%20%20%20%20%20%20%20%20%20%0A%20%20%20%20%20%20%20%20%0A%20%20%20%20%0A%20%20%20%20%20%20%20%20%20%20%20%20var%20circle_marker_e65e8b9403e84d789a89944a0570f4a8%20%3D%20L.circleMarker%28%0A%20%20%20%20%20%20%20%20%20%20%20%20%20%20%20%20%5B33.893640000000005%2C-84.301813%5D%2C%0A%20%20%20%20%20%20%20%20%20%20%20%20%20%20%20%20%7B%0A%20%20%22bubblingMouseEvents%22%3A%20true%2C%0A%20%20%22color%22%3A%20%22%23ffe600%22%2C%0A%20%20%22dashArray%22%3A%20null%2C%0A%20%20%22dashOffset%22%3A%20null%2C%0A%20%20%22fill%22%3A%20true%2C%0A%20%20%22fillColor%22%3A%20%22%23ffe600%22%2C%0A%20%20%22fillOpacity%22%3A%200.7%2C%0A%20%20%22fillRule%22%3A%20%22evenodd%22%2C%0A%20%20%22lineCap%22%3A%20%22round%22%2C%0A%20%20%22lineJoin%22%3A%20%22round%22%2C%0A%20%20%22opacity%22%3A%201.0%2C%0A%20%20%22radius%22%3A%205%2C%0A%20%20%22stroke%22%3A%20true%2C%0A%20%20%22weight%22%3A%203%0A%7D%0A%20%20%20%20%20%20%20%20%20%20%20%20%20%20%20%20%29.addTo%28map_13237c8e481d4a34b8596cbb7b42a87d%29%3B%0A%20%20%20%20%20%20%20%20%20%20%20%20%0A%20%20%20%20%0A%20%20%20%20%20%20%20%20%20%20%20%20var%20popup_bb7febe7241f41d68469cbbdfeb2bf36%20%3D%20L.popup%28%7BmaxWidth%3A%20%27300%27%7D%29%3B%0A%0A%20%20%20%20%20%20%20%20%20%20%20%20%0A%20%20%20%20%20%20%20%20%20%20%20%20%20%20%20%20var%20html_9bf1fa55081e4f09a9a5baf5384c9d4a%20%3D%20%24%28%27%3Cdiv%20id%3D%22html_9bf1fa55081e4f09a9a5baf5384c9d4a%22%20style%3D%22width%3A%20100.0%25%3B%20height%3A%20100.0%25%3B%22%3ECarma%20Motorsports%2C%20Cluster%205%2C%20%20Chamblee%3C/div%3E%27%29%5B0%5D%3B%0A%20%20%20%20%20%20%20%20%20%20%20%20%20%20%20%20popup_bb7febe7241f41d68469cbbdfeb2bf36.setContent%28html_9bf1fa55081e4f09a9a5baf5384c9d4a%29%3B%0A%20%20%20%20%20%20%20%20%20%20%20%20%0A%0A%20%20%20%20%20%20%20%20%20%20%20%20circle_marker_e65e8b9403e84d789a89944a0570f4a8.bindPopup%28popup_bb7febe7241f41d68469cbbdfeb2bf36%29%3B%0A%0A%20%20%20%20%20%20%20%20%20%20%20%20%0A%20%20%20%20%20%20%20%20%0A%20%20%20%20%0A%20%20%20%20%20%20%20%20%20%20%20%20var%20circle_marker_8bb7a08b23c84a3a8fd5aaa38bc69cdf%20%3D%20L.circleMarker%28%0A%20%20%20%20%20%20%20%20%20%20%20%20%20%20%20%20%5B33.92647%2C-84.34473511%5D%2C%0A%20%20%20%20%20%20%20%20%20%20%20%20%20%20%20%20%7B%0A%20%20%22bubblingMouseEvents%22%3A%20true%2C%0A%20%20%22color%22%3A%20%22%2300d4ff%22%2C%0A%20%20%22dashArray%22%3A%20null%2C%0A%20%20%22dashOffset%22%3A%20null%2C%0A%20%20%22fill%22%3A%20true%2C%0A%20%20%22fillColor%22%3A%20%22%2300d4ff%22%2C%0A%20%20%22fillOpacity%22%3A%200.7%2C%0A%20%20%22fillRule%22%3A%20%22evenodd%22%2C%0A%20%20%22lineCap%22%3A%20%22round%22%2C%0A%20%20%22lineJoin%22%3A%20%22round%22%2C%0A%20%20%22opacity%22%3A%201.0%2C%0A%20%20%22radius%22%3A%205%2C%0A%20%20%22stroke%22%3A%20true%2C%0A%20%20%22weight%22%3A%203%0A%7D%0A%20%20%20%20%20%20%20%20%20%20%20%20%20%20%20%20%29.addTo%28map_13237c8e481d4a34b8596cbb7b42a87d%29%3B%0A%20%20%20%20%20%20%20%20%20%20%20%20%0A%20%20%20%20%0A%20%20%20%20%20%20%20%20%20%20%20%20var%20popup_9eaff7cf1caa413280c5ab84089436f7%20%3D%20L.popup%28%7BmaxWidth%3A%20%27300%27%7D%29%3B%0A%0A%20%20%20%20%20%20%20%20%20%20%20%20%0A%20%20%20%20%20%20%20%20%20%20%20%20%20%20%20%20var%20html_a3a3a7968f7149afbff378b760aeebd0%20%3D%20%24%28%27%3Cdiv%20id%3D%22html_a3a3a7968f7149afbff378b760aeebd0%22%20style%3D%22width%3A%20100.0%25%3B%20height%3A%20100.0%25%3B%22%3EFirestone%20Complete%20Auto%20Care%2C%20Cluster%203%2C%20%20Dunwoody%3C/div%3E%27%29%5B0%5D%3B%0A%20%20%20%20%20%20%20%20%20%20%20%20%20%20%20%20popup_9eaff7cf1caa413280c5ab84089436f7.setContent%28html_a3a3a7968f7149afbff378b760aeebd0%29%3B%0A%20%20%20%20%20%20%20%20%20%20%20%20%0A%0A%20%20%20%20%20%20%20%20%20%20%20%20circle_marker_8bb7a08b23c84a3a8fd5aaa38bc69cdf.bindPopup%28popup_9eaff7cf1caa413280c5ab84089436f7%29%3B%0A%0A%20%20%20%20%20%20%20%20%20%20%20%20%0A%20%20%20%20%20%20%20%20%0A%20%20%20%20%0A%20%20%20%20%20%20%20%20%20%20%20%20var%20circle_marker_42fb636680ee467e904f911edb3d69d7%20%3D%20L.circleMarker%28%0A%20%20%20%20%20%20%20%20%20%20%20%20%20%20%20%20%5B33.813423%2C-84.334503%5D%2C%0A%20%20%20%20%20%20%20%20%20%20%20%20%20%20%20%20%7B%0A%20%20%22bubblingMouseEvents%22%3A%20true%2C%0A%20%20%22color%22%3A%20%22%23ffe600%22%2C%0A%20%20%22dashArray%22%3A%20null%2C%0A%20%20%22dashOffset%22%3A%20null%2C%0A%20%20%22fill%22%3A%20true%2C%0A%20%20%22fillColor%22%3A%20%22%23ffe600%22%2C%0A%20%20%22fillOpacity%22%3A%200.7%2C%0A%20%20%22fillRule%22%3A%20%22evenodd%22%2C%0A%20%20%22lineCap%22%3A%20%22round%22%2C%0A%20%20%22lineJoin%22%3A%20%22round%22%2C%0A%20%20%22opacity%22%3A%201.0%2C%0A%20%20%22radius%22%3A%205%2C%0A%20%20%22stroke%22%3A%20true%2C%0A%20%20%22weight%22%3A%203%0A%7D%0A%20%20%20%20%20%20%20%20%20%20%20%20%20%20%20%20%29.addTo%28map_13237c8e481d4a34b8596cbb7b42a87d%29%3B%0A%20%20%20%20%20%20%20%20%20%20%20%20%0A%20%20%20%20%0A%20%20%20%20%20%20%20%20%20%20%20%20var%20popup_f24895d573b041e68bed501198b14810%20%3D%20L.popup%28%7BmaxWidth%3A%20%27300%27%7D%29%3B%0A%0A%20%20%20%20%20%20%20%20%20%20%20%20%0A%20%20%20%20%20%20%20%20%20%20%20%20%20%20%20%20var%20html_914aad8522724b1889157f8d9a89a11c%20%3D%20%24%28%27%3Cdiv%20id%3D%22html_914aad8522724b1889157f8d9a89a11c%22%20style%3D%22width%3A%20100.0%25%3B%20height%3A%20100.0%25%3B%22%3EClassic%2073%20Garage%2C%20Cluster%205%2C%20%20Atlanta%3C/div%3E%27%29%5B0%5D%3B%0A%20%20%20%20%20%20%20%20%20%20%20%20%20%20%20%20popup_f24895d573b041e68bed501198b14810.setContent%28html_914aad8522724b1889157f8d9a89a11c%29%3B%0A%20%20%20%20%20%20%20%20%20%20%20%20%0A%0A%20%20%20%20%20%20%20%20%20%20%20%20circle_marker_42fb636680ee467e904f911edb3d69d7.bindPopup%28popup_f24895d573b041e68bed501198b14810%29%3B%0A%0A%20%20%20%20%20%20%20%20%20%20%20%20%0A%20%20%20%20%20%20%20%20%0A%20%20%20%20%0A%20%20%20%20%20%20%20%20%20%20%20%20var%20circle_marker_7d198f25bdf24c54af7cceb3db52cb2d%20%3D%20L.circleMarker%28%0A%20%20%20%20%20%20%20%20%20%20%20%20%20%20%20%20%5B33.90971755981445%2C-84.49443817138672%5D%2C%0A%20%20%20%20%20%20%20%20%20%20%20%20%20%20%20%20%7B%0A%20%20%22bubblingMouseEvents%22%3A%20true%2C%0A%20%20%22color%22%3A%20%22%23800000%22%2C%0A%20%20%22dashArray%22%3A%20null%2C%0A%20%20%22dashOffset%22%3A%20null%2C%0A%20%20%22fill%22%3A%20true%2C%0A%20%20%22fillColor%22%3A%20%22%23800000%22%2C%0A%20%20%22fillOpacity%22%3A%200.7%2C%0A%20%20%22fillRule%22%3A%20%22evenodd%22%2C%0A%20%20%22lineCap%22%3A%20%22round%22%2C%0A%20%20%22lineJoin%22%3A%20%22round%22%2C%0A%20%20%22opacity%22%3A%201.0%2C%0A%20%20%22radius%22%3A%205%2C%0A%20%20%22stroke%22%3A%20true%2C%0A%20%20%22weight%22%3A%203%0A%7D%0A%20%20%20%20%20%20%20%20%20%20%20%20%20%20%20%20%29.addTo%28map_13237c8e481d4a34b8596cbb7b42a87d%29%3B%0A%20%20%20%20%20%20%20%20%20%20%20%20%0A%20%20%20%20%0A%20%20%20%20%20%20%20%20%20%20%20%20var%20popup_4d93c78b433a4596bcb070cc72f184c8%20%3D%20L.popup%28%7BmaxWidth%3A%20%27300%27%7D%29%3B%0A%0A%20%20%20%20%20%20%20%20%20%20%20%20%0A%20%20%20%20%20%20%20%20%20%20%20%20%20%20%20%20var%20html_f90c702d6a8340429d0e067481069989%20%3D%20%24%28%27%3Cdiv%20id%3D%22html_f90c702d6a8340429d0e067481069989%22%20style%3D%22width%3A%20100.0%25%3B%20height%3A%20100.0%25%3B%22%3EElite%20Motives%2C%20Cluster%200%2C%20%20Marietta%3C/div%3E%27%29%5B0%5D%3B%0A%20%20%20%20%20%20%20%20%20%20%20%20%20%20%20%20popup_4d93c78b433a4596bcb070cc72f184c8.setContent%28html_f90c702d6a8340429d0e067481069989%29%3B%0A%20%20%20%20%20%20%20%20%20%20%20%20%0A%0A%20%20%20%20%20%20%20%20%20%20%20%20circle_marker_7d198f25bdf24c54af7cceb3db52cb2d.bindPopup%28popup_4d93c78b433a4596bcb070cc72f184c8%29%3B%0A%0A%20%20%20%20%20%20%20%20%20%20%20%20%0A%20%20%20%20%20%20%20%20%0A%20%20%20%20%0A%20%20%20%20%20%20%20%20%20%20%20%20var%20circle_marker_5f205fe458984ce288f6e40a399baca7%20%3D%20L.circleMarker%28%0A%20%20%20%20%20%20%20%20%20%20%20%20%20%20%20%20%5B33.92672895%2C-84.57198337%5D%2C%0A%20%20%20%20%20%20%20%20%20%20%20%20%20%20%20%20%7B%0A%20%20%22bubblingMouseEvents%22%3A%20true%2C%0A%20%20%22color%22%3A%20%22%23800000%22%2C%0A%20%20%22dashArray%22%3A%20null%2C%0A%20%20%22dashOffset%22%3A%20null%2C%0A%20%20%22fill%22%3A%20true%2C%0A%20%20%22fillColor%22%3A%20%22%23800000%22%2C%0A%20%20%22fillOpacity%22%3A%200.7%2C%0A%20%20%22fillRule%22%3A%20%22evenodd%22%2C%0A%20%20%22lineCap%22%3A%20%22round%22%2C%0A%20%20%22lineJoin%22%3A%20%22round%22%2C%0A%20%20%22opacity%22%3A%201.0%2C%0A%20%20%22radius%22%3A%205%2C%0A%20%20%22stroke%22%3A%20true%2C%0A%20%20%22weight%22%3A%203%0A%7D%0A%20%20%20%20%20%20%20%20%20%20%20%20%20%20%20%20%29.addTo%28map_13237c8e481d4a34b8596cbb7b42a87d%29%3B%0A%20%20%20%20%20%20%20%20%20%20%20%20%0A%20%20%20%20%0A%20%20%20%20%20%20%20%20%20%20%20%20var%20popup_10b3aaabe689426e80fa75f4b63fc536%20%3D%20L.popup%28%7BmaxWidth%3A%20%27300%27%7D%29%3B%0A%0A%20%20%20%20%20%20%20%20%20%20%20%20%0A%20%20%20%20%20%20%20%20%20%20%20%20%20%20%20%20var%20html_2360e003d2794582ba9888be48a4c8f4%20%3D%20%24%28%27%3Cdiv%20id%3D%22html_2360e003d2794582ba9888be48a4c8f4%22%20style%3D%22width%3A%20100.0%25%3B%20height%3A%20100.0%25%3B%22%3EFirestone%20Complete%20Auto%20Care%2C%20Cluster%200%2C%20%20Marietta%3C/div%3E%27%29%5B0%5D%3B%0A%20%20%20%20%20%20%20%20%20%20%20%20%20%20%20%20popup_10b3aaabe689426e80fa75f4b63fc536.setContent%28html_2360e003d2794582ba9888be48a4c8f4%29%3B%0A%20%20%20%20%20%20%20%20%20%20%20%20%0A%0A%20%20%20%20%20%20%20%20%20%20%20%20circle_marker_5f205fe458984ce288f6e40a399baca7.bindPopup%28popup_10b3aaabe689426e80fa75f4b63fc536%29%3B%0A%0A%20%20%20%20%20%20%20%20%20%20%20%20%0A%20%20%20%20%20%20%20%20%0A%20%20%20%20%0A%20%20%20%20%20%20%20%20%20%20%20%20var%20circle_marker_56f92388cac44c26ac045d69c1d2250e%20%3D%20L.circleMarker%28%0A%20%20%20%20%20%20%20%20%20%20%20%20%20%20%20%20%5B33.855743%2C-84.205036%5D%2C%0A%20%20%20%20%20%20%20%20%20%20%20%20%20%20%20%20%7B%0A%20%20%22bubblingMouseEvents%22%3A%20true%2C%0A%20%20%22color%22%3A%20%22%230028ff%22%2C%0A%20%20%22dashArray%22%3A%20null%2C%0A%20%20%22dashOffset%22%3A%20null%2C%0A%20%20%22fill%22%3A%20true%2C%0A%20%20%22fillColor%22%3A%20%22%230028ff%22%2C%0A%20%20%22fillOpacity%22%3A%200.7%2C%0A%20%20%22fillRule%22%3A%20%22evenodd%22%2C%0A%20%20%22lineCap%22%3A%20%22round%22%2C%0A%20%20%22lineJoin%22%3A%20%22round%22%2C%0A%20%20%22opacity%22%3A%201.0%2C%0A%20%20%22radius%22%3A%205%2C%0A%20%20%22stroke%22%3A%20true%2C%0A%20%20%22weight%22%3A%203%0A%7D%0A%20%20%20%20%20%20%20%20%20%20%20%20%20%20%20%20%29.addTo%28map_13237c8e481d4a34b8596cbb7b42a87d%29%3B%0A%20%20%20%20%20%20%20%20%20%20%20%20%0A%20%20%20%20%0A%20%20%20%20%20%20%20%20%20%20%20%20var%20popup_bfa0835a60c74d4380cb23de5f15bb00%20%3D%20L.popup%28%7BmaxWidth%3A%20%27300%27%7D%29%3B%0A%0A%20%20%20%20%20%20%20%20%20%20%20%20%0A%20%20%20%20%20%20%20%20%20%20%20%20%20%20%20%20var%20html_5f8a45508e3248a38d1f0d7f6f30bb6a%20%3D%20%24%28%27%3Cdiv%20id%3D%22html_5f8a45508e3248a38d1f0d7f6f30bb6a%22%20style%3D%22width%3A%20100.0%25%3B%20height%3A%20100.0%25%3B%22%3EWalmart%20Auto%20Care%20Centers%2C%20Cluster%202%2C%20%20Tucker%3C/div%3E%27%29%5B0%5D%3B%0A%20%20%20%20%20%20%20%20%20%20%20%20%20%20%20%20popup_bfa0835a60c74d4380cb23de5f15bb00.setContent%28html_5f8a45508e3248a38d1f0d7f6f30bb6a%29%3B%0A%20%20%20%20%20%20%20%20%20%20%20%20%0A%0A%20%20%20%20%20%20%20%20%20%20%20%20circle_marker_56f92388cac44c26ac045d69c1d2250e.bindPopup%28popup_bfa0835a60c74d4380cb23de5f15bb00%29%3B%0A%0A%20%20%20%20%20%20%20%20%20%20%20%20%0A%20%20%20%20%20%20%20%20%0A%20%20%20%20%0A%20%20%20%20%20%20%20%20%20%20%20%20var%20circle_marker_03bd225d96a142568b5081b7725e9607%20%3D%20L.circleMarker%28%0A%20%20%20%20%20%20%20%20%20%20%20%20%20%20%20%20%5B33.720642%2C-84.392157%5D%2C%0A%20%20%20%20%20%20%20%20%20%20%20%20%20%20%20%20%7B%0A%20%20%22bubblingMouseEvents%22%3A%20true%2C%0A%20%20%22color%22%3A%20%22%23000080%22%2C%0A%20%20%22dashArray%22%3A%20null%2C%0A%20%20%22dashOffset%22%3A%20null%2C%0A%20%20%22fill%22%3A%20true%2C%0A%20%20%22fillColor%22%3A%20%22%23000080%22%2C%0A%20%20%22fillOpacity%22%3A%200.7%2C%0A%20%20%22fillRule%22%3A%20%22evenodd%22%2C%0A%20%20%22lineCap%22%3A%20%22round%22%2C%0A%20%20%22lineJoin%22%3A%20%22round%22%2C%0A%20%20%22opacity%22%3A%201.0%2C%0A%20%20%22radius%22%3A%205%2C%0A%20%20%22stroke%22%3A%20true%2C%0A%20%20%22weight%22%3A%203%0A%7D%0A%20%20%20%20%20%20%20%20%20%20%20%20%20%20%20%20%29.addTo%28map_13237c8e481d4a34b8596cbb7b42a87d%29%3B%0A%20%20%20%20%20%20%20%20%20%20%20%20%0A%20%20%20%20%0A%20%20%20%20%20%20%20%20%20%20%20%20var%20popup_5e31443f2a4f4bc696417cad38c00e87%20%3D%20L.popup%28%7BmaxWidth%3A%20%27300%27%7D%29%3B%0A%0A%20%20%20%20%20%20%20%20%20%20%20%20%0A%20%20%20%20%20%20%20%20%20%20%20%20%20%20%20%20var%20html_f478552b38b1467fa0632f2c75047498%20%3D%20%24%28%27%3Cdiv%20id%3D%22html_f478552b38b1467fa0632f2c75047498%22%20style%3D%22width%3A%20100.0%25%3B%20height%3A%20100.0%25%3B%22%3ECummins%20Sales%20and%20Service%2C%20Cluster%201%2C%20%20Atlanta%3C/div%3E%27%29%5B0%5D%3B%0A%20%20%20%20%20%20%20%20%20%20%20%20%20%20%20%20popup_5e31443f2a4f4bc696417cad38c00e87.setContent%28html_f478552b38b1467fa0632f2c75047498%29%3B%0A%20%20%20%20%20%20%20%20%20%20%20%20%0A%0A%20%20%20%20%20%20%20%20%20%20%20%20circle_marker_03bd225d96a142568b5081b7725e9607.bindPopup%28popup_5e31443f2a4f4bc696417cad38c00e87%29%3B%0A%0A%20%20%20%20%20%20%20%20%20%20%20%20%0A%20%20%20%20%20%20%20%20%0A%20%20%20%20%0A%20%20%20%20%20%20%20%20%20%20%20%20var%20circle_marker_34e11bad50b24521a6b923749388b581%20%3D%20L.circleMarker%28%0A%20%20%20%20%20%20%20%20%20%20%20%20%20%20%20%20%5B33.91674041748047%2C-84.54828643798828%5D%2C%0A%20%20%20%20%20%20%20%20%20%20%20%20%20%20%20%20%7B%0A%20%20%22bubblingMouseEvents%22%3A%20true%2C%0A%20%20%22color%22%3A%20%22%23800000%22%2C%0A%20%20%22dashArray%22%3A%20null%2C%0A%20%20%22dashOffset%22%3A%20null%2C%0A%20%20%22fill%22%3A%20true%2C%0A%20%20%22fillColor%22%3A%20%22%23800000%22%2C%0A%20%20%22fillOpacity%22%3A%200.7%2C%0A%20%20%22fillRule%22%3A%20%22evenodd%22%2C%0A%20%20%22lineCap%22%3A%20%22round%22%2C%0A%20%20%22lineJoin%22%3A%20%22round%22%2C%0A%20%20%22opacity%22%3A%201.0%2C%0A%20%20%22radius%22%3A%205%2C%0A%20%20%22stroke%22%3A%20true%2C%0A%20%20%22weight%22%3A%203%0A%7D%0A%20%20%20%20%20%20%20%20%20%20%20%20%20%20%20%20%29.addTo%28map_13237c8e481d4a34b8596cbb7b42a87d%29%3B%0A%20%20%20%20%20%20%20%20%20%20%20%20%0A%20%20%20%20%0A%20%20%20%20%20%20%20%20%20%20%20%20var%20popup_f2c1c2506074451ba797f284e29747a5%20%3D%20L.popup%28%7BmaxWidth%3A%20%27300%27%7D%29%3B%0A%0A%20%20%20%20%20%20%20%20%20%20%20%20%0A%20%20%20%20%20%20%20%20%20%20%20%20%20%20%20%20var%20html_8b4377c84c5c43cca36bf8e10d61b062%20%3D%20%24%28%27%3Cdiv%20id%3D%22html_8b4377c84c5c43cca36bf8e10d61b062%22%20style%3D%22width%3A%20100.0%25%3B%20height%3A%20100.0%25%3B%22%3EAjs%20auto%20inc%2C%20Cluster%200%2C%20%20Marietta%3C/div%3E%27%29%5B0%5D%3B%0A%20%20%20%20%20%20%20%20%20%20%20%20%20%20%20%20popup_f2c1c2506074451ba797f284e29747a5.setContent%28html_8b4377c84c5c43cca36bf8e10d61b062%29%3B%0A%20%20%20%20%20%20%20%20%20%20%20%20%0A%0A%20%20%20%20%20%20%20%20%20%20%20%20circle_marker_34e11bad50b24521a6b923749388b581.bindPopup%28popup_f2c1c2506074451ba797f284e29747a5%29%3B%0A%0A%20%20%20%20%20%20%20%20%20%20%20%20%0A%20%20%20%20%20%20%20%20%0A%20%20%20%20%0A%20%20%20%20%20%20%20%20%20%20%20%20var%20circle_marker_e3ee513859a346279fc172475a363408%20%3D%20L.circleMarker%28%0A%20%20%20%20%20%20%20%20%20%20%20%20%20%20%20%20%5B33.586866%2C-84.472179%5D%2C%0A%20%20%20%20%20%20%20%20%20%20%20%20%20%20%20%20%7B%0A%20%20%22bubblingMouseEvents%22%3A%20true%2C%0A%20%20%22color%22%3A%20%22%237dff7a%22%2C%0A%20%20%22dashArray%22%3A%20null%2C%0A%20%20%22dashOffset%22%3A%20null%2C%0A%20%20%22fill%22%3A%20true%2C%0A%20%20%22fillColor%22%3A%20%22%237dff7a%22%2C%0A%20%20%22fillOpacity%22%3A%200.7%2C%0A%20%20%22fillRule%22%3A%20%22evenodd%22%2C%0A%20%20%22lineCap%22%3A%20%22round%22%2C%0A%20%20%22lineJoin%22%3A%20%22round%22%2C%0A%20%20%22opacity%22%3A%201.0%2C%0A%20%20%22radius%22%3A%205%2C%0A%20%20%22stroke%22%3A%20true%2C%0A%20%20%22weight%22%3A%203%0A%7D%0A%20%20%20%20%20%20%20%20%20%20%20%20%20%20%20%20%29.addTo%28map_13237c8e481d4a34b8596cbb7b42a87d%29%3B%0A%20%20%20%20%20%20%20%20%20%20%20%20%0A%20%20%20%20%0A%20%20%20%20%20%20%20%20%20%20%20%20var%20popup_6b0af22d69f64de4a91ed10e7a3af90f%20%3D%20L.popup%28%7BmaxWidth%3A%20%27300%27%7D%29%3B%0A%0A%20%20%20%20%20%20%20%20%20%20%20%20%0A%20%20%20%20%20%20%20%20%20%20%20%20%20%20%20%20var%20html_56f730ac9e454e51955f3e9b0b7b5a5e%20%3D%20%24%28%27%3Cdiv%20id%3D%22html_56f730ac9e454e51955f3e9b0b7b5a5e%22%20style%3D%22width%3A%20100.0%25%3B%20height%3A%20100.0%25%3B%22%3EWalmart%20Auto%20Care%20Centers%2C%20Cluster%204%2C%20%20College%20Park%3C/div%3E%27%29%5B0%5D%3B%0A%20%20%20%20%20%20%20%20%20%20%20%20%20%20%20%20popup_6b0af22d69f64de4a91ed10e7a3af90f.setContent%28html_56f730ac9e454e51955f3e9b0b7b5a5e%29%3B%0A%20%20%20%20%20%20%20%20%20%20%20%20%0A%0A%20%20%20%20%20%20%20%20%20%20%20%20circle_marker_e3ee513859a346279fc172475a363408.bindPopup%28popup_6b0af22d69f64de4a91ed10e7a3af90f%29%3B%0A%0A%20%20%20%20%20%20%20%20%20%20%20%20%0A%20%20%20%20%20%20%20%20%0A%3C/script%3E onload=\"this.contentDocument.open();this.contentDocument.write(    decodeURIComponent(this.getAttribute('data-html')));this.contentDocument.close();\" allowfullscreen webkitallowfullscreen mozallowfullscreen></iframe></div></div>"
     },
     "metadata": {},
     "execution_count": 30
    }
   ],
   "source": [
    "# create map\n",
    "map_clusters = folium.Map(location=[latitude, longitude], zoom_start=11)\n",
    "\n",
    "# set color scheme for the clusters\n",
    "x = np.arange(kclusters)\n",
    "ys = [i + x + (i*x)**2 for i in range(kclusters)]\n",
    "colors_array = cm.jet(np.linspace(0, 1, len(ys)))\n",
    "rainbow = [colors.rgb2hex(i) for i in colors_array]\n",
    "\n",
    "# add markers to the map\n",
    "markers_colors = []\n",
    "for lat, lon, poi, cluster, city in zip(atlanta_workshop_df['Latitude'], atlanta_workshop_df['Longitude'], atlanta_workshop_df['Name'], atlanta_workshop_df['Cluster labels'], atlanta_workshop_df['City']):\n",
    "    label = folium.Popup(str(poi)+',' + ' Cluster ' + str(cluster)+',' +'  ' +   city, parse_html=True)\n",
    "    folium.CircleMarker(\n",
    "        [lat, lon],\n",
    "        radius=5,\n",
    "        popup=label,\n",
    "        color=rainbow[cluster-1],\n",
    "        fill=True,\n",
    "        fill_color=rainbow[cluster-1],\n",
    "        fill_opacity=0.7).add_to(map_clusters)\n",
    "       \n",
    "map_clusters"
   ]
  },
  {
   "source": [
    "## Examining Clusters"
   ],
   "cell_type": "markdown",
   "metadata": {}
  },
  {
   "source": [
    "### 1st Cluster"
   ],
   "cell_type": "markdown",
   "metadata": {}
  },
  {
   "cell_type": "code",
   "execution_count": 54,
   "metadata": {},
   "outputs": [
    {
     "output_type": "execute_result",
     "data": {
      "text/plain": [
       "                            Name      City                        Id\n",
       "3       Jim Ellis Mazda Marietta  Marietta  5b377e8e840fc2002cfdc78f\n",
       "6               Driven Collision    Smyrna  5f52bfb5cf74b37227b523b8\n",
       "11            ND2SPD MotorSports  Marietta  57598d6e498ee70d48f92d28\n",
       "32                 Elite Motives  Marietta  581359ad38fa5192857244de\n",
       "33  Firestone Complete Auto Care  Marietta  578d276b498ed96114d44694\n",
       "36                  Ajs auto inc  Marietta  51504db3e4b0e39901351b23"
      ],
      "text/html": "<div>\n<style scoped>\n    .dataframe tbody tr th:only-of-type {\n        vertical-align: middle;\n    }\n\n    .dataframe tbody tr th {\n        vertical-align: top;\n    }\n\n    .dataframe thead th {\n        text-align: right;\n    }\n</style>\n<table border=\"1\" class=\"dataframe\">\n  <thead>\n    <tr style=\"text-align: right;\">\n      <th></th>\n      <th>Name</th>\n      <th>City</th>\n      <th>Id</th>\n    </tr>\n  </thead>\n  <tbody>\n    <tr>\n      <th>3</th>\n      <td>Jim Ellis Mazda Marietta</td>\n      <td>Marietta</td>\n      <td>5b377e8e840fc2002cfdc78f</td>\n    </tr>\n    <tr>\n      <th>6</th>\n      <td>Driven Collision</td>\n      <td>Smyrna</td>\n      <td>5f52bfb5cf74b37227b523b8</td>\n    </tr>\n    <tr>\n      <th>11</th>\n      <td>ND2SPD MotorSports</td>\n      <td>Marietta</td>\n      <td>57598d6e498ee70d48f92d28</td>\n    </tr>\n    <tr>\n      <th>32</th>\n      <td>Elite Motives</td>\n      <td>Marietta</td>\n      <td>581359ad38fa5192857244de</td>\n    </tr>\n    <tr>\n      <th>33</th>\n      <td>Firestone Complete Auto Care</td>\n      <td>Marietta</td>\n      <td>578d276b498ed96114d44694</td>\n    </tr>\n    <tr>\n      <th>36</th>\n      <td>Ajs auto inc</td>\n      <td>Marietta</td>\n      <td>51504db3e4b0e39901351b23</td>\n    </tr>\n  </tbody>\n</table>\n</div>"
     },
     "metadata": {},
     "execution_count": 54
    }
   ],
   "source": [
    "atlanta_workshop_df.loc[atlanta_workshop_df['Cluster labels'] == 0, atlanta_workshop_df.columns[[0] + list(range(5, atlanta_workshop_df.shape[1]))]]"
   ]
  },
  {
   "source": [
    "### 2nd Cluster"
   ],
   "cell_type": "markdown",
   "metadata": {}
  },
  {
   "cell_type": "code",
   "execution_count": 55,
   "metadata": {},
   "outputs": [
    {
     "output_type": "execute_result",
     "data": {
      "text/plain": [
       "                            Name         City                        Id\n",
       "13  Pep Boys Auto Service & Tire  Stockbridge  4fd3ce79e4b021197937eb42\n",
       "16                 Tj Automotive  Forest Park  526e7de211d27af84b5708bb\n",
       "20     Cummins Sales and Service      Atlanta  4c3615bf1e06d13adc9c733e\n",
       "24  Firestone Complete Auto Care       Morrow  578d276c498ed96114d44bcb\n",
       "28      Cleveland Tires & Wheels      Atlanta  57854d91498eb6c743a0fc52\n",
       "35     Cummins Sales and Service      Atlanta  58370509966e55479d0d3816"
      ],
      "text/html": "<div>\n<style scoped>\n    .dataframe tbody tr th:only-of-type {\n        vertical-align: middle;\n    }\n\n    .dataframe tbody tr th {\n        vertical-align: top;\n    }\n\n    .dataframe thead th {\n        text-align: right;\n    }\n</style>\n<table border=\"1\" class=\"dataframe\">\n  <thead>\n    <tr style=\"text-align: right;\">\n      <th></th>\n      <th>Name</th>\n      <th>City</th>\n      <th>Id</th>\n    </tr>\n  </thead>\n  <tbody>\n    <tr>\n      <th>13</th>\n      <td>Pep Boys Auto Service &amp; Tire</td>\n      <td>Stockbridge</td>\n      <td>4fd3ce79e4b021197937eb42</td>\n    </tr>\n    <tr>\n      <th>16</th>\n      <td>Tj Automotive</td>\n      <td>Forest Park</td>\n      <td>526e7de211d27af84b5708bb</td>\n    </tr>\n    <tr>\n      <th>20</th>\n      <td>Cummins Sales and Service</td>\n      <td>Atlanta</td>\n      <td>4c3615bf1e06d13adc9c733e</td>\n    </tr>\n    <tr>\n      <th>24</th>\n      <td>Firestone Complete Auto Care</td>\n      <td>Morrow</td>\n      <td>578d276c498ed96114d44bcb</td>\n    </tr>\n    <tr>\n      <th>28</th>\n      <td>Cleveland Tires &amp; Wheels</td>\n      <td>Atlanta</td>\n      <td>57854d91498eb6c743a0fc52</td>\n    </tr>\n    <tr>\n      <th>35</th>\n      <td>Cummins Sales and Service</td>\n      <td>Atlanta</td>\n      <td>58370509966e55479d0d3816</td>\n    </tr>\n  </tbody>\n</table>\n</div>"
     },
     "metadata": {},
     "execution_count": 55
    }
   ],
   "source": [
    "atlanta_workshop_df.loc[atlanta_workshop_df['Cluster labels'] == 1, atlanta_workshop_df.columns[[0] + list(range(5, atlanta_workshop_df.shape[1]))]]"
   ]
  },
  {
   "source": [
    "### 3rd Cluster "
   ],
   "cell_type": "markdown",
   "metadata": {}
  },
  {
   "cell_type": "code",
   "execution_count": 56,
   "metadata": {},
   "outputs": [
    {
     "output_type": "execute_result",
     "data": {
      "text/plain": [
       "                            Name            City                        Id\n",
       "7                Munich West Inc         Decatur  4c758c92ff1fb60cae8af6a7\n",
       "8   Firestone Complete Auto Care          Tucker  578d276c498ed96114d44bc8\n",
       "15     Walmart Auto Care Centers  Stone Mountain  599b146c28374e303b0cc78e\n",
       "19  Firestone Complete Auto Care  Stone Mountain  578d276c498ed96114d44a75\n",
       "21                MMC Automotive  Stone Mountain  4ee360ea722ea7b94419267a\n",
       "25            Keener Auto Repair       Scottdale  4def7f47c65bf3f03e974bab\n",
       "34     Walmart Auto Care Centers          Tucker  59962f5662420b7f4bbf6e91"
      ],
      "text/html": "<div>\n<style scoped>\n    .dataframe tbody tr th:only-of-type {\n        vertical-align: middle;\n    }\n\n    .dataframe tbody tr th {\n        vertical-align: top;\n    }\n\n    .dataframe thead th {\n        text-align: right;\n    }\n</style>\n<table border=\"1\" class=\"dataframe\">\n  <thead>\n    <tr style=\"text-align: right;\">\n      <th></th>\n      <th>Name</th>\n      <th>City</th>\n      <th>Id</th>\n    </tr>\n  </thead>\n  <tbody>\n    <tr>\n      <th>7</th>\n      <td>Munich West Inc</td>\n      <td>Decatur</td>\n      <td>4c758c92ff1fb60cae8af6a7</td>\n    </tr>\n    <tr>\n      <th>8</th>\n      <td>Firestone Complete Auto Care</td>\n      <td>Tucker</td>\n      <td>578d276c498ed96114d44bc8</td>\n    </tr>\n    <tr>\n      <th>15</th>\n      <td>Walmart Auto Care Centers</td>\n      <td>Stone Mountain</td>\n      <td>599b146c28374e303b0cc78e</td>\n    </tr>\n    <tr>\n      <th>19</th>\n      <td>Firestone Complete Auto Care</td>\n      <td>Stone Mountain</td>\n      <td>578d276c498ed96114d44a75</td>\n    </tr>\n    <tr>\n      <th>21</th>\n      <td>MMC Automotive</td>\n      <td>Stone Mountain</td>\n      <td>4ee360ea722ea7b94419267a</td>\n    </tr>\n    <tr>\n      <th>25</th>\n      <td>Keener Auto Repair</td>\n      <td>Scottdale</td>\n      <td>4def7f47c65bf3f03e974bab</td>\n    </tr>\n    <tr>\n      <th>34</th>\n      <td>Walmart Auto Care Centers</td>\n      <td>Tucker</td>\n      <td>59962f5662420b7f4bbf6e91</td>\n    </tr>\n  </tbody>\n</table>\n</div>"
     },
     "metadata": {},
     "execution_count": 56
    }
   ],
   "source": [
    "atlanta_workshop_df.loc[atlanta_workshop_df['Cluster labels'] == 2, atlanta_workshop_df.columns[[0] + list(range(5, atlanta_workshop_df.shape[1]))]]"
   ]
  },
  {
   "source": [
    "### 4th Cluster "
   ],
   "cell_type": "markdown",
   "metadata": {}
  },
  {
   "cell_type": "code",
   "execution_count": 121,
   "metadata": {},
   "outputs": [
    {
     "output_type": "execute_result",
     "data": {
      "text/plain": [
       "                            Name      City                        Id\n",
       "10   AAA East Cobb Car Care Plus  Marietta  5278026e498e1bb8c4b36407\n",
       "27  Firestone Complete Auto Care   Atlanta  578d276c498ed96114d44aa5\n",
       "30  Firestone Complete Auto Care  Dunwoody  578d276e498ed96114d44f13"
      ],
      "text/html": "<div>\n<style scoped>\n    .dataframe tbody tr th:only-of-type {\n        vertical-align: middle;\n    }\n\n    .dataframe tbody tr th {\n        vertical-align: top;\n    }\n\n    .dataframe thead th {\n        text-align: right;\n    }\n</style>\n<table border=\"1\" class=\"dataframe\">\n  <thead>\n    <tr style=\"text-align: right;\">\n      <th></th>\n      <th>Name</th>\n      <th>City</th>\n      <th>Id</th>\n    </tr>\n  </thead>\n  <tbody>\n    <tr>\n      <th>10</th>\n      <td>AAA East Cobb Car Care Plus</td>\n      <td>Marietta</td>\n      <td>5278026e498e1bb8c4b36407</td>\n    </tr>\n    <tr>\n      <th>27</th>\n      <td>Firestone Complete Auto Care</td>\n      <td>Atlanta</td>\n      <td>578d276c498ed96114d44aa5</td>\n    </tr>\n    <tr>\n      <th>30</th>\n      <td>Firestone Complete Auto Care</td>\n      <td>Dunwoody</td>\n      <td>578d276e498ed96114d44f13</td>\n    </tr>\n  </tbody>\n</table>\n</div>"
     },
     "metadata": {},
     "execution_count": 121
    }
   ],
   "source": [
    "atlanta_workshop_df_4 =  atlanta_workshop_df.loc[atlanta_workshop_df['Cluster labels'] == 3, atlanta_workshop_df.columns[[0] + list(range(5, atlanta_workshop_df.shape[1]))]]\n",
    "atlanta_workshop_df_4 = atlanta_workshop_df_4.drop(index=0)\n",
    "atlanta_workshop_df_4"
   ]
  },
  {
   "source": [
    "### 5th Cluster "
   ],
   "cell_type": "markdown",
   "metadata": {}
  },
  {
   "cell_type": "code",
   "execution_count": 58,
   "metadata": {},
   "outputs": [
    {
     "output_type": "execute_result",
     "data": {
      "text/plain": [
       "                            Name          City                        Id\n",
       "4                  85 Automotive  Fayetteville  5a849e7ff00a7027eebec016\n",
       "12  Firestone Complete Auto Care     Riverdale  578d276c498ed96114d44b50\n",
       "18             Caliber Collision    Union City  593067190531e83164f5ed8c\n",
       "22  Firestone Complete Auto Care    Union City  578d276d498ed96114d44e4a\n",
       "37     Walmart Auto Care Centers  College Park  5992471faa6c95730e928246"
      ],
      "text/html": "<div>\n<style scoped>\n    .dataframe tbody tr th:only-of-type {\n        vertical-align: middle;\n    }\n\n    .dataframe tbody tr th {\n        vertical-align: top;\n    }\n\n    .dataframe thead th {\n        text-align: right;\n    }\n</style>\n<table border=\"1\" class=\"dataframe\">\n  <thead>\n    <tr style=\"text-align: right;\">\n      <th></th>\n      <th>Name</th>\n      <th>City</th>\n      <th>Id</th>\n    </tr>\n  </thead>\n  <tbody>\n    <tr>\n      <th>4</th>\n      <td>85 Automotive</td>\n      <td>Fayetteville</td>\n      <td>5a849e7ff00a7027eebec016</td>\n    </tr>\n    <tr>\n      <th>12</th>\n      <td>Firestone Complete Auto Care</td>\n      <td>Riverdale</td>\n      <td>578d276c498ed96114d44b50</td>\n    </tr>\n    <tr>\n      <th>18</th>\n      <td>Caliber Collision</td>\n      <td>Union City</td>\n      <td>593067190531e83164f5ed8c</td>\n    </tr>\n    <tr>\n      <th>22</th>\n      <td>Firestone Complete Auto Care</td>\n      <td>Union City</td>\n      <td>578d276d498ed96114d44e4a</td>\n    </tr>\n    <tr>\n      <th>37</th>\n      <td>Walmart Auto Care Centers</td>\n      <td>College Park</td>\n      <td>5992471faa6c95730e928246</td>\n    </tr>\n  </tbody>\n</table>\n</div>"
     },
     "metadata": {},
     "execution_count": 58
    }
   ],
   "source": [
    "atlanta_workshop_df.loc[atlanta_workshop_df['Cluster labels'] == 4, atlanta_workshop_df.columns[[0] + list(range(5, atlanta_workshop_df.shape[1]))]]"
   ]
  },
  {
   "source": [
    "### 6th Cluster"
   ],
   "cell_type": "markdown",
   "metadata": {}
  },
  {
   "cell_type": "code",
   "execution_count": 59,
   "metadata": {},
   "outputs": [
    {
     "output_type": "execute_result",
     "data": {
      "text/plain": [
       "                                 Name       City                        Id\n",
       "1   Nalley Collision Center Doraville  Doraville  58c19439e9dad103b4e525ba\n",
       "2               Unique Auto Body Shop  Doraville  6048d78d9c60e93a5d3b479b\n",
       "9                   Eurofed - Atlanta    Atlanta  5bc5db1e46e1b6002c5ed865\n",
       "14       Firestone Complete Auto Care   Norcross  578d276c498ed96114d44c22\n",
       "23       Firestone Complete Auto Care   Chamblee  578d276f498ed96114d455ec\n",
       "26       AAA Toco Hills Car Care Plus    Atlanta  4e8dd6a90039a2626568795f\n",
       "29                  Carma Motorsports   Chamblee  4a60ee74f964a5207ec11fe3\n",
       "31                  Classic 73 Garage    Atlanta  5033e049e4b075a2456bdb36"
      ],
      "text/html": "<div>\n<style scoped>\n    .dataframe tbody tr th:only-of-type {\n        vertical-align: middle;\n    }\n\n    .dataframe tbody tr th {\n        vertical-align: top;\n    }\n\n    .dataframe thead th {\n        text-align: right;\n    }\n</style>\n<table border=\"1\" class=\"dataframe\">\n  <thead>\n    <tr style=\"text-align: right;\">\n      <th></th>\n      <th>Name</th>\n      <th>City</th>\n      <th>Id</th>\n    </tr>\n  </thead>\n  <tbody>\n    <tr>\n      <th>1</th>\n      <td>Nalley Collision Center Doraville</td>\n      <td>Doraville</td>\n      <td>58c19439e9dad103b4e525ba</td>\n    </tr>\n    <tr>\n      <th>2</th>\n      <td>Unique Auto Body Shop</td>\n      <td>Doraville</td>\n      <td>6048d78d9c60e93a5d3b479b</td>\n    </tr>\n    <tr>\n      <th>9</th>\n      <td>Eurofed - Atlanta</td>\n      <td>Atlanta</td>\n      <td>5bc5db1e46e1b6002c5ed865</td>\n    </tr>\n    <tr>\n      <th>14</th>\n      <td>Firestone Complete Auto Care</td>\n      <td>Norcross</td>\n      <td>578d276c498ed96114d44c22</td>\n    </tr>\n    <tr>\n      <th>23</th>\n      <td>Firestone Complete Auto Care</td>\n      <td>Chamblee</td>\n      <td>578d276f498ed96114d455ec</td>\n    </tr>\n    <tr>\n      <th>26</th>\n      <td>AAA Toco Hills Car Care Plus</td>\n      <td>Atlanta</td>\n      <td>4e8dd6a90039a2626568795f</td>\n    </tr>\n    <tr>\n      <th>29</th>\n      <td>Carma Motorsports</td>\n      <td>Chamblee</td>\n      <td>4a60ee74f964a5207ec11fe3</td>\n    </tr>\n    <tr>\n      <th>31</th>\n      <td>Classic 73 Garage</td>\n      <td>Atlanta</td>\n      <td>5033e049e4b075a2456bdb36</td>\n    </tr>\n  </tbody>\n</table>\n</div>"
     },
     "metadata": {},
     "execution_count": 59
    }
   ],
   "source": [
    "atlanta_workshop_df.loc[atlanta_workshop_df['Cluster labels'] == 5, atlanta_workshop_df.columns[[0] + list(range(5, atlanta_workshop_df.shape[1]))]]"
   ]
  },
  {
   "source": [
    "### 7th Cluster"
   ],
   "cell_type": "markdown",
   "metadata": {}
  },
  {
   "cell_type": "code",
   "execution_count": 60,
   "metadata": {},
   "outputs": [
    {
     "output_type": "execute_result",
     "data": {
      "text/plain": [
       "                         Name            City                        Id\n",
       "5                  ACC Garage         Atlanta  57b5cdab498e0f166a705e55\n",
       "17  Walmart Auto Care Centers  Lithia Springs  59964c64123a1921c327d959"
      ],
      "text/html": "<div>\n<style scoped>\n    .dataframe tbody tr th:only-of-type {\n        vertical-align: middle;\n    }\n\n    .dataframe tbody tr th {\n        vertical-align: top;\n    }\n\n    .dataframe thead th {\n        text-align: right;\n    }\n</style>\n<table border=\"1\" class=\"dataframe\">\n  <thead>\n    <tr style=\"text-align: right;\">\n      <th></th>\n      <th>Name</th>\n      <th>City</th>\n      <th>Id</th>\n    </tr>\n  </thead>\n  <tbody>\n    <tr>\n      <th>5</th>\n      <td>ACC Garage</td>\n      <td>Atlanta</td>\n      <td>57b5cdab498e0f166a705e55</td>\n    </tr>\n    <tr>\n      <th>17</th>\n      <td>Walmart Auto Care Centers</td>\n      <td>Lithia Springs</td>\n      <td>59964c64123a1921c327d959</td>\n    </tr>\n  </tbody>\n</table>\n</div>"
     },
     "metadata": {},
     "execution_count": 60
    }
   ],
   "source": [
    "atlanta_workshop_df_7 = atlanta_workshop_df.loc[atlanta_workshop_df['Cluster labels'] == 6, atlanta_workshop_df.columns[[0] + list(range(5, atlanta_workshop_df.shape[1]))]]\n",
    "atlanta_workshop_df_7"
   ]
  },
  {
   "source": [
    "### Basic criteria to open a Business in a location is to check for the need of that business in that area\n",
    "### Two things which decide the need in that area are:\n",
    "###   1. To check for number of shops over the area, if the number of shops are high, the demand for new shop will be less, so first           we have to calculate the number of shops over the region.\n",
    "###   2. If the number shops are less, the next criteria is to check for the peoples opinion in that area that is whether they are             satisfied with the exisiting shops, if not it is the best area to open"
   ],
   "cell_type": "markdown",
   "metadata": {}
  },
  {
   "source": [
    "### Checking for the 1st criteria:\n",
    "####  Cluster 4 and 7 has the least workshops under their cluster when compared to other cluster, so we will check for the customer         opinion of the existing shop"
   ],
   "cell_type": "markdown",
   "metadata": {}
  },
  {
   "source": [
    "### let's check for cluster 4"
   ],
   "cell_type": "markdown",
   "metadata": {}
  },
  {
   "cell_type": "code",
   "execution_count": 122,
   "metadata": {},
   "outputs": [
    {
     "output_type": "execute_result",
     "data": {
      "text/plain": [
       "                            Name      City                        Id\n",
       "10   AAA East Cobb Car Care Plus  Marietta  5278026e498e1bb8c4b36407\n",
       "27  Firestone Complete Auto Care   Atlanta  578d276c498ed96114d44aa5\n",
       "30  Firestone Complete Auto Care  Dunwoody  578d276e498ed96114d44f13"
      ],
      "text/html": "<div>\n<style scoped>\n    .dataframe tbody tr th:only-of-type {\n        vertical-align: middle;\n    }\n\n    .dataframe tbody tr th {\n        vertical-align: top;\n    }\n\n    .dataframe thead th {\n        text-align: right;\n    }\n</style>\n<table border=\"1\" class=\"dataframe\">\n  <thead>\n    <tr style=\"text-align: right;\">\n      <th></th>\n      <th>Name</th>\n      <th>City</th>\n      <th>Id</th>\n    </tr>\n  </thead>\n  <tbody>\n    <tr>\n      <th>10</th>\n      <td>AAA East Cobb Car Care Plus</td>\n      <td>Marietta</td>\n      <td>5278026e498e1bb8c4b36407</td>\n    </tr>\n    <tr>\n      <th>27</th>\n      <td>Firestone Complete Auto Care</td>\n      <td>Atlanta</td>\n      <td>578d276c498ed96114d44aa5</td>\n    </tr>\n    <tr>\n      <th>30</th>\n      <td>Firestone Complete Auto Care</td>\n      <td>Dunwoody</td>\n      <td>578d276e498ed96114d44f13</td>\n    </tr>\n  </tbody>\n</table>\n</div>"
     },
     "metadata": {},
     "execution_count": 122
    }
   ],
   "source": [
    "atlanta_workshop_df_4"
   ]
  },
  {
   "source": [
    "#### AAA East Cobb Car Care Plus"
   ],
   "cell_type": "markdown",
   "metadata": {}
  },
  {
   "cell_type": "code",
   "execution_count": 123,
   "metadata": {},
   "outputs": [
    {
     "output_type": "execute_result",
     "data": {
      "text/plain": [
       "'https://api.foursquare.com/v2/venues/5278026e498e1bb8c4b36407?client_id=WQAEIEJSBV3TBDMRTRKPAQWIAGVMS4MOTDRILYGOME3YH31W&client_secret=A0SHX4J5Z1Q4U52QS25QXTB352VZHTTAZVUW1NLMKYD3M2R5&v=20180605'"
      ]
     },
     "metadata": {},
     "execution_count": 123
    }
   ],
   "source": [
    "url_AAA = 'https://api.foursquare.com/v2/venues/5278026e498e1bb8c4b36407?client_id={}&client_secret={}&v={}'.format(CLIENT_ID,CLIENT_SECRET, VERSION)\n",
    "url_AAA"
   ]
  },
  {
   "cell_type": "code",
   "execution_count": 124,
   "metadata": {},
   "outputs": [],
   "source": [
    "results_AAA = requests.get(url_AAA).json()"
   ]
  },
  {
   "cell_type": "code",
   "execution_count": 126,
   "metadata": {},
   "outputs": [
    {
     "output_type": "execute_result",
     "data": {
      "text/plain": [
       "7.0"
      ]
     },
     "metadata": {},
     "execution_count": 126
    }
   ],
   "source": [
    "AAA_Rating = results_AAA['response']['venue']['rating']\n",
    "AAA_Rating"
   ]
  },
  {
   "source": [
    "#### Firestone Complete Auto Care, Atlanta"
   ],
   "cell_type": "markdown",
   "metadata": {}
  },
  {
   "cell_type": "code",
   "execution_count": 133,
   "metadata": {},
   "outputs": [
    {
     "output_type": "execute_result",
     "data": {
      "text/plain": [
       "'https://api.foursquare.com/v2/venues/578d276c498ed96114d44aa5?client_id=WQAEIEJSBV3TBDMRTRKPAQWIAGVMS4MOTDRILYGOME3YH31W&client_secret=A0SHX4J5Z1Q4U52QS25QXTB352VZHTTAZVUW1NLMKYD3M2R5&v=20180605'"
      ]
     },
     "metadata": {},
     "execution_count": 133
    }
   ],
   "source": [
    "url_Fire_at = 'https://api.foursquare.com/v2/venues/578d276c498ed96114d44aa5?client_id={}&client_secret={}&v={}'.format(CLIENT_ID,CLIENT_SECRET, VERSION)\n",
    "url_Fire_at"
   ]
  },
  {
   "cell_type": "code",
   "execution_count": 134,
   "metadata": {},
   "outputs": [],
   "source": [
    "results_Fire_at = requests.get(url_Fire_at).json()"
   ]
  },
  {
   "cell_type": "code",
   "execution_count": 135,
   "metadata": {},
   "outputs": [
    {
     "output_type": "execute_result",
     "data": {
      "text/plain": [
       "5.3"
      ]
     },
     "metadata": {},
     "execution_count": 135
    }
   ],
   "source": [
    "Fire_at_Rating = results_Fire_at['response']['venue']['rating']\n",
    "Fire_at_Rating"
   ]
  },
  {
   "source": [
    "#### Firestone Complete Auto Care, Dunwoody"
   ],
   "cell_type": "markdown",
   "metadata": {}
  },
  {
   "cell_type": "code",
   "execution_count": 137,
   "metadata": {},
   "outputs": [
    {
     "output_type": "execute_result",
     "data": {
      "text/plain": [
       "'https://api.foursquare.com/v2/venues/578d276e498ed96114d44f13?client_id=WQAEIEJSBV3TBDMRTRKPAQWIAGVMS4MOTDRILYGOME3YH31W&client_secret=A0SHX4J5Z1Q4U52QS25QXTB352VZHTTAZVUW1NLMKYD3M2R5&v=20180605'"
      ]
     },
     "metadata": {},
     "execution_count": 137
    }
   ],
   "source": [
    "url_Fire_du = 'https://api.foursquare.com/v2/venues/578d276e498ed96114d44f13?client_id={}&client_secret={}&v={}'.format(CLIENT_ID,CLIENT_SECRET, VERSION)\n",
    "url_Fire_du"
   ]
  },
  {
   "cell_type": "code",
   "execution_count": 138,
   "metadata": {},
   "outputs": [],
   "source": [
    "results_Fire_du = requests.get(url_Fire_du).json()"
   ]
  },
  {
   "cell_type": "code",
   "execution_count": 139,
   "metadata": {},
   "outputs": [
    {
     "output_type": "execute_result",
     "data": {
      "text/plain": [
       "5.7"
      ]
     },
     "metadata": {},
     "execution_count": 139
    }
   ],
   "source": [
    "Fire_du_Rating = results_Fire_du['response']['venue']['rating']\n",
    "Fire_du_Rating"
   ]
  },
  {
   "cell_type": "code",
   "execution_count": 173,
   "metadata": {},
   "outputs": [
    {
     "output_type": "execute_result",
     "data": {
      "text/plain": [
       "6.0"
      ]
     },
     "metadata": {},
     "execution_count": 173
    }
   ],
   "source": [
    "Average_rating_for_clu_4 = (sum(atlanta_workshop_df_4['Rating']))/3\n",
    "Average_rating_for_clu_4"
   ]
  },
  {
   "source": [
    "### Let's check for cluster 7"
   ],
   "cell_type": "markdown",
   "metadata": {}
  },
  {
   "cell_type": "code",
   "execution_count": 142,
   "metadata": {},
   "outputs": [
    {
     "output_type": "execute_result",
     "data": {
      "text/plain": [
       "                         Name            City                        Id\n",
       "5                  ACC Garage         Atlanta  57b5cdab498e0f166a705e55\n",
       "17  Walmart Auto Care Centers  Lithia Springs  59964c64123a1921c327d959"
      ],
      "text/html": "<div>\n<style scoped>\n    .dataframe tbody tr th:only-of-type {\n        vertical-align: middle;\n    }\n\n    .dataframe tbody tr th {\n        vertical-align: top;\n    }\n\n    .dataframe thead th {\n        text-align: right;\n    }\n</style>\n<table border=\"1\" class=\"dataframe\">\n  <thead>\n    <tr style=\"text-align: right;\">\n      <th></th>\n      <th>Name</th>\n      <th>City</th>\n      <th>Id</th>\n    </tr>\n  </thead>\n  <tbody>\n    <tr>\n      <th>5</th>\n      <td>ACC Garage</td>\n      <td>Atlanta</td>\n      <td>57b5cdab498e0f166a705e55</td>\n    </tr>\n    <tr>\n      <th>17</th>\n      <td>Walmart Auto Care Centers</td>\n      <td>Lithia Springs</td>\n      <td>59964c64123a1921c327d959</td>\n    </tr>\n  </tbody>\n</table>\n</div>"
     },
     "metadata": {},
     "execution_count": 142
    }
   ],
   "source": [
    "atlanta_workshop_df_7"
   ]
  },
  {
   "cell_type": "code",
   "execution_count": 159,
   "metadata": {},
   "outputs": [
    {
     "output_type": "execute_result",
     "data": {
      "text/plain": [
       "'https://api.foursquare.com/v2/venues/4e8dd6a90039a2626568795f?client_id=WQAEIEJSBV3TBDMRTRKPAQWIAGVMS4MOTDRILYGOME3YH31W&client_secret=A0SHX4J5Z1Q4U52QS25QXTB352VZHTTAZVUW1NLMKYD3M2R5&v=20180605'"
      ]
     },
     "metadata": {},
     "execution_count": 159
    }
   ],
   "source": [
    "url_ACC = 'https://api.foursquare.com/v2/venues/4e8dd6a90039a2626568795f?client_id={}&client_secret={}&v={}'.format(CLIENT_ID,CLIENT_SECRET, VERSION)\n",
    "url_ACC"
   ]
  },
  {
   "cell_type": "code",
   "execution_count": 160,
   "metadata": {},
   "outputs": [],
   "source": [
    "results_ACC = requests.get(url_ACC).json()"
   ]
  },
  {
   "cell_type": "code",
   "execution_count": 162,
   "metadata": {},
   "outputs": [
    {
     "output_type": "execute_result",
     "data": {
      "text/plain": [
       "7.5"
      ]
     },
     "metadata": {},
     "execution_count": 162
    }
   ],
   "source": [
    "ACC_Rating = results_ACC['response']['venue']['rating']\n",
    "ACC_Rating"
   ]
  },
  {
   "cell_type": "code",
   "execution_count": 166,
   "metadata": {},
   "outputs": [
    {
     "output_type": "execute_result",
     "data": {
      "text/plain": [
       "'https://api.foursquare.com/v2/venues/578d276c498ed96114d44b50?client_id=WQAEIEJSBV3TBDMRTRKPAQWIAGVMS4MOTDRILYGOME3YH31W&client_secret=A0SHX4J5Z1Q4U52QS25QXTB352VZHTTAZVUW1NLMKYD3M2R5&v=20180605'"
      ]
     },
     "metadata": {},
     "execution_count": 166
    }
   ],
   "source": [
    "url_Wal = 'https://api.foursquare.com/v2/venues/578d276c498ed96114d44b50?client_id={}&client_secret={}&v={}'.format(CLIENT_ID,CLIENT_SECRET, VERSION)\n",
    "url_Wal"
   ]
  },
  {
   "cell_type": "code",
   "execution_count": 167,
   "metadata": {},
   "outputs": [],
   "source": [
    "results_Wal = requests.get(url_Wal).json()"
   ]
  },
  {
   "cell_type": "code",
   "execution_count": 168,
   "metadata": {},
   "outputs": [
    {
     "output_type": "execute_result",
     "data": {
      "text/plain": [
       "6.2"
      ]
     },
     "metadata": {},
     "execution_count": 168
    }
   ],
   "source": [
    "Wal_Rating = results_Wal['response']['venue']['rating']\n",
    "Wal_Rating"
   ]
  },
  {
   "cell_type": "code",
   "execution_count": 169,
   "metadata": {},
   "outputs": [
    {
     "output_type": "execute_result",
     "data": {
      "text/plain": [
       "                         Name            City                        Id  \\\n",
       "5                  ACC Garage         Atlanta  57b5cdab498e0f166a705e55   \n",
       "17  Walmart Auto Care Centers  Lithia Springs  59964c64123a1921c327d959   \n",
       "\n",
       "    Rating  \n",
       "5      7.5  \n",
       "17     6.2  "
      ],
      "text/html": "<div>\n<style scoped>\n    .dataframe tbody tr th:only-of-type {\n        vertical-align: middle;\n    }\n\n    .dataframe tbody tr th {\n        vertical-align: top;\n    }\n\n    .dataframe thead th {\n        text-align: right;\n    }\n</style>\n<table border=\"1\" class=\"dataframe\">\n  <thead>\n    <tr style=\"text-align: right;\">\n      <th></th>\n      <th>Name</th>\n      <th>City</th>\n      <th>Id</th>\n      <th>Rating</th>\n    </tr>\n  </thead>\n  <tbody>\n    <tr>\n      <th>5</th>\n      <td>ACC Garage</td>\n      <td>Atlanta</td>\n      <td>57b5cdab498e0f166a705e55</td>\n      <td>7.5</td>\n    </tr>\n    <tr>\n      <th>17</th>\n      <td>Walmart Auto Care Centers</td>\n      <td>Lithia Springs</td>\n      <td>59964c64123a1921c327d959</td>\n      <td>6.2</td>\n    </tr>\n  </tbody>\n</table>\n</div>"
     },
     "metadata": {},
     "execution_count": 169
    }
   ],
   "source": [
    "atlanta_workshop_df_7['Rating'] = [ACC_Rating, Wal_Rating]\n",
    "atlanta_workshop_df_7"
   ]
  },
  {
   "cell_type": "code",
   "execution_count": 174,
   "metadata": {},
   "outputs": [
    {
     "output_type": "execute_result",
     "data": {
      "text/plain": [
       "6.85"
      ]
     },
     "metadata": {},
     "execution_count": 174
    }
   ],
   "source": [
    "Average_rating_for_clu_7 = (sum(atlanta_workshop_df_7['Rating']))/2\n",
    "Average_rating_for_clu_7"
   ]
  },
  {
   "cell_type": "code",
   "execution_count": 175,
   "metadata": {},
   "outputs": [
    {
     "output_type": "stream",
     "name": "stdout",
     "text": [
      "Average rating of Cluster 4: 6.0\nAverage rating of Cluster 7: 6.85\n"
     ]
    }
   ],
   "source": [
    "print('Average rating of Cluster 4:', Average_rating_for_clu_4)\n",
    "print('Average rating of Cluster 7:', Average_rating_for_clu_7)"
   ]
  },
  {
   "source": [
    "# From the above analysis we can see that the average rating of cluster 4 is less, and the numnber of shop available is also less, therefore it is best to open shop in that Region"
   ],
   "cell_type": "markdown",
   "metadata": {}
  },
  {
   "cell_type": "code",
   "execution_count": null,
   "metadata": {},
   "outputs": [],
   "source": []
  }
 ]
}